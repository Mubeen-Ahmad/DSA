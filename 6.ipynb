{
 "cells": [
  {
   "cell_type": "markdown",
   "id": "028c30c3-ef6e-4e32-a9be-ab56f7849307",
   "metadata": {
    "tags": []
   },
   "source": [
    "<h1 style=\"text-align:center; color:#005bbd; font-size:20px; font-family:Sans-serif; font-style: oblique; text-shadow: 0 0 3px white, 0 0 1px Black;\">\n",
    "Types of Linked Lists\n",
    "</h1>"
   ]
  },
  {
   "cell_type": "markdown",
   "id": "3b55fc5f-78cd-462f-b935-5aef2e26954c",
   "metadata": {},
   "source": [
    "<body style=\"font-family: Sans-serif;\">\n",
    "    <div style=\"color: black; font-size: 15px; font-style: oblique; text-shadow: 0 0 3px white, 0 0 1px black; padding: 20px;\">\n",
    "\n",
    "# Single Linked List\n",
    "        \n",
    "- #### Single Linked List aik linear data structure hai jo nodes ka sequence hota hai. \n",
    "\n",
    "- #### Har node mein data aur next pointer hota hai jo agle node ki taraf point karta hai.\n",
    "\n",
    "<br>\n",
    "        \n",
    "- #### Node 2 parts mein hoti hai:\n",
    "    - #### Data: Jo value store hoti hai\n",
    "    - #### Next Pointer: Jo agle node ka address rakhta hai\n",
    "\n",
    "<br>    \n",
    "\n",
    "- #### Concept:\n",
    "    - #### Head : Linked list ka Fist node\n",
    "    - #### Tail\t: List ka aakhri node\n",
    "    - #### NULL : Pointer: Last node ka `next` pointer NULL hota hai \n"
   ]
  },
  {
   "cell_type": "markdown",
   "id": "14c86e90-d93e-4148-bbce-bc92ffbc0c1c",
   "metadata": {},
   "source": [
    "<img src=\"./images/10.jpg\" style=\"display: block;margin-left: auto; margin-right: auto;width:60%\">"
   ]
  },
  {
   "cell_type": "code",
   "execution_count": 9,
   "id": "d4e300af-9f64-4836-9237-6eae5967b669",
   "metadata": {
    "tags": []
   },
   "outputs": [
    {
     "data": {
      "text/markdown": [
       "80\n",
       "\n",
       "70\n",
       "\n",
       "90\n",
       "\n"
      ]
     },
     "metadata": {},
     "output_type": "display_data"
    }
   ],
   "source": [
    "#include <stdio.h>\n",
    "#include <stdlib.h>\n",
    "\n",
    "struct Node {\n",
    "    int data;\n",
    "    struct Node *next;\n",
    "};\n",
    "\n",
    "int main(){\n",
    "\n",
    "    struct Node *head , *first , *second;\n",
    "    \n",
    "    head = (struct Node *)malloc(sizeof(struct Node));\n",
    "    first = (struct Node *)malloc(sizeof(struct Node));\n",
    "    second = (struct Node *)malloc(sizeof(struct Node));\n",
    "    \n",
    "    head   -> next  = first;\n",
    "    first  -> next  = second;\n",
    "    second -> next  = NULL;\n",
    "    \n",
    "    // fill data\n",
    "    head   -> data = 80;\n",
    "    first  -> data = 70;\n",
    "    second -> data = 90;\n",
    "    \n",
    "    \n",
    "    // show value\n",
    "    struct Node *tmp = head;\n",
    "    while (tmp != NULL){\n",
    "        printf(\"%d\\n\",tmp->data);\n",
    "        tmp = tmp->next;\n",
    "    }\n",
    "    \n",
    "    return 0;\n",
    "}"
   ]
  },
  {
   "cell_type": "markdown",
   "id": "1c30fee8-f409-48be-8033-ea90569db7b9",
   "metadata": {},
   "source": [
    "<body style=\"font-family: Sans-serif;\">\n",
    "    <div style=\"color: black; font-size: 15px; font-style: oblique; text-shadow: 0 0 3px white, 0 0 1px black; padding: 20px;\">\n",
    "      In Python"
   ]
  },
  {
   "cell_type": "code",
   "execution_count": 4,
   "id": "78265b43-104d-4129-b6b1-c30383a452b1",
   "metadata": {
    "tags": []
   },
   "outputs": [
    {
     "name": "stdout",
     "output_type": "stream",
     "text": [
      "80 \n",
      "\n",
      "70 \n",
      "\n",
      "90 \n",
      "\n"
     ]
    }
   ],
   "source": [
    "class Node:\n",
    "    def __init__(self):\n",
    "        self.data = None\n",
    "        self.next = None\n",
    "\n",
    "head = Node()\n",
    "first = Node()\n",
    "second = Node()\n",
    "\n",
    "head.next = first\n",
    "first.next = second\n",
    "second.next = None\n",
    "\n",
    "# fill value\n",
    "head.data = 80\n",
    "first.data = 70\n",
    "second.data = 90\n",
    "\n",
    "# show data\n",
    "ptr = head\n",
    "while ptr != None:\n",
    "    print(ptr.data,\"\\n\")\n",
    "    ptr = ptr.next"
   ]
  },
  {
   "cell_type": "markdown",
   "id": "2991b709-3710-4f83-adae-04ed77fb7f49",
   "metadata": {},
   "source": [
    "<body style=\"font-family: Sans-serif;\">\n",
    "    <div style=\"color: black; font-size: 15px; font-style: oblique; text-shadow: 0 0 3px white, 0 0 1px black; padding: 20px;\">\n",
    "\n",
    "# Double Linked List\n",
    "        \n",
    "- #### Doubly Linked List aik linear data structure hai jo nodes ka sequence hota hai      \n",
    "<br>\n",
    "        \n",
    "- #### lekin har node mein 3 parts hote hain:\n",
    "    - #### Prev (Previous Pointer) – pichlay node ka address rakhta hai\n",
    "    - #### Data – value store karta hai\n",
    "    - #### Next (Next Pointer) – aglay node ka address rakhta hai\n",
    "\n",
    "<br>    \n",
    "\n",
    "- #### Concept:\n",
    "    - #### Head : Linked list ka Fist node\n",
    "    - #### Tail\t: List ka aakhri node\n",
    "    - #### NULL : Pointer First node ka prev aur last node ka next NULL hota hai\n",
    "    - #### Traversal (2 way) : Aap list ko aagay (forward) aur peeche (backward) dono taraf traverse kar sakte ho\n"
   ]
  },
  {
   "cell_type": "markdown",
   "id": "776b836e-7ac7-4655-8ff7-8a72248b42e5",
   "metadata": {},
   "source": [
    "<img src=\"./images/11.jpg\" style=\"display: block;margin-left: auto; margin-right: auto;width:60%\">"
   ]
  },
  {
   "cell_type": "code",
   "execution_count": 10,
   "id": "39b8a0ee-6c6c-4a81-9833-e9fb2e0e1aaf",
   "metadata": {
    "tags": []
   },
   "outputs": [
    {
     "data": {
      "text/markdown": [
       "90\n",
       "\n",
       "70\n",
       "\n",
       "80\n",
       "\n",
       "\n",
       "\n",
       "---\n",
       "\n",
       "80\n",
       "\n",
       "70\n",
       "\n",
       "90\n",
       "\n"
      ]
     },
     "metadata": {},
     "output_type": "display_data"
    }
   ],
   "source": [
    "#include <stdio.h>\n",
    "#include <stdlib.h>\n",
    "\n",
    "struct Node {\n",
    "    int data;\n",
    "    struct Node *prev;\n",
    "    struct Node *next;\n",
    "};\n",
    "\n",
    "int main(){\n",
    "\n",
    "    struct Node *head , *first , *second;\n",
    "    \n",
    "    head = (struct Node *)malloc(sizeof(struct Node));\n",
    "    first = (struct Node *)malloc(sizeof(struct Node));\n",
    "    second = (struct Node *)malloc(sizeof(struct Node));\n",
    "    \n",
    "    head   -> prev = NULL;\n",
    "    head   -> next  = first;\n",
    "    \n",
    "    first  -> prev  = head;\n",
    "    first  -> next  = second;\n",
    "    \n",
    "    second -> prev  = first;\n",
    "    second -> next = NULL;\n",
    "    \n",
    "    \n",
    "    // fill data\n",
    "    head   -> data = 80;\n",
    "    first  -> data = 70;\n",
    "    second -> data = 90;\n",
    "    \n",
    "    \n",
    "    // reverse traverse with prev\n",
    "    struct Node *tmp = second;\n",
    "    while(tmp != NULL){\n",
    "        printf(\"%d\\n\",tmp->data);\n",
    "        tmp = tmp->prev;\n",
    "    } \n",
    "    \n",
    "    printf(\"\\n---\\n\");\n",
    "    \n",
    "    // traverse with next\n",
    "    struct Node *ptr = head;\n",
    "    while(ptr != NULL){\n",
    "        printf(\"%d\\n\",ptr->data);\n",
    "        ptr = ptr->next;\n",
    "    } \n",
    "    \n",
    "    \n",
    "    return 0;\n",
    "}"
   ]
  },
  {
   "cell_type": "markdown",
   "id": "323ceeb9-8c72-4475-8fe4-685d6d2c2b71",
   "metadata": {},
   "source": [
    "<body style=\"font-family: Sans-serif;\">\n",
    "    <div style=\"color: black; font-size: 15px; font-style: oblique; text-shadow: 0 0 3px white, 0 0 1px black; padding: 20px;\">\n",
    "      In Python"
   ]
  },
  {
   "cell_type": "code",
   "execution_count": 7,
   "id": "5ed3684c-3df2-4bb9-85c4-8ce9cdc0146b",
   "metadata": {
    "tags": []
   },
   "outputs": [
    {
     "name": "stdout",
     "output_type": "stream",
     "text": [
      "90 \n",
      "\n",
      "70 \n",
      "\n",
      "80 \n",
      "\n",
      "----------------\n",
      "\n",
      "80 \n",
      "\n",
      "70 \n",
      "\n",
      "90 \n",
      "\n"
     ]
    }
   ],
   "source": [
    "class Node:\n",
    "    def __init__(self):\n",
    "        self.data = None\n",
    "        self.prev = None\n",
    "        self.next = None\n",
    "        \n",
    "\n",
    "head = Node()\n",
    "first = Node()\n",
    "second = Node()\n",
    "\n",
    "head.next = first\n",
    "head.prev = None\n",
    "\n",
    "first.next = second\n",
    "first.prev = head\n",
    "\n",
    "second.next = None\n",
    "second.prev = first\n",
    "\n",
    "# fill value\n",
    "head.data = 80\n",
    "first.data = 70\n",
    "second.data = 90\n",
    "\n",
    "# reverse traverse\n",
    "ptr = second\n",
    "while ptr != None:\n",
    "    print(ptr.data,\"\\n\")\n",
    "    ptr = ptr.prev\n",
    "\n",
    "print(\"----------------\\n\")\n",
    "    \n",
    "# traverse\n",
    "ptr = head\n",
    "while ptr != None:\n",
    "    print(ptr.data,\"\\n\")\n",
    "    ptr = ptr.next"
   ]
  },
  {
   "cell_type": "markdown",
   "id": "2f8697bb-b58b-448d-bed0-198498a26d57",
   "metadata": {},
   "source": [
    "<body style=\"font-family: Sans-serif;\">\n",
    "    <div style=\"color: black; font-size: 15px; font-style: oblique; text-shadow: 0 0 3px white, 0 0 1px black; padding: 20px;\">\n",
    "\n",
    "# Circular Linked List\n",
    "        \n",
    "- #### Circular Linked List aik linear data structure hai jisme nodes ka sequence circular hota hai\n",
    "    - #### yaani last node ka pointer wapas first node ko point karta hai.       \n",
    "\n",
    "---  \n",
    "<br>\n",
    "        \n",
    "- #### Types of Circular Linked List:\n",
    "    - #### 1. Singly Circular Linked List:\n",
    "        - #### Har node mein 2 parts hotay hain\n",
    "            - #### Data\n",
    "            - #### Next Pointer\n",
    "        - #### Last node ka next → pehle (head) node ko point karta hai."
   ]
  },
  {
   "cell_type": "markdown",
   "id": "194f2bdd-d69e-40a9-8af4-a0a6de46eef5",
   "metadata": {},
   "source": [
    "<img src=\"./images/12.jpg\" style=\"display: block;margin-left: auto; margin-right: auto;width:60%\">"
   ]
  },
  {
   "cell_type": "code",
   "execution_count": 2,
   "id": "33891cac-9cce-4e6a-9ae8-b5d12431e12b",
   "metadata": {
    "tags": []
   },
   "outputs": [
    {
     "data": {
      "text/markdown": [
       "10\n",
       "\n",
       "20\n",
       "\n",
       "30\n",
       "\n"
      ]
     },
     "metadata": {},
     "output_type": "display_data"
    }
   ],
   "source": [
    "#include <stdio.h>\n",
    "#include <stdlib.h>\n",
    "\n",
    "struct Node {\n",
    "    int data;\n",
    "    struct Node* next;\n",
    "};\n",
    "\n",
    "int main() {\n",
    "    struct Node *head, *first, *second;\n",
    "\n",
    "    head = (struct Node*)malloc(sizeof(struct Node));\n",
    "    first = (struct Node*)malloc(sizeof(struct Node));\n",
    "    second = (struct Node*)malloc(sizeof(struct Node));\n",
    "\n",
    "    head->data = 10;\n",
    "    first->data = 20;\n",
    "    second->data = 30;\n",
    "\n",
    "    head->next = first;\n",
    "    first->next = second;\n",
    "    second->next = head; \n",
    "\n",
    "    struct Node *temp = head;\n",
    "    \n",
    "    printf(\"%d\\n\",temp->data);\n",
    "    temp = temp->next;\n",
    "    \n",
    "    while (temp != head){\n",
    "        printf(\"%d\\n\",temp->data);\n",
    "        temp = temp->next;\n",
    "    }\n",
    "    \n",
    "    return 0;\n",
    "}"
   ]
  },
  {
   "cell_type": "markdown",
   "id": "c8af193e-fabe-49a2-8f18-e39537bd5f18",
   "metadata": {},
   "source": [
    "<body style=\"font-family: Sans-serif;\">\n",
    "    <div style=\"color: black; font-size: 15px; font-style: oblique; text-shadow: 0 0 3px white, 0 0 1px black; padding: 20px;\">\n",
    "      In Python"
   ]
  },
  {
   "cell_type": "code",
   "execution_count": 1,
   "id": "84210c3c-950d-4b09-993d-62e650999b58",
   "metadata": {
    "tags": []
   },
   "outputs": [
    {
     "name": "stdout",
     "output_type": "stream",
     "text": [
      "10\n",
      "20\n",
      "30\n"
     ]
    }
   ],
   "source": [
    "class Node:\n",
    "    def __init__(self):\n",
    "        self.data = None\n",
    "        self.next = None\n",
    "\n",
    "head = Node()\n",
    "first = Node()\n",
    "second = Node()\n",
    "\n",
    "head.next = first\n",
    "first.next = second\n",
    "second.next = head\n",
    "\n",
    "# fill value\n",
    "head.data = 10\n",
    "first.data = 20\n",
    "second.data = 30\n",
    "\n",
    "# show data\n",
    "ptr = head\n",
    "print(ptr.data)\n",
    "ptr = ptr.next\n",
    "\n",
    "while ptr != head:\n",
    "    print(ptr.data)\n",
    "    ptr = ptr.next"
   ]
  },
  {
   "cell_type": "markdown",
   "id": "5ed44cf5-7160-43d1-b0e5-c54b66f85a61",
   "metadata": {},
   "source": [
    "<body style=\"font-family: Sans-serif;\">\n",
    "    <div style=\"color: black; font-size: 15px; font-style: oblique; text-shadow: 0 0 3px white, 0 0 1px black; padding: 20px;\">\n",
    "        \n",
    "- #### 2. Doubly Circular Linked List:\n",
    "    - #### Har node mein 3 parts hotay hain\n",
    "        - #### Data\n",
    "        - #### Next Pointer\n",
    "        - #### Previous Pointer\n",
    "        \n",
    "    - #### First node ka prev → last node ko point karta hai.\n",
    "    - #### Last node ka next → first node ko point karta hai."
   ]
  },
  {
   "cell_type": "markdown",
   "id": "645032ec-d503-4d3b-be15-d0e36cb8e2fb",
   "metadata": {},
   "source": [
    "<img src=\"./images/13.jpg\" style=\"display: block;margin-left: auto; margin-right: auto;width:60%\">"
   ]
  },
  {
   "cell_type": "code",
   "execution_count": 3,
   "id": "951e5b4d-aa3a-4939-b21f-bdefb9774447",
   "metadata": {
    "tags": []
   },
   "outputs": [
    {
     "data": {
      "text/markdown": [
       "10\n",
       "\n",
       "20\n",
       "\n",
       "30\n",
       "\n",
       "\n",
       "\n",
       "---\n",
       "\n",
       "30\n",
       "\n",
       "20\n",
       "\n",
       "10\n",
       "\n"
      ]
     },
     "metadata": {},
     "output_type": "display_data"
    }
   ],
   "source": [
    "#include <stdio.h>\n",
    "#include <stdlib.h>\n",
    "\n",
    "struct Node {\n",
    "    int data;\n",
    "    struct Node* next;\n",
    "    struct Node* prev;\n",
    "    \n",
    "};\n",
    "\n",
    "int main() {\n",
    "    struct Node *head, *first, *second;\n",
    "\n",
    "    head = (struct Node*)malloc(sizeof(struct Node));\n",
    "    first = (struct Node*)malloc(sizeof(struct Node));\n",
    "    second = (struct Node*)malloc(sizeof(struct Node));\n",
    "\n",
    "    head->data = 10;\n",
    "    first->data = 20;\n",
    "    second->data = 30;\n",
    "\n",
    "    head   -> prev = second;\n",
    "    head   -> next  = first;\n",
    "    \n",
    "    first  -> prev  = head;\n",
    "    first  -> next  = second;\n",
    "    \n",
    "    second -> prev  = first;\n",
    "    second -> next = head;\n",
    "    \n",
    "\n",
    "    struct Node *temp = head;\n",
    "    printf(\"%d\\n\",temp->data);\n",
    "    temp = temp->next;\n",
    "    \n",
    "    while (temp != head){\n",
    "        printf(\"%d\\n\",temp->data);\n",
    "        temp = temp->next;\n",
    "    }\n",
    "    \n",
    "    \n",
    "    printf(\"\\n---\\n\");\n",
    "    \n",
    "    // reverse\n",
    "    \n",
    "    struct Node *ptr = second;\n",
    "    printf(\"%d\\n\",ptr->data);\n",
    "    ptr = ptr->prev;\n",
    "    \n",
    "    while (ptr != second){\n",
    "        printf(\"%d\\n\",ptr->data);\n",
    "        ptr = ptr->prev;\n",
    "    }\n",
    "    \n",
    "    \n",
    "    return 0;\n",
    "}"
   ]
  },
  {
   "cell_type": "markdown",
   "id": "2fc34dbf-1b72-4d24-8108-e591eac1f330",
   "metadata": {},
   "source": [
    "<body style=\"font-family: Sans-serif;\">\n",
    "    <div style=\"color: black; font-size: 15px; font-style: oblique; text-shadow: 0 0 3px white, 0 0 1px black; padding: 20px;\">\n",
    "      In Python"
   ]
  },
  {
   "cell_type": "code",
   "execution_count": 3,
   "id": "8b1697de-a08c-4f0a-af48-f40efd8289a6",
   "metadata": {
    "tags": []
   },
   "outputs": [
    {
     "name": "stdout",
     "output_type": "stream",
     "text": [
      "10\n",
      "20\n",
      "30\n",
      "\n",
      "-------------------\n",
      "\n",
      "30\n",
      "20\n",
      "10\n"
     ]
    }
   ],
   "source": [
    "class Node:\n",
    "    def __init__(self):\n",
    "        self.data = None\n",
    "        self.prev = None\n",
    "        self.next = None\n",
    "        \n",
    "\n",
    "head = Node()\n",
    "first = Node()\n",
    "second = Node()\n",
    "\n",
    "head.next = first\n",
    "head.prev = second\n",
    "\n",
    "first.next = second\n",
    "first.prev = head\n",
    "\n",
    "second.next = head\n",
    "second.prev = first\n",
    "\n",
    "# fill value\n",
    "head.data = 10\n",
    "first.data = 20\n",
    "second.data = 30\n",
    "\n",
    "\n",
    "ptr = head\n",
    "\n",
    "print(ptr.data)\n",
    "ptr = ptr.next\n",
    "\n",
    "while ptr != head:\n",
    "    print(ptr.data)\n",
    "    ptr = ptr.next\n",
    "    \n",
    "print(\"\\n-------------------\\n\")\n",
    "\n",
    "ptr = second\n",
    "print(ptr.data)\n",
    "ptr = ptr.prev\n",
    "\n",
    "while ptr != second:\n",
    "    print(ptr.data)\n",
    "    ptr = ptr.prev"
   ]
  }
 ],
 "metadata": {
  "kernelspec": {
   "display_name": "Python 3 (ipykernel)",
   "language": "python",
   "name": "python3"
  },
  "language_info": {
   "codemirror_mode": {
    "name": "ipython",
    "version": 3
   },
   "file_extension": ".py",
   "mimetype": "text/x-python",
   "name": "python",
   "nbconvert_exporter": "python",
   "pygments_lexer": "ipython3",
   "version": "3.10.12"
  }
 },
 "nbformat": 4,
 "nbformat_minor": 5
}
