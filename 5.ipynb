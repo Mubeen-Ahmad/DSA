{
 "cells": [
  {
   "cell_type": "markdown",
   "id": "3d2d6645-5fc7-403e-ad49-cf0c1b11e0b6",
   "metadata": {},
   "source": [
    "<h1 style=\"text-align:center; color:#005bbd; font-size:20px; font-family:Sans-serif; font-style: oblique; text-shadow: 0 0 3px white, 0 0 1px Black;\">\n",
    "Linked Lists\n",
    "</h1>"
   ]
  },
  {
   "cell_type": "markdown",
   "id": "8508526f-cf44-4027-b348-5186e9a65b83",
   "metadata": {},
   "source": [
    "<body style=\"font-family: Sans-serif;\">\n",
    "    <div style=\"color: black; font-size: 15px; font-style: oblique; text-shadow: 0 0 3px white, 0 0 1px black; padding: 20px;\">\n",
    "      \n",
    "- #### Linked list ek aisi data structure hai jo elements (data) ko nodes ke roop mein store karti hai. Har node mein do chizein hoti hain:\n",
    "    - #### Data: Jo value store hoti hai\n",
    "    - #### Next Pointer: Jo agle node ka address rakhta hai\n"
   ]
  },
  {
   "cell_type": "code",
   "execution_count": 223,
   "id": "31b3da22-40f4-4f70-a8d3-04fc2900a718",
   "metadata": {
    "tags": []
   },
   "outputs": [
    {
     "data": {
      "text/markdown": [
       "n1.data is 1 | n1 Address 1148157440 | n1.next 1148157456\n",
       "\n",
       "n2.data is 2 | n2 Address 1148157456 | n2.next 1148157472\n",
       "\n",
       "n3.data is 3 | n3 Address 1148157472 | n3.next 0"
      ]
     },
     "metadata": {},
     "output_type": "display_data"
    }
   ],
   "source": [
    "#include <stdio.h>\n",
    "\n",
    "struct node{\n",
    "    int data;\n",
    "    struct node *next;\n",
    "};\n",
    "\n",
    "\n",
    "int main(){\n",
    "\n",
    "    struct node n1,n2,n3;\n",
    "    \n",
    "    // fill data\n",
    "    n1.data = 1;\n",
    "    n2.data = 2;\n",
    "    n3.data = 3;\n",
    "    \n",
    "    //linked\n",
    "    n1.next = &n2;\n",
    "    n2.next = &n3;\n",
    "    n3.next = NULL;\n",
    "    \n",
    "  \n",
    "    printf(\"n1.data is %d | n1 Address %u | n1.next %u\",n1.data,&n1,n1.next);\n",
    "    printf(\"\\nn2.data is %d | n2 Address %u | n2.next %u\",n2.data,&n2,n2.next);\n",
    "    printf(\"\\nn3.data is %d | n3 Address %u | n3.next %u\",n3.data,&n3,n3.next);\n",
    "    \n",
    "\n",
    "}"
   ]
  },
  {
   "cell_type": "markdown",
   "id": "d98591f5-b734-4bf8-b442-e236a72f4ee2",
   "metadata": {},
   "source": [
    "<img src=\"./images/5.jpg\" style=\"display: block;margin-left: auto; margin-right: auto;width:60%\">"
   ]
  },
  {
   "cell_type": "markdown",
   "id": "216b6dd6-6119-46ec-81ce-b31b6653e62d",
   "metadata": {
    "tags": []
   },
   "source": [
    "<body style=\"font-family: Sans-serif;\">\n",
    "    <div style=\"color: black; font-size: 15px; font-style: oblique; text-shadow: 0 0 3px white, 0 0 1px black; padding: 20px;\">\n",
    "Access n3.data with n1"
   ]
  },
  {
   "cell_type": "code",
   "execution_count": 257,
   "id": "c5664122-ca09-4936-b986-c6c3915ad462",
   "metadata": {
    "tags": []
   },
   "outputs": [
    {
     "data": {
      "text/markdown": [
       "3"
      ]
     },
     "metadata": {},
     "output_type": "display_data"
    }
   ],
   "source": [
    "#include <stdio.h>\n",
    "\n",
    "struct node{\n",
    "    int data;\n",
    "    struct node *next;\n",
    "};\n",
    "\n",
    "\n",
    "int main(){\n",
    "\n",
    "    struct node n1,n2,n3;\n",
    "    \n",
    "    // fill data\n",
    "    n1.data = 1;\n",
    "    n2.data = 2;\n",
    "    n3.data = 3;\n",
    "    \n",
    "    //linked\n",
    "    n1.next = &n2;\n",
    "    n2.next = &n3;\n",
    "    n3.next = NULL;\n",
    "  \n",
    "    printf(\"%d\",n1.next->next->data);\n",
    "    \n",
    "\n",
    "}"
   ]
  },
  {
   "cell_type": "markdown",
   "id": "5b9333b0-c6f6-4a60-b7c4-cbb75874a0c6",
   "metadata": {
    "tags": []
   },
   "source": [
    "<body style=\"font-family: Sans-serif;\">\n",
    "    <div style=\"color: black; font-size: 15px; font-style: oblique; text-shadow: 0 0 3px white, 0 0 1px black; padding: 20px;\">\n",
    "      In Python"
   ]
  },
  {
   "cell_type": "code",
   "execution_count": 9,
   "id": "97a33236-96f9-42ea-97a2-f52eb9f60001",
   "metadata": {
    "tags": []
   },
   "outputs": [
    {
     "name": "stdout",
     "output_type": "stream",
     "text": [
      "1\n",
      "2\n",
      "3\n"
     ]
    }
   ],
   "source": [
    "class Node:\n",
    "    data = None\n",
    "    next = None\n",
    "    \n",
    "n1 = Node()\n",
    "n2 = Node()\n",
    "n3 = Node()\n",
    "\n",
    "# fill data\n",
    "n1.data = 1;\n",
    "n2.data = 2;\n",
    "n3.data = 3;\n",
    "    \n",
    "# linked\n",
    "n1.next = n2\n",
    "n2.next = n3\n",
    "n3.next = None\n",
    "\n",
    "print(n1.data)\n",
    "print(n2.data)\n",
    "print(n3.data)"
   ]
  },
  {
   "cell_type": "markdown",
   "id": "9c42d160-a24a-4ff6-8fd8-1c2c586383a3",
   "metadata": {},
   "source": [
    "<body style=\"font-family: Sans-serif;\">\n",
    "    <div style=\"color: black; font-size: 15px; font-style: oblique; text-shadow: 0 0 3px white, 0 0 1px black; padding: 20px;\">\n",
    "Access n3.data with n1"
   ]
  },
  {
   "cell_type": "code",
   "execution_count": 14,
   "id": "f6e297b8-aa77-4360-95c6-c0cc816c7e8c",
   "metadata": {
    "tags": []
   },
   "outputs": [
    {
     "name": "stdout",
     "output_type": "stream",
     "text": [
      "3\n"
     ]
    }
   ],
   "source": [
    "print(n1.next.next.data)"
   ]
  },
  {
   "cell_type": "markdown",
   "id": "cac2513b-cf31-4e91-a02e-95d785cd4e99",
   "metadata": {},
   "source": [
    "<h1 style=\"text-align:center; color:#005bbd; font-size:20px; font-family:Sans-serif; font-style: oblique; text-shadow: 0 0 3px white, 0 0 1px Black;\">\n",
    "Static and Dynamic Linked list\n",
    "</h1>"
   ]
  },
  {
   "cell_type": "markdown",
   "id": "07dbcb07-1c92-4ff5-acdd-be1922811e9a",
   "metadata": {},
   "source": [
    "<body style=\"font-family: Sans-serif;\">\n",
    "    <div style=\"color: black; font-size: 15px; font-style: oblique; text-shadow: 0 0 3px white, 0 0 1px black; padding: 20px;\">\n",
    "\n",
    "### Static Linked List\n",
    "\n",
    "- #### Static linked list wo hoti hai jisme nodes ko pehle se banaya jata hai (compile time par), bina dynamic memory (malloc) use kiye\n",
    "    - #### Memory compile time par fix hoti hai\n",
    "    - #### Aap manually nodes banate ho.\n",
    "    - #### Ye sirf tab sahi hota hai jab aapko exact number of nodes pehle se pata ho.\n",
    "\n",
    "\n",
    "### real-world applications mein static linked list ka use nahi kia jata"
   ]
  },
  {
   "cell_type": "code",
   "execution_count": 1,
   "id": "3ecedc61-6628-4b2e-ac93-b7f9691c799f",
   "metadata": {},
   "outputs": [
    {
     "data": {
      "text/markdown": [
       "10\n",
       "\n",
       "20\n",
       "\n",
       "30\n",
       "\n"
      ]
     },
     "metadata": {},
     "output_type": "display_data"
    }
   ],
   "source": [
    "#include <stdio.h>\n",
    "struct node {\n",
    "    int data;\n",
    "    struct node *next;\n",
    "};\n",
    "\n",
    "int main() {\n",
    "    struct node n1, n2, n3;\n",
    "\n",
    "    n1.data = 10;\n",
    "    n2.data = 20;\n",
    "    n3.data = 30;\n",
    "\n",
    "    n1.next = &n2;\n",
    "    n2.next = &n3;\n",
    "    n3.next = NULL;\n",
    "\n",
    "    // print values\n",
    "    printf(\"%d\\n\", n1.data);           // 10\n",
    "    printf(\"%d\\n\", n1.next->data);     // 20\n",
    "    printf(\"%d\\n\", n1.next->next->data); // 30\n",
    "\n",
    "    return 0;\n",
    "}"
   ]
  },
  {
   "cell_type": "markdown",
   "id": "2e2a1079-7ed6-43d0-b36a-6d589515750a",
   "metadata": {
    "tags": []
   },
   "source": [
    "<body style=\"font-family: Sans-serif;\">\n",
    "    <div style=\"color: black; font-size: 15px; font-style: oblique; text-shadow: 0 0 3px white, 0 0 1px black; padding: 20px;\">\n",
    "\n",
    "### In Python\n",
    "- #### Note: Python mein technically sab dynamic hota hai\n",
    "- #### lekin agar aap pehle se nodes banao aur fixed rakho, to usay static linked list jesa treat kiya ja sakta hai."
   ]
  },
  {
   "cell_type": "code",
   "execution_count": 1,
   "id": "da850ec4-3991-4e54-b4f9-1f86169cd501",
   "metadata": {
    "tags": []
   },
   "outputs": [
    {
     "name": "stdout",
     "output_type": "stream",
     "text": [
      "10\n",
      "20\n",
      "30\n"
     ]
    }
   ],
   "source": [
    "class Node:\n",
    "    data = None\n",
    "    next = None\n",
    "    \n",
    "n1 = Node()\n",
    "n2 = Node()\n",
    "n3 = Node()\n",
    "\n",
    "# fill data\n",
    "n1.data = 10;\n",
    "n2.data = 20;\n",
    "n3.data = 30;\n",
    "    \n",
    "# linked\n",
    "n1.next = n2\n",
    "n2.next = n3\n",
    "n3.next = None\n",
    "\n",
    "print(n1.data)\n",
    "print(n2.data)\n",
    "print(n3.data)"
   ]
  },
  {
   "cell_type": "markdown",
   "id": "251d4db1-ee34-4d97-9548-68854b3a9e8f",
   "metadata": {},
   "source": [
    "<body style=\"font-family: Sans-serif;\">\n",
    "    <div style=\"color: black; font-size: 15px; font-style: oblique; text-shadow: 0 0 3px white, 0 0 1px black; padding: 20px;\">\n",
    "\n",
    "### Dynamic Linked List\n",
    "\n",
    "- #### Dynamic linked list wo hoti hai jisme nodes ko run-time par create kiya jata hai (jaise C mein malloc() se hota hai), jisme memory dynamically allocate hoti hai, aur aap jitni chahein utni nodes bana sakte ho.\n",
    "    - #### Memory run-time par allocate hoti hai.\n",
    "    - #### Number of nodes pehle se fix nahi hota."
   ]
  },
  {
   "cell_type": "code",
   "execution_count": 24,
   "id": "7fec82bd-3814-4e4f-9f5b-4ce28276f64d",
   "metadata": {
    "tags": []
   },
   "outputs": [
    {
     "data": {
      "text/markdown": [
       "10\n",
       "\n",
       "20\n",
       "\n",
       "30\n",
       "\n",
       "\n",
       "\n",
       "---\n",
       "\n",
       "Access n3.data with n1\n",
       "\n",
       "30"
      ]
     },
     "metadata": {},
     "output_type": "display_data"
    }
   ],
   "source": [
    "#include <stdio.h>\n",
    "#include <stdlib.h>\n",
    "\n",
    "struct node{\n",
    "    int data;\n",
    "    struct node *next;\n",
    "};\n",
    "\n",
    "int main(){\n",
    "\n",
    "    struct node *n1 = (struct node *)malloc(sizeof(struct node));\n",
    "    struct node *n2 = (struct node *)malloc(sizeof(struct node));\n",
    "    struct node *n3 = (struct node *)malloc(sizeof(struct node));\n",
    "    \n",
    "    // fill data\n",
    "    n1->data = 10;\n",
    "    n2->data = 20;\n",
    "    n3->data = 30;\n",
    "    \n",
    "    // linked\n",
    "    n1->next = n2;\n",
    "    n2->next = n3;\n",
    "    n3->next = NULL;\n",
    "    \n",
    "    printf(\"%d\\n\", n1->data);         \n",
    "    printf(\"%d\\n\", n2->data);  \n",
    "    printf(\"%d\\n\", n3->data);\n",
    "    \n",
    "    printf(\"\\n---\");\n",
    "    printf(\"\\nAccess n3.data with n1\");\n",
    "    printf(\"\\n%d\", n1->next->next->data);\n",
    "    \n",
    "    free(n1);\n",
    "    free(n2);\n",
    "    free(n3);\n",
    "    \n",
    "    return 0;\n",
    "}"
   ]
  },
  {
   "cell_type": "markdown",
   "id": "70546a2d-5c08-4712-98fc-35df29e85650",
   "metadata": {},
   "source": [
    "<body style=\"font-family: Sans-serif;\">\n",
    "    <div style=\"color: black; font-size: 15px; font-style: oblique; text-shadow: 0 0 3px white, 0 0 1px black; padding: 20px;\">\n",
    "      In Python"
   ]
  },
  {
   "cell_type": "code",
   "execution_count": 1,
   "id": "6bdee070-1d31-4644-80d0-4542be838195",
   "metadata": {
    "tags": []
   },
   "outputs": [
    {
     "name": "stdout",
     "output_type": "stream",
     "text": [
      "10\n",
      "20\n",
      "30\n",
      "\n",
      "Access n3.data with n1\n",
      "30\n"
     ]
    }
   ],
   "source": [
    "class Node:\n",
    "    data = None\n",
    "    next = None\n",
    "    \n",
    "n1 = Node()\n",
    "n2 = Node()\n",
    "n3 = Node()\n",
    "\n",
    "# fill data\n",
    "n1.data = 10;\n",
    "n2.data = 20;\n",
    "n3.data = 30;\n",
    "    \n",
    "# linked\n",
    "n1.next = n2\n",
    "n2.next = n3\n",
    "n3.next = None\n",
    "\n",
    "print(n1.data)\n",
    "print(n2.data)\n",
    "print(n3.data)\n",
    "\n",
    "print(\"\\nAccess n3.data with n1\")\n",
    "print(n1.next.next.data)"
   ]
  },
  {
   "cell_type": "markdown",
   "id": "17ef8e19-eebb-4b85-98fc-66db85b9b3bc",
   "metadata": {},
   "source": [
    "<h1 style=\"text-align:center; color:#005bbd; font-size:20px; font-family:Sans-serif; font-style: oblique; text-shadow: 0 0 3px white, 0 0 1px Black;\">\n",
    "Node , Head , Tail\n",
    "</h1>"
   ]
  },
  {
   "cell_type": "markdown",
   "id": "43c4ad42-1b7c-4026-bf59-99f0d585a04f",
   "metadata": {},
   "source": [
    "<body style=\"font-family: Sans-serif;\">\n",
    "    <div style=\"color: black; font-size: 15px; font-style: oblique; text-shadow: 0 0 3px white, 0 0 1px black; padding: 20px;\">\n",
    "\n",
    "### Node\n",
    "\n",
    "- #### Node ek structure ya unit hota hai jo 2 cheezein hold karta hai:\n",
    "    - #### Data → jo actual value hoti hai \n",
    "    - #### Pointer (next) → jo next node ka address hold karta hai.\n"
   ]
  },
  {
   "cell_type": "code",
   "execution_count": 5,
   "id": "9c56c933-4dc7-4ff4-b48d-76725de42c08",
   "metadata": {
    "tags": []
   },
   "outputs": [],
   "source": [
    "struct node {\n",
    "    int data;            // Value store karta hai\n",
    "    struct node *next;   // Next node ka address store karta hai\n",
    "};\n",
    "\n",
    "struct node *n1 = (struct node *)malloc(sizeof(struct node));\n",
    "struct node *n2 = (struct node *)malloc(sizeof(struct node));\n",
    "struct node *n3 = (struct node *)malloc(sizeof(struct node));\n",
    "\n",
    "// Yahann n1,n2,n3 3 nodes hn"
   ]
  },
  {
   "cell_type": "markdown",
   "id": "4e7a092c-82da-444d-8a7b-b9add9f7d198",
   "metadata": {},
   "source": [
    "<body style=\"font-family: Sans-serif;\">\n",
    "    <div style=\"color: black; font-size: 15px; font-style: oblique; text-shadow: 0 0 3px white, 0 0 1px black; padding: 20px;\">\n",
    "\n",
    "### Head\n",
    "\n",
    "- #### Head wo pointer hota hai jo Linked List ke pehle (first) node ko point karta hai.\n",
    "    - #### Head = starting point\n",
    "    - #### Agar head khatam (NULL) hai, to list empty hai.\n",
    "    - #### Agar head kisi node ko point kar raha hai, to usi se puri list ko traverse (read) karte hain.\n"
   ]
  },
  {
   "cell_type": "code",
   "execution_count": 6,
   "id": "2ee828a7-90cf-46a5-a8dd-1f96b2939ed4",
   "metadata": {
    "tags": []
   },
   "outputs": [],
   "source": [
    "struct node {\n",
    "    int data;\n",
    "    struct node *next;\n",
    "};\n",
    "\n",
    "struct node *head = NULL;\n",
    "struct node *second = NULL;\n",
    "struct node *third = NULL;\n",
    "\n",
    "// Dynamically allocate memory\n",
    "head = (struct node*)malloc(sizeof(struct node));\n",
    "second = (struct node*)malloc(sizeof(struct node));\n",
    "third = (struct node*)malloc(sizeof(struct node));"
   ]
  },
  {
   "cell_type": "markdown",
   "id": "93aaff38-d0eb-4a7c-b0fd-a64c2c5e22ab",
   "metadata": {},
   "source": [
    "<body style=\"font-family: Sans-serif;\">\n",
    "    <div style=\"color: black; font-size: 15px; font-style: oblique; text-shadow: 0 0 3px white, 0 0 1px black; padding: 20px;\">\n",
    "\n",
    "### Tail\n",
    "\n",
    "- #### Tail wo last node hoti hai jo kisi bhi next node ko point nahi karti.\n",
    "    - #### Tail node ka next hamesha NULL hota hai.\n",
    "    - #### Tail node batati hai ke list ka yahan end hota hai.\n",
    "    - #### Jab hum traversal karte hain, hum next == NULL pe rukte hain — wahi Tail hoti hai.\n",
    "    - #### Jab naye node insert karne hote hain end mein, to Tail par jaakar tail->next = newNode karte hain."
   ]
  },
  {
   "cell_type": "code",
   "execution_count": 8,
   "id": "04d78790-c213-4d74-a870-e5f06fab688e",
   "metadata": {
    "tags": []
   },
   "outputs": [],
   "source": [
    "struct node {\n",
    "    int data;\n",
    "    struct node *next;\n",
    "};\n",
    "\n",
    "struct node *head, *second, *tail;\n",
    "\n",
    "head = (struct node*)malloc(sizeof(struct node));\n",
    "second = (struct node*)malloc(sizeof(struct node));\n",
    "tail = (struct node*)malloc(sizeof(struct node));\n",
    "\n",
    "head->data = 10;\n",
    "head->next = second;\n",
    "\n",
    "second->data = 20;\n",
    "second->next = tail;\n",
    "\n",
    "tail->data = 30;\n",
    "tail->next = NULL;  // ← important: tail ka next NULL hota hai"
   ]
  },
  {
   "cell_type": "markdown",
   "id": "0ad79fbc-a965-4b46-a07e-a0ae6546cd95",
   "metadata": {
    "tags": []
   },
   "source": [
    "<body style=\"font-family: Sans-serif;\">\n",
    "    <div style=\"color: black; font-size: 15px; font-style: oblique; text-shadow: 0 0 3px white, 0 0 1px black; padding: 20px;\">\n",
    "\n",
    "### Example 1\n",
    "- ### Inserting at Start"
   ]
  },
  {
   "cell_type": "markdown",
   "id": "35c26a52-4572-471e-8d9d-8870d17e694d",
   "metadata": {},
   "source": [
    "<img src=\"./images/6.jpg\" style=\"display: block;margin-left: auto; margin-right: auto;width:60%\">"
   ]
  },
  {
   "cell_type": "code",
   "execution_count": 57,
   "id": "4443ad20-85ce-44a1-abb7-f22c9088adb1",
   "metadata": {
    "tags": []
   },
   "outputs": [
    {
     "data": {
      "text/markdown": [
       "30\n",
       "\n",
       "20\n",
       "\n",
       "10\n",
       "\n"
      ]
     },
     "metadata": {},
     "output_type": "display_data"
    }
   ],
   "source": [
    "#include <stdio.h>\n",
    "#include <stdlib.h>\n",
    "\n",
    "struct Node{\n",
    "    int data;\n",
    "    struct Node *next;\n",
    "};\n",
    "\n",
    "// create a null head Pointer\n",
    "struct Node *head = NULL;\n",
    "\n",
    "void add_start(int data){\n",
    "\n",
    "        struct Node *new_node = (struct Node*)malloc(sizeof(struct Node));\n",
    "        \n",
    "        new_node -> data = data;\n",
    "        \n",
    "        // connect at the start\n",
    "        new_node -> next = head;\n",
    "    \n",
    "        // now change head to the new node\n",
    "        head = new_node;\n",
    "\n",
    "}\n",
    "\n",
    "\n",
    "\n",
    "int main(){\n",
    "    \n",
    "    add_start(10);\n",
    "    add_start(20);\n",
    "    add_start(30);\n",
    "\n",
    "    \n",
    "    struct Node *ptr = head;\n",
    "    while(ptr != NULL){\n",
    "        printf(\"%d\\n\",ptr->data);\n",
    "        \n",
    "        ptr = ptr->next;\n",
    "    }\n",
    "    \n",
    "    return 0;\n",
    "}"
   ]
  },
  {
   "cell_type": "markdown",
   "id": "2f37b319-f73f-41c0-b2a1-4f444add81ee",
   "metadata": {},
   "source": [
    "<body style=\"font-family: Sans-serif;\">\n",
    "    <div style=\"color: black; font-size: 15px; font-style: oblique; text-shadow: 0 0 3px white, 0 0 1px black; padding: 20px;\">\n",
    "      In Python"
   ]
  },
  {
   "cell_type": "code",
   "execution_count": 5,
   "id": "9a0f1559-bfd1-442e-a19f-4abaa789c17f",
   "metadata": {
    "tags": []
   },
   "outputs": [],
   "source": [
    "class Node:\n",
    "    def __init__(self,data):\n",
    "        self.data = data\n",
    "        self.next = None\n",
    "\n",
    "class List:\n",
    "    def __init__(self):\n",
    "        self.head = None\n",
    "        \n",
    "    def add_start(self,data):\n",
    "        new_node = Node(data)\n",
    "        \n",
    "        new_node.next = self.head\n",
    "        self.head = new_node\n"
   ]
  },
  {
   "cell_type": "code",
   "execution_count": 7,
   "id": "501a802b-8281-4fa8-a282-262d4556deec",
   "metadata": {
    "tags": []
   },
   "outputs": [],
   "source": [
    "l = List()\n",
    "\n",
    "l.add_start(10)\n",
    "l.add_start(20)\n",
    "l.add_start(30)"
   ]
  },
  {
   "cell_type": "code",
   "execution_count": 15,
   "id": "38a911f0-9708-4c16-864d-7f515ac454e2",
   "metadata": {
    "tags": []
   },
   "outputs": [
    {
     "name": "stdout",
     "output_type": "stream",
     "text": [
      "30 \n",
      "\n",
      "20 \n",
      "\n",
      "10 \n",
      "\n"
     ]
    }
   ],
   "source": [
    "ptr = l.head\n",
    "while ptr:\n",
    "    print(ptr.data,\"\\n\")\n",
    "    ptr = ptr.next"
   ]
  },
  {
   "cell_type": "markdown",
   "id": "18098c48-7974-42f2-b346-91dc06161b29",
   "metadata": {},
   "source": [
    "<body style=\"font-family: Sans-serif;\">\n",
    "    <div style=\"color: black; font-size: 15px; font-style: oblique; text-shadow: 0 0 3px white, 0 0 1px black; padding: 20px;\">\n",
    "\n",
    "### Example 2\n",
    "- ### Inserting at End"
   ]
  },
  {
   "cell_type": "markdown",
   "id": "dc19ddaf-73b5-4d96-86dd-7e6084349dcb",
   "metadata": {
    "tags": []
   },
   "source": [
    "<img src=\"./images/7.jpg\" style=\"display: block;margin-left: auto; margin-right: auto;width:60%\">"
   ]
  },
  {
   "cell_type": "code",
   "execution_count": 36,
   "id": "85598784-26bd-4eae-8717-f7ff33acab64",
   "metadata": {
    "tags": []
   },
   "outputs": [
    {
     "data": {
      "text/markdown": [
       "10\n",
       "\n",
       "30\n",
       "\n"
      ]
     },
     "metadata": {},
     "output_type": "display_data"
    }
   ],
   "source": [
    "#include <stdio.h>\n",
    "#include <stdlib.h>\n",
    "\n",
    "struct Node{\n",
    "    int data;\n",
    "    struct Node *next;\n",
    "};\n",
    "\n",
    "\n",
    "struct Node *head = NULL;\n",
    "\n",
    "void add_end(int data){\n",
    "\n",
    "    struct Node *new_node = (struct Node*)malloc(sizeof(struct Node));\n",
    "    \n",
    "    new_node -> data = data;\n",
    "  \n",
    "    if(head == NULL){\n",
    "        head = new_node;\n",
    "    }\n",
    "    else{\n",
    " \n",
    "        head -> next = new_node;\n",
    "        new_node -> next = NULL;\n",
    "    }\n",
    "    \n",
    "}\n",
    "\n",
    "int main(){\n",
    "    \n",
    "    add_end(10);\n",
    "    add_end(20);\n",
    "    add_end(30);\n",
    "    \n",
    "\n",
    "    struct Node *ptr = head;\n",
    "    while(ptr != NULL){\n",
    "        printf(\"%d\\n\",ptr->data);\n",
    "        \n",
    "        ptr = ptr->next;\n",
    "    }\n",
    "}"
   ]
  },
  {
   "cell_type": "markdown",
   "id": "ab0fa5a7-e3df-423b-8a82-d3866e5f4609",
   "metadata": {},
   "source": [
    "<body style=\"font-family: Sans-serif;\">\n",
    "    <div style=\"color: black; font-size: 15px; font-style: oblique; text-shadow: 0 0 3px white, 0 0 1px black; padding: 20px;\">\n",
    "     \n",
    "### Track a Bug"
   ]
  },
  {
   "cell_type": "markdown",
   "id": "55430a12-7122-4360-a050-bd45448cc10e",
   "metadata": {},
   "source": [
    "<body style=\"font-family: Sans-serif;\">\n",
    "    <div style=\"color: black; font-size: 15px; font-style: oblique; text-shadow: 0 0 3px white, 0 0 1px black; padding: 20px;\">\n",
    "        \n",
    "### `head == NULL`:\n",
    "\n",
    "```c\n",
    "if(head == NULL){\n",
    "    head = new_node;\n",
    "}\n",
    "```\n",
    "\n",
    "* Jab `add_end(10)` call hota hai...\n",
    "* List khaali hoti hai, `head == NULL`\n",
    "* To `head = new_node` se naya node `head` ban jata hai\n",
    "\n",
    "```\n",
    "head → [10] → NULL\n",
    "```"
   ]
  },
  {
   "cell_type": "markdown",
   "id": "a427c4ac-d386-4ae0-8d71-e6a9b4789f28",
   "metadata": {},
   "source": [
    "<body style=\"font-family: Sans-serif;\">\n",
    "    <div style=\"color: black; font-size: 15px; font-style: oblique; text-shadow: 0 0 3px white, 0 0 1px black; padding: 20px;\">\n",
    "        \n",
    "### `add_end(20)`:\n",
    "\n",
    "```c\n",
    "else {\n",
    "    head->next = new_node;\n",
    "    new_node->next = NULL;\n",
    "}\n",
    "```\n",
    "\n",
    "* `head` already \\[10] pe hai\n",
    "* So directly `head->next = new_node` karte ho\n",
    "\n",
    "To ab list hoti hai:\n",
    "\n",
    "```\n",
    "head → [10] → [20] → NULL\n",
    "```"
   ]
  },
  {
   "cell_type": "markdown",
   "id": "594ec246-df4d-4141-a432-a85efdca5500",
   "metadata": {},
   "source": [
    "<body style=\"font-family: Sans-serif;\">\n",
    "    <div style=\"color: black; font-size: 15px; font-style: oblique; text-shadow: 0 0 3px white, 0 0 1px black; padding: 20px;\">\n",
    "        \n",
    "### `add_end(30)`:\n",
    "\n",
    "Ab kya hota hai?\n",
    "\n",
    "* Aab Yaha `head->next = new_node` likh rahe hn\n",
    "* Pehle `head->next` \\[20] tha, ab \\[30] ho gaya — **\\[20] ka link toot gaya**\n",
    "\n",
    "Result:\n",
    "\n",
    "```\n",
    "head → [10] → [30] → NULL\n",
    "[20] → leak ho gaya\n",
    "```"
   ]
  },
  {
   "cell_type": "markdown",
   "id": "aa7ca3e3-c467-4f60-958a-26f16e960fa7",
   "metadata": {},
   "source": [
    "<body style=\"font-family: Sans-serif;\">\n",
    "    <div style=\"color: black; font-size: 15px; font-style: oblique; text-shadow: 0 0 3px white, 0 0 1px black; padding: 20px;\">\n",
    "\n",
    "### Problem:\n",
    "\n",
    "Yaha hamesha `head->next` overwrite kar raha hy\n",
    "**Jis wajah se purani 2nd node delete ho jati hai memory se**"
   ]
  },
  {
   "cell_type": "markdown",
   "id": "8103d362-005f-4080-ad06-d7785ed2702b",
   "metadata": {},
   "source": [
    "<body style=\"font-family: Sans-serif;\">\n",
    "    <div style=\"color: black; font-size: 15px; font-style: oblique; text-shadow: 0 0 3px white, 0 0 1px black; padding: 20px;\">\n",
    "\n",
    "## Solution:\n",
    "\n",
    "### Step 1: Temporary Pointer\n",
    "\n",
    "```c\n",
    "struct Node *temp = head;\n",
    "```\n",
    "\n",
    "* Ab hum temp pointer banate hain jisse **head ko chhedna nahi padta**\n",
    "\n",
    "---\n",
    "\n",
    "### Step 2: Traverse to Last Node\n",
    "\n",
    "```c\n",
    "while(temp->next != NULL){\n",
    "    temp = temp->next;\n",
    "}\n",
    "```\n",
    "\n",
    "* Ye loop chalta rahega jab tak `next != NULL`\n",
    "* Jaise hi kisi node ka `next == NULL` mila, samjho **woh last node hai**\n",
    "* Jaise `add_end(30)` mein temp pahunchta hai \\[20] pe kyunki uska `next == NULL` hota hai\n",
    "\n",
    "---\n",
    "\n",
    "### Step 3: Connect New Node at End\n",
    "\n",
    "```c\n",
    "temp->next = new_node;\n",
    "new_node->next = NULL;\n",
    "```\n",
    "\n",
    "* Ab `temp` pe hum last node pe hain (e.g., \\[20])\n",
    "* `temp->next = new_node` karne se list ban jati hai:\n",
    "\n",
    "```\n",
    "[10] → [20] → [30] → NULL\n",
    "```\n",
    "\n",
    "Ab pura flow sahi hai. Koi node ka link nahi toot raha."
   ]
  },
  {
   "cell_type": "code",
   "execution_count": 2,
   "id": "171bcd14-322b-47f8-8f1f-1d7b49f5175e",
   "metadata": {
    "tags": []
   },
   "outputs": [
    {
     "data": {
      "text/markdown": [
       "10\n",
       "\n",
       "20\n",
       "\n",
       "30\n",
       "\n"
      ]
     },
     "metadata": {},
     "output_type": "display_data"
    }
   ],
   "source": [
    "#include <stdio.h>\n",
    "#include <stdlib.h>\n",
    "\n",
    "struct Node{\n",
    "    int data;\n",
    "    struct Node *next;\n",
    "};\n",
    "\n",
    "struct Node *head = NULL;\n",
    "\n",
    "void add_end(int data){\n",
    "    struct Node *new_node = (struct Node *)malloc(sizeof(struct Node));\n",
    "    \n",
    "    new_node -> data = data;\n",
    "    \n",
    "    if (head == NULL){\n",
    "        head = new_node;\n",
    "    }\n",
    "    else{\n",
    "        \n",
    "        struct Node *temp = head;\n",
    "        while(temp -> next != NULL){\n",
    "            temp = temp -> next;\n",
    "        }\n",
    "        \n",
    "        temp -> next = new_node;\n",
    "        new_node -> next = NULL;\n",
    "    }\n",
    "    \n",
    "}\n",
    "\n",
    "int main(){\n",
    "    \n",
    "    add_end(10);\n",
    "    add_end(20);\n",
    "    add_end(30);\n",
    "    \n",
    "\n",
    "    struct Node *ptr = head;\n",
    "    while(ptr != NULL){\n",
    "        printf(\"%d\\n\",ptr->data);\n",
    "        \n",
    "        ptr = ptr->next;\n",
    "    }\n",
    "}"
   ]
  },
  {
   "cell_type": "markdown",
   "id": "c16aa80d-88fd-49aa-9f0d-2f0d02fff602",
   "metadata": {},
   "source": [
    "<body style=\"font-family: Sans-serif;\">\n",
    "    <div style=\"color: black; font-size: 15px; font-style: oblique; text-shadow: 0 0 3px white, 0 0 1px black; padding: 20px;\">\n",
    "      In Python"
   ]
  },
  {
   "cell_type": "code",
   "execution_count": 40,
   "id": "35e0eb5e-a308-4729-bf34-e251a90da984",
   "metadata": {
    "tags": []
   },
   "outputs": [],
   "source": [
    "class Node:\n",
    "    def __init__(self,data):\n",
    "        self.data = data\n",
    "        self.next = None\n",
    "\n",
    "class List:\n",
    "    def __init__(self):\n",
    "        self.head = None\n",
    "        \n",
    "    def add_end(self,data):\n",
    "        new_node = Node(data)        \n",
    "        if self.head == None:\n",
    "            self.head = new_node\n",
    "            \n",
    "        else:\n",
    "            temp = self.head\n",
    "            while temp.next != None:\n",
    "                temp = temp.next\n",
    "            \n",
    "            temp.next = new_node\n",
    "            new_node.next = None"
   ]
  },
  {
   "cell_type": "code",
   "execution_count": 41,
   "id": "53f90124-af16-4e8d-954a-d9eaba8195f0",
   "metadata": {
    "tags": []
   },
   "outputs": [],
   "source": [
    "l = List()"
   ]
  },
  {
   "cell_type": "code",
   "execution_count": 42,
   "id": "8610efdb-1b54-4edf-a803-7fbefe9b3330",
   "metadata": {
    "tags": []
   },
   "outputs": [],
   "source": [
    "l.add_end(10)\n",
    "l.add_end(20)\n",
    "l.add_end(30)"
   ]
  },
  {
   "cell_type": "code",
   "execution_count": 43,
   "id": "15312882-32f8-467d-af08-163988b27513",
   "metadata": {
    "tags": []
   },
   "outputs": [
    {
     "name": "stdout",
     "output_type": "stream",
     "text": [
      "10\n",
      "20\n",
      "30\n"
     ]
    }
   ],
   "source": [
    "ptr = l.head\n",
    "while ptr != None:\n",
    "    print(ptr.data)\n",
    "    ptr = ptr.next"
   ]
  },
  {
   "cell_type": "markdown",
   "id": "b4afb728-3b18-46ca-96ac-2a4ec3336434",
   "metadata": {
    "tags": []
   },
   "source": [
    "<body style=\"font-family: Sans-serif;\">\n",
    "    <div style=\"color: black; font-size: 15px; font-style: oblique; text-shadow: 0 0 3px white, 0 0 1px black; padding: 20px;\">\n",
    "\n",
    "### Example 3\n",
    "- ### Track Node"
   ]
  },
  {
   "cell_type": "markdown",
   "id": "ea05c88c-1a40-42f0-85d1-5f83dfcd4331",
   "metadata": {
    "tags": []
   },
   "source": [
    "<img src=\"./images/8.jpg\" style=\"display: block;margin-right: auto;width:50%\">"
   ]
  },
  {
   "cell_type": "code",
   "execution_count": 2,
   "id": "93d4e8e2-4669-40aa-aaad-2f96285615f0",
   "metadata": {},
   "outputs": [
    {
     "data": {
      "text/markdown": [
       "10\n",
       "\n",
       "20\n",
       "\n",
       "30\n",
       "\n",
       "Total Nodes 3\n",
       "\n",
       "---\n",
       "\n",
       "Node 3 data: 30\n",
       "\n",
       "\n",
       "\n",
       "4 is Invalid node position\n",
       "\n"
      ]
     },
     "metadata": {},
     "output_type": "display_data"
    }
   ],
   "source": [
    "#include <stdio.h>\n",
    "#include <stdlib.h>\n",
    "\n",
    "struct Node{\n",
    "    int data;\n",
    "    struct Node *next;\n",
    "};\n",
    "\n",
    "struct Node *head = NULL;\n",
    "int calls = 0;\n",
    "\n",
    "void add_end(int data){\n",
    "    calls += 1;\n",
    "\n",
    "    struct Node *new_node = (struct Node *)malloc(sizeof(struct Node));\n",
    "    new_node->data = data;\n",
    "    \n",
    "    if(head == NULL){\n",
    "        head = new_node;\n",
    "    }\n",
    "    \n",
    "    else{\n",
    "        \n",
    "        struct Node *ptr = head;\n",
    "        \n",
    "        while(ptr->next != NULL){\n",
    "        \n",
    "            ptr = ptr->next;\n",
    "        }\n",
    "        \n",
    "        ptr->next = new_node;\n",
    "        new_node -> next = NULL;\n",
    "    }\n",
    "\n",
    "}\n",
    "\n",
    "void find_node(int n){\n",
    "    struct Node *ptr = head;\n",
    "    int count = 1;\n",
    "    \n",
    "    while(ptr != NULL){\n",
    "        \n",
    "        if(count == n){\n",
    "            printf(\"\\nNode %d data: %d\\n\",count,ptr->data);\n",
    "            return;\n",
    "        }\n",
    "       \n",
    "        \n",
    "        ptr = ptr->next;\n",
    "        count+=1;\n",
    "        \n",
    "    }\n",
    "    printf(\"\\n%d is Invalid node position\\n\",n);\n",
    "\n",
    "}\n",
    "\n",
    "int main(){\n",
    "    \n",
    "    add_end(10);\n",
    "    add_end(20);\n",
    "    add_end(30);\n",
    "    \n",
    "    struct Node *tmp = head;\n",
    "    while(tmp != NULL){\n",
    "        printf(\"%d\\n\",tmp->data);\n",
    "        tmp = tmp->next;\n",
    "    }\n",
    "    \n",
    "    printf(\"Total Nodes %d\",calls);\n",
    "    printf(\"\\n---\");\n",
    "    \n",
    "    find_node(3);\n",
    "    \n",
    "    find_node(4);\n",
    "    return 0;\n",
    "}\n"
   ]
  },
  {
   "cell_type": "markdown",
   "id": "0eed7de9-0e26-4ec3-8c14-19fbe7000000",
   "metadata": {},
   "source": [
    "<body style=\"font-family: Sans-serif;\">\n",
    "    <div style=\"color: black; font-size: 15px; font-style: oblique; text-shadow: 0 0 3px white, 0 0 1px black; padding: 20px;\">\n",
    "      In Python"
   ]
  },
  {
   "cell_type": "code",
   "execution_count": 1,
   "id": "c1ac1824-1d1f-4485-8fac-6ff3d3a58ffc",
   "metadata": {
    "tags": []
   },
   "outputs": [],
   "source": [
    "class Node:\n",
    "    def __init__(self,data):\n",
    "        self.data = data\n",
    "        self.next = None"
   ]
  },
  {
   "cell_type": "code",
   "execution_count": 8,
   "id": "43926ef1-f1d3-4453-a900-5099e9d1a903",
   "metadata": {
    "tags": []
   },
   "outputs": [],
   "source": [
    "class List:\n",
    "    def __init__(self):\n",
    "        self.head = None\n",
    "        self.total_nodes = 0  \n",
    "\n",
    "    def add_end(self, data):\n",
    "        self.total_nodes += 1\n",
    "        new_node = Node(data)\n",
    "\n",
    "        if self.head is None:\n",
    "            self.head = new_node\n",
    "        else:\n",
    "            temp = self.head\n",
    "            while temp.next is not None:\n",
    "                temp = temp.next\n",
    "            temp.next = new_node\n",
    "\n",
    "    def find_node(self, n):\n",
    "        if n < 1 or n > self.total_nodes:\n",
    "            print(f\"{n} is Invalid node position\")\n",
    "            return\n",
    "\n",
    "        temp = self.head\n",
    "        count = 1\n",
    "        while temp:\n",
    "            if count == n:\n",
    "                print(f\"Node {n} data: {temp.data}\")\n",
    "                return\n",
    "            count += 1\n",
    "            temp = temp.next\n"
   ]
  },
  {
   "cell_type": "code",
   "execution_count": 9,
   "id": "64f18687-38df-4d5a-8e4b-2049081eb42b",
   "metadata": {
    "tags": []
   },
   "outputs": [],
   "source": [
    "l = List()"
   ]
  },
  {
   "cell_type": "code",
   "execution_count": 10,
   "id": "e7bfc22a-8b35-4996-be0b-c2950b9fddb1",
   "metadata": {
    "tags": []
   },
   "outputs": [],
   "source": [
    "l.add_end(10)\n",
    "l.add_end(20)\n",
    "l.add_end(30)"
   ]
  },
  {
   "cell_type": "code",
   "execution_count": 11,
   "id": "f0d00b9c-9dd7-4077-977a-05a3d29f8442",
   "metadata": {
    "tags": []
   },
   "outputs": [
    {
     "name": "stdout",
     "output_type": "stream",
     "text": [
      "10\n",
      "20\n",
      "30\n"
     ]
    }
   ],
   "source": [
    "ptr = l.head\n",
    "while ptr != None:\n",
    "    print(ptr.data)\n",
    "    ptr = ptr.next"
   ]
  },
  {
   "cell_type": "code",
   "execution_count": 16,
   "id": "f02ac447-b91d-4155-a66f-8f04a2d9b1d0",
   "metadata": {
    "tags": []
   },
   "outputs": [
    {
     "data": {
      "text/plain": [
       "3"
      ]
     },
     "execution_count": 16,
     "metadata": {},
     "output_type": "execute_result"
    }
   ],
   "source": [
    "l.total_nodes"
   ]
  },
  {
   "cell_type": "code",
   "execution_count": 12,
   "id": "cd8ef054-63b6-4401-833d-3c3c23b16775",
   "metadata": {
    "tags": []
   },
   "outputs": [
    {
     "name": "stdout",
     "output_type": "stream",
     "text": [
      "Node 3 data: 30\n"
     ]
    }
   ],
   "source": [
    "l.find_node(3)"
   ]
  },
  {
   "cell_type": "code",
   "execution_count": 13,
   "id": "4a1b92a2-c8bc-4b4a-9332-50bb76c3d2e9",
   "metadata": {
    "tags": []
   },
   "outputs": [
    {
     "name": "stdout",
     "output_type": "stream",
     "text": [
      "4 is Invalid node position\n"
     ]
    }
   ],
   "source": [
    "l.find_node(4)"
   ]
  },
  {
   "cell_type": "markdown",
   "id": "03d92b2e-185d-45c3-92ad-4e20af686b2d",
   "metadata": {},
   "source": [
    "<body style=\"font-family: Sans-serif;\">\n",
    "    <div style=\"color: black; font-size: 15px; font-style: oblique; text-shadow: 0 0 3px white, 0 0 1px black; padding: 20px;\">\n",
    "\n",
    "### Example 4\n",
    "- ### Inserting at Mid"
   ]
  },
  {
   "cell_type": "markdown",
   "id": "01b0238d-83ff-42a9-a810-edcb5c0a0ab2",
   "metadata": {},
   "source": [
    "<img src=\"./images/9.jpg\" style=\"display: block;margin-right: auto;width:50%\">"
   ]
  },
  {
   "cell_type": "code",
   "execution_count": 22,
   "id": "0b8903de-cb7f-4ce5-aea9-779d86aa55de",
   "metadata": {
    "tags": []
   },
   "outputs": [
    {
     "data": {
      "text/markdown": [
       "10\n",
       "\n",
       "40\n",
       "\n",
       "50\n",
       "\n",
       "30\n",
       "\n",
       "60\n",
       "\n",
       "20\n",
       "\n"
      ]
     },
     "metadata": {},
     "output_type": "display_data"
    }
   ],
   "source": [
    "#include <stdio.h>\n",
    "#include <stdlib.h>\n",
    "\n",
    "struct Node{\n",
    "    int data;\n",
    "    struct Node *next;\n",
    "};\n",
    "\n",
    "struct Node *head = NULL;\n",
    "int count = 0;\n",
    "\n",
    "void iterate(){\n",
    "    struct Node *ptr = head;\n",
    "    while(ptr!=NULL){\n",
    "        printf(\"%d\\n\",ptr->data); \n",
    "        ptr=ptr->next;\n",
    "    }\n",
    "    \n",
    "}\n",
    "\n",
    "void add_mid(int data,int mid_top=0){\n",
    "    \n",
    "    struct Node *new_node = (struct Node *)malloc(sizeof(struct Node));\n",
    "    new_node->data = data;\n",
    "    new_node->next = NULL;\n",
    "    \n",
    "    if (head == NULL){\n",
    "        head=new_node;\n",
    "    }\n",
    "    else if (head->next == NULL){\n",
    "        head->next=new_node;\n",
    "    }\n",
    "    else{\n",
    "        \n",
    "        // if divideable\n",
    "        if (count%2==0){\n",
    "            struct Node *tmp = head;\n",
    "            \n",
    "            int node_pos = 1;\n",
    "            while(tmp->next->next != NULL){\n",
    "                if(node_pos == count/2){\n",
    "                    break;\n",
    "                }\n",
    "                node_pos += 1;\n",
    "                tmp = tmp->next;\n",
    "            }\n",
    "            \n",
    "            new_node->next = tmp->next;\n",
    "            tmp->next = new_node;\n",
    "            \n",
    "        }\n",
    "        else{\n",
    "            \n",
    "            struct Node *tmp = head;\n",
    "            \n",
    "            if (mid_top){\n",
    "                while(tmp->next->next->next != NULL){\n",
    "                    tmp = tmp->next;\n",
    "                }\n",
    "            }\n",
    "            else{\n",
    "                 while(tmp->next->next != NULL){\n",
    "                    tmp = tmp->next;\n",
    "                }\n",
    "            \n",
    "            }\n",
    "            \n",
    "            new_node->next = tmp->next;\n",
    "            tmp->next = new_node;\n",
    "           \n",
    "        }\n",
    "        \n",
    "    }\n",
    "    \n",
    "    count += 1;\n",
    "}\n",
    "int main(){\n",
    "    add_mid(10);\n",
    "    add_mid(20);\n",
    "    add_mid(30);\n",
    "    add_mid(40,1);\n",
    "    add_mid(50);\n",
    "    add_mid(60);\n",
    "    iterate();\n",
    "}"
   ]
  },
  {
   "cell_type": "markdown",
   "id": "5dc990a8-6e06-4fd0-ae9e-3b8cafae11d8",
   "metadata": {
    "tags": []
   },
   "source": [
    "<body style=\"font-family: Sans-serif;\">\n",
    "    <div style=\"color: black; font-size: 15px; font-style: oblique; text-shadow: 0 0 3px white, 0 0 1px black; padding: 20px;\">\n",
    "      In Python"
   ]
  },
  {
   "cell_type": "code",
   "execution_count": 75,
   "id": "b2a98f4f-9477-4c8d-97a0-78ea505250cb",
   "metadata": {
    "tags": []
   },
   "outputs": [
    {
     "name": "stdout",
     "output_type": "stream",
     "text": [
      "10\n",
      "40\n",
      "50\n",
      "30\n",
      "60\n",
      "20\n"
     ]
    }
   ],
   "source": [
    "class Node:\n",
    "    def __init__(self, data):\n",
    "        self.data = data\n",
    "        self.next = None\n",
    "\n",
    "head = None\n",
    "count = 0\n",
    "\n",
    "def iterate():\n",
    "    global head\n",
    "    ptr = head\n",
    "    while ptr:\n",
    "        print(ptr.data)\n",
    "        ptr = ptr.next\n",
    "\n",
    "def add_mid(data, mid_top=0):\n",
    "    global head, count\n",
    "    new_node = Node(data)\n",
    "\n",
    "    if head is None:\n",
    "        head = new_node\n",
    "    elif head.next is None:\n",
    "        head.next = new_node\n",
    "    else:\n",
    "        if count % 2 == 0:\n",
    "            tmp = head\n",
    "            node_pos = 1\n",
    "            while tmp.next and tmp.next.next:\n",
    "                if node_pos == count // 2:\n",
    "                    break\n",
    "                tmp = tmp.next\n",
    "                node_pos += 1\n",
    "            new_node.next = tmp.next\n",
    "            tmp.next = new_node\n",
    "            \n",
    "        else:\n",
    "            tmp = head\n",
    "            if mid_top:\n",
    "                while tmp.next and tmp.next.next and tmp.next.next.next:\n",
    "                    tmp = tmp.next\n",
    "            else:\n",
    "                while tmp.next and tmp.next.next:\n",
    "                    tmp = tmp.next\n",
    "            new_node.next = tmp.next\n",
    "            tmp.next = new_node\n",
    "\n",
    "    count += 1\n",
    "\n",
    "add_mid(10)\n",
    "add_mid(20)\n",
    "add_mid(30)\n",
    "add_mid(40, 1)\n",
    "add_mid(50)\n",
    "add_mid(60)\n",
    "\n",
    "iterate()"
   ]
  }
 ],
 "metadata": {
  "kernelspec": {
   "display_name": "Python 3 (ipykernel)",
   "language": "python",
   "name": "python3"
  },
  "language_info": {
   "codemirror_mode": {
    "name": "ipython",
    "version": 3
   },
   "file_extension": ".py",
   "mimetype": "text/x-python",
   "name": "python",
   "nbconvert_exporter": "python",
   "pygments_lexer": "ipython3",
   "version": "3.10.12"
  }
 },
 "nbformat": 4,
 "nbformat_minor": 5
}
