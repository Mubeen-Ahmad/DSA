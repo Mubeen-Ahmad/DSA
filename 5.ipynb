{
 "cells": [
  {
   "cell_type": "markdown",
   "id": "3d2d6645-5fc7-403e-ad49-cf0c1b11e0b6",
   "metadata": {},
   "source": [
    "<h1 style=\"text-align:center; color:#005bbd; font-size:20px; font-family:Sans-serif; font-style: oblique; text-shadow: 0 0 3px white, 0 0 1px Black;\">\n",
    "Linked Lists\n",
    "</h1>"
   ]
  },
  {
   "cell_type": "markdown",
   "id": "8508526f-cf44-4027-b348-5186e9a65b83",
   "metadata": {},
   "source": [
    "<body style=\"font-family: Sans-serif;\">\n",
    "    <div style=\"color: black; font-size: 15px; font-style: oblique; text-shadow: 0 0 3px white, 0 0 1px black; padding: 20px;\">\n",
    "      \n",
    "- #### Linked list ek aisi data structure hai jo elements (data) ko nodes ke roop mein store karti hai. Har node mein do chizein hoti hain:\n",
    "    - #### Data: Jo value store hoti hai\n",
    "    - #### Next Pointer: Jo agle node ka address rakhta hai\n",
    "---\n",
    "- #### Key Point:\n",
    "    - #### Nodes memory ke heap mein scattered (non-contiguous) hoti hain."
   ]
  },
  {
   "cell_type": "code",
   "execution_count": 223,
   "id": "31b3da22-40f4-4f70-a8d3-04fc2900a718",
   "metadata": {
    "tags": []
   },
   "outputs": [
    {
     "data": {
      "text/markdown": [
       "n1.data is 1 | n1 Address 1148157440 | n1.next 1148157456\n",
       "\n",
       "n2.data is 2 | n2 Address 1148157456 | n2.next 1148157472\n",
       "\n",
       "n3.data is 3 | n3 Address 1148157472 | n3.next 0"
      ]
     },
     "metadata": {},
     "output_type": "display_data"
    }
   ],
   "source": [
    "#include <stdio.h>\n",
    "\n",
    "struct node{\n",
    "    int data;\n",
    "    struct node *next;\n",
    "};\n",
    "\n",
    "\n",
    "int main(){\n",
    "\n",
    "    struct node n1,n2,n3;\n",
    "    \n",
    "    // fill data\n",
    "    n1.data = 1;\n",
    "    n2.data = 2;\n",
    "    n3.data = 3;\n",
    "    \n",
    "    //linked\n",
    "    n1.next = &n2;\n",
    "    n2.next = &n3;\n",
    "    n3.next = NULL;\n",
    "    \n",
    "  \n",
    "    printf(\"n1.data is %d | n1 Address %u | n1.next %u\",n1.data,&n1,n1.next);\n",
    "    printf(\"\\nn2.data is %d | n2 Address %u | n2.next %u\",n2.data,&n2,n2.next);\n",
    "    printf(\"\\nn3.data is %d | n3 Address %u | n3.next %u\",n3.data,&n3,n3.next);\n",
    "    \n",
    "\n",
    "}"
   ]
  },
  {
   "cell_type": "markdown",
   "id": "d98591f5-b734-4bf8-b442-e236a72f4ee2",
   "metadata": {},
   "source": [
    "<img src=\"./images/5.jpg\" style=\"display: block;margin-left: auto; margin-right: auto;width:60%\">"
   ]
  },
  {
   "cell_type": "markdown",
   "id": "216b6dd6-6119-46ec-81ce-b31b6653e62d",
   "metadata": {
    "tags": []
   },
   "source": [
    "<body style=\"font-family: Sans-serif;\">\n",
    "    <div style=\"color: black; font-size: 15px; font-style: oblique; text-shadow: 0 0 3px white, 0 0 1px black; padding: 20px;\">\n",
    "Access n3.data with n1"
   ]
  },
  {
   "cell_type": "code",
   "execution_count": 257,
   "id": "c5664122-ca09-4936-b986-c6c3915ad462",
   "metadata": {
    "tags": []
   },
   "outputs": [
    {
     "data": {
      "text/markdown": [
       "3"
      ]
     },
     "metadata": {},
     "output_type": "display_data"
    }
   ],
   "source": [
    "#include <stdio.h>\n",
    "\n",
    "struct node{\n",
    "    int data;\n",
    "    struct node *next;\n",
    "};\n",
    "\n",
    "\n",
    "int main(){\n",
    "\n",
    "    struct node n1,n2,n3;\n",
    "    \n",
    "    // fill data\n",
    "    n1.data = 1;\n",
    "    n2.data = 2;\n",
    "    n3.data = 3;\n",
    "    \n",
    "    //linked\n",
    "    n1.next = &n2;\n",
    "    n2.next = &n3;\n",
    "    n3.next = NULL;\n",
    "  \n",
    "    printf(\"%d\",n1.next->next->data);\n",
    "    \n",
    "\n",
    "}"
   ]
  },
  {
   "cell_type": "markdown",
   "id": "5b9333b0-c6f6-4a60-b7c4-cbb75874a0c6",
   "metadata": {
    "tags": []
   },
   "source": [
    "<body style=\"font-family: Sans-serif;\">\n",
    "    <div style=\"color: black; font-size: 15px; font-style: oblique; text-shadow: 0 0 3px white, 0 0 1px black; padding: 20px;\">\n",
    "      In Python"
   ]
  },
  {
   "cell_type": "code",
   "execution_count": 9,
   "id": "97a33236-96f9-42ea-97a2-f52eb9f60001",
   "metadata": {
    "tags": []
   },
   "outputs": [
    {
     "name": "stdout",
     "output_type": "stream",
     "text": [
      "1\n",
      "2\n",
      "3\n"
     ]
    }
   ],
   "source": [
    "class Node:\n",
    "    data = None\n",
    "    next = None\n",
    "    \n",
    "n1 = Node()\n",
    "n2 = Node()\n",
    "n3 = Node()\n",
    "\n",
    "# fill data\n",
    "n1.data = 1;\n",
    "n2.data = 2;\n",
    "n3.data = 3;\n",
    "    \n",
    "# linked\n",
    "n1.next = n2\n",
    "n2.next = n3\n",
    "n3.next = None\n",
    "\n",
    "print(n1.data)\n",
    "print(n2.data)\n",
    "print(n3.data)"
   ]
  },
  {
   "cell_type": "markdown",
   "id": "9c42d160-a24a-4ff6-8fd8-1c2c586383a3",
   "metadata": {},
   "source": [
    "<body style=\"font-family: Sans-serif;\">\n",
    "    <div style=\"color: black; font-size: 15px; font-style: oblique; text-shadow: 0 0 3px white, 0 0 1px black; padding: 20px;\">\n",
    "Access n3.data with n1"
   ]
  },
  {
   "cell_type": "code",
   "execution_count": 14,
   "id": "f6e297b8-aa77-4360-95c6-c0cc816c7e8c",
   "metadata": {
    "tags": []
   },
   "outputs": [
    {
     "name": "stdout",
     "output_type": "stream",
     "text": [
      "3\n"
     ]
    }
   ],
   "source": [
    "print(n1.next.next.data)"
   ]
  },
  {
   "cell_type": "markdown",
   "id": "cac2513b-cf31-4e91-a02e-95d785cd4e99",
   "metadata": {},
   "source": [
    "<h1 style=\"text-align:center; color:#005bbd; font-size:20px; font-family:Sans-serif; font-style: oblique; text-shadow: 0 0 3px white, 0 0 1px Black;\">\n",
    "Static and Dynamic Linked list\n",
    "</h1>"
   ]
  },
  {
   "cell_type": "markdown",
   "id": "07dbcb07-1c92-4ff5-acdd-be1922811e9a",
   "metadata": {},
   "source": [
    "<body style=\"font-family: Sans-serif;\">\n",
    "    <div style=\"color: black; font-size: 15px; font-style: oblique; text-shadow: 0 0 3px white, 0 0 1px black; padding: 20px;\">\n",
    "\n",
    "### Static Linked List\n",
    "\n",
    "- #### Static linked list wo hoti hai jisme nodes ko pehle se banaya jata hai (compile time par), bina dynamic memory (malloc) use kiye\n",
    "    - #### Memory compile time par fix hoti hai\n",
    "    - #### Aap manually nodes banate ho.\n",
    "    - #### Ye sirf tab sahi hota hai jab aapko exact number of nodes pehle se pata ho.\n",
    "\n",
    "\n",
    "### real-world applications mein static linked list ka use nahi kia jata"
   ]
  },
  {
   "cell_type": "code",
   "execution_count": 1,
   "id": "3ecedc61-6628-4b2e-ac93-b7f9691c799f",
   "metadata": {},
   "outputs": [
    {
     "data": {
      "text/markdown": [
       "10\n",
       "\n",
       "20\n",
       "\n",
       "30\n",
       "\n"
      ]
     },
     "metadata": {},
     "output_type": "display_data"
    }
   ],
   "source": [
    "#include <stdio.h>\n",
    "struct node {\n",
    "    int data;\n",
    "    struct node *next;\n",
    "};\n",
    "\n",
    "int main() {\n",
    "    struct node n1, n2, n3;\n",
    "\n",
    "    n1.data = 10;\n",
    "    n2.data = 20;\n",
    "    n3.data = 30;\n",
    "\n",
    "    n1.next = &n2;\n",
    "    n2.next = &n3;\n",
    "    n3.next = NULL;\n",
    "\n",
    "    // print values\n",
    "    printf(\"%d\\n\", n1.data);           // 10\n",
    "    printf(\"%d\\n\", n1.next->data);     // 20\n",
    "    printf(\"%d\\n\", n1.next->next->data); // 30\n",
    "\n",
    "    return 0;\n",
    "}"
   ]
  },
  {
   "cell_type": "markdown",
   "id": "2e2a1079-7ed6-43d0-b36a-6d589515750a",
   "metadata": {
    "tags": []
   },
   "source": [
    "<body style=\"font-family: Sans-serif;\">\n",
    "    <div style=\"color: black; font-size: 15px; font-style: oblique; text-shadow: 0 0 3px white, 0 0 1px black; padding: 20px;\">\n",
    "\n",
    "### In Python\n",
    "- #### Note: Python mein technically sab dynamic hota hai\n",
    "- #### lekin agar aap pehle se nodes banao aur fixed rakho, to usay static linked list jesa treat kiya ja sakta hai."
   ]
  },
  {
   "cell_type": "code",
   "execution_count": 1,
   "id": "da850ec4-3991-4e54-b4f9-1f86169cd501",
   "metadata": {
    "tags": []
   },
   "outputs": [
    {
     "name": "stdout",
     "output_type": "stream",
     "text": [
      "10\n",
      "20\n",
      "30\n"
     ]
    }
   ],
   "source": [
    "class Node:\n",
    "    data = None\n",
    "    next = None\n",
    "    \n",
    "n1 = Node()\n",
    "n2 = Node()\n",
    "n3 = Node()\n",
    "\n",
    "# fill data\n",
    "n1.data = 10;\n",
    "n2.data = 20;\n",
    "n3.data = 30;\n",
    "    \n",
    "# linked\n",
    "n1.next = n2\n",
    "n2.next = n3\n",
    "n3.next = None\n",
    "\n",
    "print(n1.data)\n",
    "print(n2.data)\n",
    "print(n3.data)"
   ]
  },
  {
   "cell_type": "markdown",
   "id": "251d4db1-ee34-4d97-9548-68854b3a9e8f",
   "metadata": {},
   "source": [
    "<body style=\"font-family: Sans-serif;\">\n",
    "    <div style=\"color: black; font-size: 15px; font-style: oblique; text-shadow: 0 0 3px white, 0 0 1px black; padding: 20px;\">\n",
    "\n",
    "### Dynamic Linked List\n",
    "\n",
    "- #### Dynamic linked list wo hoti hai jisme nodes ko run-time par create kiya jata hai (jaise C mein malloc() se hota hai), jisme memory dynamically allocate hoti hai, aur aap jitni chahein utni nodes bana sakte ho.\n",
    "    - #### Memory run-time par allocate hoti hai.\n",
    "    - #### Number of nodes pehle se fix nahi hota."
   ]
  },
  {
   "cell_type": "code",
   "execution_count": 24,
   "id": "7fec82bd-3814-4e4f-9f5b-4ce28276f64d",
   "metadata": {
    "tags": []
   },
   "outputs": [
    {
     "data": {
      "text/markdown": [
       "10\n",
       "\n",
       "20\n",
       "\n",
       "30\n",
       "\n",
       "\n",
       "\n",
       "---\n",
       "\n",
       "Access n3.data with n1\n",
       "\n",
       "30"
      ]
     },
     "metadata": {},
     "output_type": "display_data"
    }
   ],
   "source": [
    "#include <stdio.h>\n",
    "#include <stdlib.h>\n",
    "\n",
    "struct node{\n",
    "    int data;\n",
    "    struct node *next;\n",
    "};\n",
    "\n",
    "int main(){\n",
    "\n",
    "    struct node *n1 = (struct node *)malloc(sizeof(struct node));\n",
    "    struct node *n2 = (struct node *)malloc(sizeof(struct node));\n",
    "    struct node *n3 = (struct node *)malloc(sizeof(struct node));\n",
    "    \n",
    "    // fill data\n",
    "    n1->data = 10;\n",
    "    n2->data = 20;\n",
    "    n3->data = 30;\n",
    "    \n",
    "    // linked\n",
    "    n1->next = n2;\n",
    "    n2->next = n3;\n",
    "    n3->next = NULL;\n",
    "    \n",
    "    printf(\"%d\\n\", n1->data);         \n",
    "    printf(\"%d\\n\", n2->data);  \n",
    "    printf(\"%d\\n\", n3->data);\n",
    "    \n",
    "    printf(\"\\n---\");\n",
    "    printf(\"\\nAccess n3.data with n1\");\n",
    "    printf(\"\\n%d\", n1->next->next->data);\n",
    "    \n",
    "    free(n1);\n",
    "    free(n2);\n",
    "    free(n3);\n",
    "    \n",
    "    return 0;\n",
    "}"
   ]
  },
  {
   "cell_type": "markdown",
   "id": "70546a2d-5c08-4712-98fc-35df29e85650",
   "metadata": {},
   "source": [
    "<body style=\"font-family: Sans-serif;\">\n",
    "    <div style=\"color: black; font-size: 15px; font-style: oblique; text-shadow: 0 0 3px white, 0 0 1px black; padding: 20px;\">\n",
    "      In Python"
   ]
  },
  {
   "cell_type": "code",
   "execution_count": 1,
   "id": "6bdee070-1d31-4644-80d0-4542be838195",
   "metadata": {
    "tags": []
   },
   "outputs": [
    {
     "name": "stdout",
     "output_type": "stream",
     "text": [
      "10\n",
      "20\n",
      "30\n",
      "\n",
      "Access n3.data with n1\n",
      "30\n"
     ]
    }
   ],
   "source": [
    "class Node:\n",
    "    data = None\n",
    "    next = None\n",
    "    \n",
    "n1 = Node()\n",
    "n2 = Node()\n",
    "n3 = Node()\n",
    "\n",
    "# fill data\n",
    "n1.data = 10;\n",
    "n2.data = 20;\n",
    "n3.data = 30;\n",
    "    \n",
    "# linked\n",
    "n1.next = n2\n",
    "n2.next = n3\n",
    "n3.next = None\n",
    "\n",
    "print(n1.data)\n",
    "print(n2.data)\n",
    "print(n3.data)\n",
    "\n",
    "print(\"\\nAccess n3.data with n1\")\n",
    "print(n1.next.next.data)"
   ]
  },
  {
   "cell_type": "markdown",
   "id": "17ef8e19-eebb-4b85-98fc-66db85b9b3bc",
   "metadata": {},
   "source": [
    "<h1 style=\"text-align:center; color:#005bbd; font-size:20px; font-family:Sans-serif; font-style: oblique; text-shadow: 0 0 3px white, 0 0 1px Black;\">\n",
    "Node , Head , Tail\n",
    "</h1>"
   ]
  },
  {
   "cell_type": "markdown",
   "id": "43c4ad42-1b7c-4026-bf59-99f0d585a04f",
   "metadata": {},
   "source": [
    "<body style=\"font-family: Sans-serif;\">\n",
    "    <div style=\"color: black; font-size: 15px; font-style: oblique; text-shadow: 0 0 3px white, 0 0 1px black; padding: 20px;\">\n",
    "\n",
    "### Node\n",
    "\n",
    "- #### Node ek structure ya unit hota hai jo 2 cheezein hold karta hai:\n",
    "    - #### Data → jo actual value hoti hai \n",
    "    - #### Pointer (next) → jo next node ka address hold karta hai.\n"
   ]
  },
  {
   "cell_type": "code",
   "execution_count": 5,
   "id": "9c56c933-4dc7-4ff4-b48d-76725de42c08",
   "metadata": {
    "tags": []
   },
   "outputs": [],
   "source": [
    "struct node {\n",
    "    int data;            // Value store karta hai\n",
    "    struct node *next;   // Next node ka address store karta hai\n",
    "};\n",
    "\n",
    "struct node *n1 = (struct node *)malloc(sizeof(struct node));\n",
    "struct node *n2 = (struct node *)malloc(sizeof(struct node));\n",
    "struct node *n3 = (struct node *)malloc(sizeof(struct node));\n",
    "\n",
    "// Yahann n1,n2,n3 3 nodes hn"
   ]
  },
  {
   "cell_type": "markdown",
   "id": "4e7a092c-82da-444d-8a7b-b9add9f7d198",
   "metadata": {},
   "source": [
    "<body style=\"font-family: Sans-serif;\">\n",
    "    <div style=\"color: black; font-size: 15px; font-style: oblique; text-shadow: 0 0 3px white, 0 0 1px black; padding: 20px;\">\n",
    "\n",
    "### Head\n",
    "\n",
    "- #### Head wo pointer hota hai jo Linked List ke pehle (first) node ko point karta hai.\n",
    "    - #### Head = starting point\n",
    "    - #### Agar head khatam (NULL) hai, to list empty hai.\n",
    "    - #### Agar head kisi node ko point kar raha hai, to usi se puri list ko traverse (read) karte hain.\n"
   ]
  },
  {
   "cell_type": "code",
   "execution_count": 6,
   "id": "2ee828a7-90cf-46a5-a8dd-1f96b2939ed4",
   "metadata": {
    "tags": []
   },
   "outputs": [],
   "source": [
    "struct node {\n",
    "    int data;\n",
    "    struct node *next;\n",
    "};\n",
    "\n",
    "struct node *head = NULL;\n",
    "struct node *second = NULL;\n",
    "struct node *third = NULL;\n",
    "\n",
    "// Dynamically allocate memory\n",
    "head = (struct node*)malloc(sizeof(struct node));\n",
    "second = (struct node*)malloc(sizeof(struct node));\n",
    "third = (struct node*)malloc(sizeof(struct node));"
   ]
  },
  {
   "cell_type": "markdown",
   "id": "93aaff38-d0eb-4a7c-b0fd-a64c2c5e22ab",
   "metadata": {},
   "source": [
    "<body style=\"font-family: Sans-serif;\">\n",
    "    <div style=\"color: black; font-size: 15px; font-style: oblique; text-shadow: 0 0 3px white, 0 0 1px black; padding: 20px;\">\n",
    "\n",
    "### Tail\n",
    "\n",
    "- #### Tail wo last node hoti hai jo kisi bhi next node ko point nahi karti.\n",
    "    - #### Tail node ka next hamesha NULL hota hai.\n",
    "    - #### Tail node batati hai ke list ka yahan end hota hai.\n",
    "    - #### Jab hum traversal karte hain, hum next == NULL pe rukte hain — wahi Tail hoti hai.\n",
    "    - #### Jab naye node insert karne hote hain end mein, to Tail par jaakar tail->next = newNode karte hain."
   ]
  },
  {
   "cell_type": "code",
   "execution_count": 8,
   "id": "04d78790-c213-4d74-a870-e5f06fab688e",
   "metadata": {
    "tags": []
   },
   "outputs": [],
   "source": [
    "struct node {\n",
    "    int data;\n",
    "    struct node *next;\n",
    "};\n",
    "\n",
    "struct node *head, *second, *tail;\n",
    "\n",
    "head = (struct node*)malloc(sizeof(struct node));\n",
    "second = (struct node*)malloc(sizeof(struct node));\n",
    "tail = (struct node*)malloc(sizeof(struct node));\n",
    "\n",
    "head->data = 10;\n",
    "head->next = second;\n",
    "\n",
    "second->data = 20;\n",
    "second->next = tail;\n",
    "\n",
    "tail->data = 30;\n",
    "tail->next = NULL;  // ← important: tail ka next NULL hota hai"
   ]
  },
  {
   "cell_type": "markdown",
   "id": "96a50385-acba-498e-8ebb-9d11269603a4",
   "metadata": {},
   "source": [
    "<body style=\"font-family: Sans-serif;\">\n",
    "    <div style=\"color: black; font-size: 15px; font-style: oblique; text-shadow: 0 0 3px white, 0 0 1px black; padding: 20px;\">\n",
    "\n",
    "### Complete Example\n"
   ]
  },
  {
   "cell_type": "code",
   "execution_count": 2,
   "id": "b2e1bbc7-e71a-4b35-be70-f8a47a9c6e30",
   "metadata": {
    "tags": []
   },
   "outputs": [
    {
     "data": {
      "text/markdown": [
       "10\n",
       "\n",
       "20\n",
       "\n",
       "30\n",
       "\n"
      ]
     },
     "metadata": {},
     "output_type": "display_data"
    }
   ],
   "source": [
    "#include <stdio.h>\n",
    "#include <stdlib.h>\n",
    "\n",
    "struct node {\n",
    "    int data;\n",
    "    struct node *next;\n",
    "};\n",
    "\n",
    "int main() {\n",
    "    struct node *head, *second, *tail;\n",
    "\n",
    "    // Dynamically allocating memory for 3 nodes\n",
    "    head = (struct node*)malloc(sizeof(struct node));\n",
    "    second = (struct node*)malloc(sizeof(struct node));\n",
    "    tail = (struct node*)malloc(sizeof(struct node));\n",
    "\n",
    "    head->data = 10;\n",
    "    head->next = second;\n",
    "\n",
    "    second->data = 20;\n",
    "    second->next = tail;\n",
    "\n",
    "    tail->data = 30;\n",
    "    tail->next = NULL;  // Tail ka next NULL hota hai\n",
    "\n",
    "    // Traverse the linked list and print values\n",
    "    struct node* temp = head;\n",
    "    while (temp != NULL) {\n",
    "        printf(\"%d\\n\", temp->data);\n",
    "        temp = temp->next;\n",
    "    }\n",
    "\n",
    "    // Free the memory allocated for the linked list nodes\n",
    "    struct node *current = head;\n",
    "    struct node *nextNode;\n",
    "\n",
    "    while (current != NULL) {\n",
    "        nextNode = current->next;  // Save the next node\n",
    "        free(current);  // Free the current node\n",
    "        current = nextNode;  // Move to the next node\n",
    "    }\n",
    "    \n",
    "    return 0;\n",
    "}\n"
   ]
  },
  {
   "cell_type": "markdown",
   "id": "243f5d26-d5e3-4bab-91e3-e522fe9a51c2",
   "metadata": {
    "tags": []
   },
   "source": [
    "<body style=\"font-family: Sans-serif;\">\n",
    "    <div style=\"color: black; font-size: 15px; font-style: oblique; text-shadow: 0 0 3px white, 0 0 1px black; padding: 20px;\">\n",
    "      In Python"
   ]
  },
  {
   "cell_type": "code",
   "execution_count": 1,
   "id": "864f51e9-b48d-45ad-87e5-c339ace0b4ca",
   "metadata": {
    "tags": []
   },
   "outputs": [],
   "source": [
    "class Node:\n",
    "    def __init__(self, data=None):\n",
    "        self.data = data\n",
    "        self.next = None"
   ]
  },
  {
   "cell_type": "code",
   "execution_count": 2,
   "id": "f79431e7-5484-4024-817b-dcacafa8f14d",
   "metadata": {
    "tags": []
   },
   "outputs": [],
   "source": [
    "class LinkedList:\n",
    "    def __init__(self):\n",
    "        self.head = None\n",
    "    \n",
    "    # Add node to the end of the linked list\n",
    "    def append(self, data):\n",
    "        new_node = Node(data)\n",
    "        if not self.head:\n",
    "            self.head = new_node\n",
    "        else:\n",
    "            current = self.head\n",
    "            while current.next:\n",
    "                current = current.next\n",
    "            current.next = new_node\n",
    "    \n",
    "    # Traverse the linked list and print values\n",
    "    def print_list(self):\n",
    "        current = self.head\n",
    "        while current:\n",
    "            print(current.data)\n",
    "            current = current.next\n",
    "    \n",
    "    # \"Free\" the memory by clearing the list\n",
    "    def delete_list(self):\n",
    "        current = self.head\n",
    "        while current:\n",
    "            next_node = current.next\n",
    "            del current  # Deleting current node (memory will be reclaimed by garbage collector)\n",
    "            current = next_node\n",
    "        self.head = None"
   ]
  },
  {
   "cell_type": "code",
   "execution_count": 3,
   "id": "a36c549f-dd05-4cc4-bf9e-f9672270e545",
   "metadata": {
    "tags": []
   },
   "outputs": [],
   "source": [
    "ll = LinkedList()"
   ]
  },
  {
   "cell_type": "code",
   "execution_count": 16,
   "id": "975321fc-a306-46ef-a050-318d2769cb97",
   "metadata": {
    "tags": []
   },
   "outputs": [],
   "source": [
    "ll.append(10)\n",
    "ll.append(20)\n",
    "ll.append(30)"
   ]
  },
  {
   "cell_type": "code",
   "execution_count": 17,
   "id": "5023c863-e1b0-4210-8681-c931ec6cbc6b",
   "metadata": {
    "tags": []
   },
   "outputs": [
    {
     "name": "stdout",
     "output_type": "stream",
     "text": [
      "10\n",
      "20\n",
      "30\n"
     ]
    }
   ],
   "source": [
    "# Print the linked list\n",
    "ll.print_list()"
   ]
  },
  {
   "cell_type": "code",
   "execution_count": 18,
   "id": "586ef55b-79cb-482e-8d7b-2651624bf00d",
   "metadata": {
    "tags": []
   },
   "outputs": [],
   "source": [
    "# Delete the list (equivalent to freeing memory in C)\n",
    "ll.delete_list()"
   ]
  },
  {
   "cell_type": "code",
   "execution_count": 19,
   "id": "9520581c-8aaa-4e58-8001-773a741fd869",
   "metadata": {
    "tags": []
   },
   "outputs": [],
   "source": [
    "# Print the linked list Again\n",
    "ll.print_list()"
   ]
  },
  {
   "cell_type": "markdown",
   "id": "23ceff22-57a1-43e1-8b73-7d9033f292bb",
   "metadata": {
    "tags": []
   },
   "source": [
    "# malloc"
   ]
  },
  {
   "cell_type": "code",
   "execution_count": 27,
   "id": "9fe8714b-5b98-4d74-905e-f9f0ae878357",
   "metadata": {
    "tags": []
   },
   "outputs": [
    {
     "data": {
      "text/markdown": [
       "1 0 0\n",
       "\n",
       "-1709392868 5 977026448"
      ]
     },
     "metadata": {},
     "output_type": "display_data"
    }
   ],
   "source": [
    "#include <stdio.h>\n",
    "\n",
    "int main(){\n",
    "\n",
    "    int *ptr;\n",
    "    ptr = (int *) malloc(100 * sizeof(int));\n",
    "    \n",
    "    ptr[0] = 1;\n",
    "    \n",
    "    printf(\"%d %d %d\",ptr[0],ptr[1],ptr[2]);\n",
    "    free(ptr);\n",
    "    \n",
    "    printf(\"\\n%d %d %d\",ptr[0],ptr[1],ptr[2]);\n",
    "}"
   ]
  }
 ],
 "metadata": {
  "kernelspec": {
   "display_name": "Python 3 (ipykernel)",
   "language": "python",
   "name": "python3"
  },
  "language_info": {
   "codemirror_mode": {
    "name": "ipython",
    "version": 3
   },
   "file_extension": ".py",
   "mimetype": "text/x-python",
   "name": "python",
   "nbconvert_exporter": "python",
   "pygments_lexer": "ipython3",
   "version": "3.10.12"
  }
 },
 "nbformat": 4,
 "nbformat_minor": 5
}
