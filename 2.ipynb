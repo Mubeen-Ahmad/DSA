{
 "cells": [
  {
   "cell_type": "markdown",
   "id": "185d7cd0-0c7f-4421-8ebb-da144b371edc",
   "metadata": {
    "tags": []
   },
   "source": [
    "<h1 style=\"text-align:center; color:#005bbd; font-size:20px; font-family:Sans-serif; font-style: oblique; text-shadow: 0 0 3px white, 0 0 1px Black;\">\n",
    "   Primitive Data Types\n",
    "</h1>"
   ]
  },
  {
   "cell_type": "markdown",
   "id": "77d3c610-49a4-4d6f-85b0-a01411bb0297",
   "metadata": {},
   "source": [
    "<body style=\"font-family: Sans-serif;\">\n",
    "    <div style=\"color: black; font-size: 15px; font-style: oblique; text-shadow: 0 0 3px white, 0 0 1px black; padding: 20px;\">\n",
    "        \n",
    "Primitive Data Types woh basic aur fundamental data types hain jo kisi bhi programming language ke core building blocks hote hain.\n",
    "        \n",
    "Ye simple values store karte hain, complex structures nahi hote, aur directly memory allocate hoti hai.\n",
    "\n",
    "- Primitive data types ka use fast aur efficient hota hai.\n",
    "- Ye kisi bhi programming language mein pre-defined hote hain.\n",
    "        \n",
    "        \n",
    "| **Data Type** | **Example Values** | **Description** |\n",
    "|--------------|------------------|----------------|\n",
    "| **Integer (int)** | `10, -5, 1000` | **Pure numbers** bina decimal ke |\n",
    "| **Float (float)** | `3.14, -2.5, 0.99` | **Decimal values ya real numbers** |\n",
    "| **Boolean (bool)** | `True, False` | **Binary values (1 or 0)** |\n",
    "| **String (str)** | `\"Hello\", 'Python'` | **Text ya character sequence** |\n",
    "| **Complex (complex)** | `3 + 4j, -2 - 1j` | **Real + Imaginary numbers (j unit ke sath)** |\n"
   ]
  },
  {
   "cell_type": "markdown",
   "id": "2507618a-c41d-4404-9f19-8a63f3ee233b",
   "metadata": {},
   "source": [
    "<h1 style=\"text-align:center; color:#005bbd; font-size:20px; font-family:Sans-serif; font-style: oblique; text-shadow: 0 0 3px white, 0 0 1px Black;\">\n",
    "   Non-Primitive Data Types\n",
    "</h1>"
   ]
  },
  {
   "cell_type": "markdown",
   "id": "a55981e9-1253-4401-b4dd-1219d8537eb0",
   "metadata": {},
   "source": [
    "<body style=\"font-family: Sans-serif;\">\n",
    "    <div style=\"color: black; font-size: 15px; font-style: oblique; text-shadow: 0 0 3px white, 0 0 1px black; padding: 20px;\">\n",
    "\n",
    "**Non-Primitive Data Types** woh hote hain jo **multiple values ko store** karne ki capability rakhte hain.  \n",
    "Ye **complex data structures** hote hain jo **primitive data types** ka combination bhi ho sakte hain.  \n",
    "| **Data Type** | **Example Values** | **Description** |\n",
    "|--------------|------------------|----------------|\n",
    "| **List** | `[1, 2, 3]`, `[\"apple\", \"banana\"]` | **Mutable ordered collection** |\n",
    "| **Tuple** | `(10, 20, 30)`, `(\"a\", \"b\")` | **Immutable ordered collection** |\n",
    "| **Set** | `{1, 2, 3}`, `{\"apple\", \"banana\"}` | **Unordered unique values** |\n",
    "| **Dictionary (dict)** | `{\"name\": \"Ali\", \"age\": 25}` | **Key-value pairs** |\n",
    "| **String (str)** | `\"Hello\"`, `'Python'` | **Sequence of characters** |\n",
    "| **Object (Class-based)** | `Custom class objects` | **User-defined data type** |\n"
   ]
  },
  {
   "cell_type": "markdown",
   "id": "e94a376e-839c-4398-a3b4-07456857fdd5",
   "metadata": {},
   "source": [
    "<h1 style=\"text-align:center; color:#005bbd; font-size:20px; font-family:Sans-serif; font-style: oblique; text-shadow: 0 0 3px white, 0 0 1px Black;\">\n",
    "   Arrays Data Structures\n",
    "</h1>"
   ]
  },
  {
   "cell_type": "markdown",
   "id": "08567d79-e9f7-4b5b-b37b-2fa69918455d",
   "metadata": {},
   "source": [
    "<body style=\"font-family: Sans-serif;\">\n",
    "    <div style=\"color: black; font-size: 15px; font-style: oblique; text-shadow: 0 0 3px white, 0 0 1px black; padding: 20px;\">\n",
    "\n",
    "Arrays ek **`linear`** data structure hai jo same type ke elements ka **`contiguous memory`** mein storage provide karta hai. \n",
    "\n",
    "Iska use data ko efficiently store aur access karne ke liye hota hai."
   ]
  },
  {
   "cell_type": "markdown",
   "id": "ebe9ed6c-7a49-42fb-82e8-bb2db70f0f44",
   "metadata": {},
   "source": [
    "<body style=\"font-family: Sans-serif;\">\n",
    "    <div style=\"color: black; font-size: 15px; font-style: oblique; text-shadow: 0 0 3px white, 0 0 1px black; padding: 20px;\">\n",
    "        \n",
    "#### ***Linear Data Structure Kya Hota Hai?***\n",
    "- Linear data structure ek aisa data organization method hai jisme elements sequence (line) mein store hote hain, aur unko order-wise access kiya jata hai."
   ]
  },
  {
   "cell_type": "markdown",
   "id": "9f6f2a62-c01c-4654-8220-688df7fc34f3",
   "metadata": {},
   "source": [
    "<body style=\"font-family: Sans-serif;\">\n",
    "    <div style=\"color: black; font-size: 15px; font-style: oblique; text-shadow: 0 0 3px white, 0 0 1px black; padding: 20px;\">\n",
    "        \n",
    "- #### 1️⃣ Sequential Order: \n",
    "    -  Data ek line-by-line store hota hai."
   ]
  },
  {
   "cell_type": "code",
   "execution_count": 92,
   "id": "fc2ffbd4-fe9e-4caa-9aa8-8c86d4923ae7",
   "metadata": {
    "tags": []
   },
   "outputs": [],
   "source": [
    "import numpy as np"
   ]
  },
  {
   "cell_type": "code",
   "execution_count": 94,
   "id": "e6bcf362-c6bc-40e5-9818-ddf527610cb3",
   "metadata": {
    "tags": []
   },
   "outputs": [
    {
     "data": {
      "text/plain": [
       "array([10, 20, 30, 40, 50])"
      ]
     },
     "execution_count": 94,
     "metadata": {},
     "output_type": "execute_result"
    }
   ],
   "source": [
    "arr = np.array([10, 20, 30, 40, 50])\n",
    "arr"
   ]
  },
  {
   "cell_type": "code",
   "execution_count": 95,
   "id": "6e6d5788-488a-4465-bdbf-3f61ab7018e8",
   "metadata": {
    "tags": []
   },
   "outputs": [
    {
     "name": "stdout",
     "output_type": "stream",
     "text": [
      "10 -> 20 -> 30 -> 40 -> 50 -> "
     ]
    }
   ],
   "source": [
    "for num in arr:\n",
    "    print(num, end=\" -> \")"
   ]
  },
  {
   "cell_type": "markdown",
   "id": "55fa1fd9-4804-44da-9d51-a974024d46c3",
   "metadata": {},
   "source": [
    "<body style=\"font-family: Sans-serif;\">\n",
    "    <div style=\"color: black; font-size: 15px; font-style: oblique; text-shadow: 0 0 3px white, 0 0 1px black; padding: 20px;\">\n",
    "        \n",
    "- #### 2️⃣ Single Level Access: \n",
    "    - Har element ka sirf ek previous aur ek next element hota hai (except first & last)"
   ]
  },
  {
   "cell_type": "code",
   "execution_count": 96,
   "id": "426460b4-9127-4683-96bd-97b430639d07",
   "metadata": {
    "tags": []
   },
   "outputs": [],
   "source": [
    "# Creating Linked List using Dictionary\n",
    "\n",
    "class Node:\n",
    "    def __init__(self, data):\n",
    "        \n",
    "        self.data = data\n",
    "        self.next = None\n"
   ]
  },
  {
   "cell_type": "code",
   "execution_count": 97,
   "id": "7566b288-2f38-4c1b-b7ec-0d8a473ed91e",
   "metadata": {
    "tags": []
   },
   "outputs": [],
   "source": [
    "# Creating Nodes\n",
    "\n",
    "head = Node(10)\n",
    "\n",
    "second = Node(20)\n",
    "\n",
    "third = Node(30)"
   ]
  },
  {
   "cell_type": "code",
   "execution_count": 98,
   "id": "672df1a2-756d-4bbb-8e4a-aef30dfe63d5",
   "metadata": {
    "tags": []
   },
   "outputs": [],
   "source": [
    "# Linking Nodes\n",
    "\n",
    "head.next = second\n",
    "second.next = third"
   ]
  },
  {
   "cell_type": "code",
   "execution_count": 99,
   "id": "62543866-dbd9-459f-b976-fa1c69c65862",
   "metadata": {
    "tags": []
   },
   "outputs": [
    {
     "data": {
      "text/plain": [
       "10"
      ]
     },
     "execution_count": 99,
     "metadata": {},
     "output_type": "execute_result"
    }
   ],
   "source": [
    "head.data"
   ]
  },
  {
   "cell_type": "code",
   "execution_count": 100,
   "id": "629926c3-68e8-4fe1-80c9-85f923d07483",
   "metadata": {
    "tags": []
   },
   "outputs": [
    {
     "data": {
      "text/plain": [
       "20"
      ]
     },
     "execution_count": 100,
     "metadata": {},
     "output_type": "execute_result"
    }
   ],
   "source": [
    "head.next.data"
   ]
  },
  {
   "cell_type": "code",
   "execution_count": 101,
   "id": "bdcffc87-8ae4-4614-9d5a-4ce6d1b883c4",
   "metadata": {
    "tags": []
   },
   "outputs": [
    {
     "data": {
      "text/plain": [
       "30"
      ]
     },
     "execution_count": 101,
     "metadata": {},
     "output_type": "execute_result"
    }
   ],
   "source": [
    "head.next.next.data"
   ]
  },
  {
   "cell_type": "code",
   "execution_count": 102,
   "id": "9a417306-69ba-4af5-88ed-d2fe25425235",
   "metadata": {
    "tags": []
   },
   "outputs": [
    {
     "name": "stdout",
     "output_type": "stream",
     "text": [
      "10 -> 20 -> 30 -> "
     ]
    }
   ],
   "source": [
    "current = head\n",
    "while current:\n",
    "    print(current.data, end=\" -> \")\n",
    "    current = current.next"
   ]
  },
  {
   "cell_type": "markdown",
   "id": "8f081be2-10d2-4c52-acc4-874daa3dc503",
   "metadata": {},
   "source": [
    "<body style=\"font-family: Sans-serif;\">\n",
    "    <div style=\"color: black; font-size: 15px; font-style: oblique; text-shadow: 0 0 3px white, 0 0 1px black; padding: 20px;\">\n",
    "        \n",
    "#### 3️⃣ Memory Utilization: \n",
    "- Ye contiguous (arrays) ya linked memory (linked lists) use kar sakta hai."
   ]
  },
  {
   "cell_type": "code",
   "execution_count": 104,
   "id": "11472f04-8a73-47c7-bb52-c3250c40bcd3",
   "metadata": {
    "tags": []
   },
   "outputs": [
    {
     "data": {
      "text/plain": [
       "array([0, 1, 2, 3, 4])"
      ]
     },
     "execution_count": 104,
     "metadata": {},
     "output_type": "execute_result"
    }
   ],
   "source": [
    "arr = np.arange(5)\n",
    "arr"
   ]
  },
  {
   "cell_type": "code",
   "execution_count": 105,
   "id": "c22b0022-5a3f-491c-a492-500ce8b0409e",
   "metadata": {
    "tags": []
   },
   "outputs": [],
   "source": [
    "node1 = Node(1)\n",
    "node2 = Node(2)\n",
    "node1.next = node2 "
   ]
  },
  {
   "cell_type": "code",
   "execution_count": 106,
   "id": "bd9ae739-f980-4763-8b86-4bb4c3cde018",
   "metadata": {
    "tags": []
   },
   "outputs": [
    {
     "name": "stdout",
     "output_type": "stream",
     "text": [
      "Array Memory Size: 152\n",
      "Linked List Node Memory: 48\n"
     ]
    }
   ],
   "source": [
    " # Linked memory\n",
    "import sys\n",
    "\n",
    "print(\"Array Memory Size:\", sys.getsizeof(arr))  # Fixed contiguous\n",
    "print(\"Linked List Node Memory:\", sys.getsizeof(node1))  # Dynamic"
   ]
  },
  {
   "cell_type": "markdown",
   "id": "edcbba97-8891-4530-bf94-e8eb27f943dc",
   "metadata": {},
   "source": [
    "<body style=\"font-family: Sans-serif;\">\n",
    "    <div style=\"color: black; font-size: 15px; font-style: oblique; text-shadow: 0 0 3px white, 0 0 1px black; padding: 20px;\">\n",
    "\n",
    "- #### 4️⃣️⃣Traversal: \n",
    "    - Data ko start to end ya end to start traverse kiya ja sakta hai."
   ]
  },
  {
   "cell_type": "code",
   "execution_count": 110,
   "id": "c2dc1163-d0a7-41e9-9d85-37ea67c74ffc",
   "metadata": {
    "tags": []
   },
   "outputs": [
    {
     "data": {
      "text/plain": [
       "array([10, 20, 30, 40, 50])"
      ]
     },
     "execution_count": 110,
     "metadata": {},
     "output_type": "execute_result"
    }
   ],
   "source": [
    "arr = np.array([10, 20, 30, 40, 50])\n",
    "arr"
   ]
  },
  {
   "cell_type": "code",
   "execution_count": 111,
   "id": "54840e34-370d-43a5-a99c-1e3b780f75ff",
   "metadata": {
    "tags": []
   },
   "outputs": [
    {
     "name": "stdout",
     "output_type": "stream",
     "text": [
      "Forward: [10 20 30 40 50]\n"
     ]
    }
   ],
   "source": [
    "# Forward Traversal\n",
    "print(\"Forward:\", arr)"
   ]
  },
  {
   "cell_type": "code",
   "execution_count": 112,
   "id": "20329c78-ea7d-47c4-91d1-29e86d0f35e7",
   "metadata": {
    "tags": []
   },
   "outputs": [
    {
     "name": "stdout",
     "output_type": "stream",
     "text": [
      "Reverse: [50 40 30 20 10]\n"
     ]
    }
   ],
   "source": [
    "# Reverse Traversal\n",
    "print(\"Reverse:\", arr[::-1])"
   ]
  },
  {
   "cell_type": "markdown",
   "id": "1e9e77c4-394c-4327-be12-0df0a5aae481",
   "metadata": {},
   "source": [
    "<body style=\"font-family: Sans-serif;\">\n",
    "    <div style=\"color: black; font-size: 15px; font-style: oblique; text-shadow: 0 0 3px white, 0 0 1px black; padding: 20px;\">\n",
    "\n",
    "- #### 6️⃣ Fixed Size:\n",
    "    - Array ka size initialize hone ke baad change nahi hota\n",
    "    - Python mein built-in list dynamic hoti hai, magar agar array module ya NumPy array use karein, toh fixed-size behavior milta hai."
   ]
  },
  {
   "cell_type": "code",
   "execution_count": 62,
   "id": "3f2975b8-4998-4aea-99cf-dd1256ee679c",
   "metadata": {
    "tags": []
   },
   "outputs": [
    {
     "data": {
      "text/plain": [
       "[1, 2, 3]"
      ]
     },
     "execution_count": 62,
     "metadata": {},
     "output_type": "execute_result"
    }
   ],
   "source": [
    "arr = [1,2,3]\n",
    "arr"
   ]
  },
  {
   "cell_type": "code",
   "execution_count": 63,
   "id": "0df7a7fc-5a7c-411b-8aeb-811a0c932948",
   "metadata": {
    "tags": []
   },
   "outputs": [],
   "source": [
    "arr.insert(len(arr),4)"
   ]
  },
  {
   "cell_type": "code",
   "execution_count": 64,
   "id": "e255f7a7-f187-40e0-8467-62021075d8ed",
   "metadata": {
    "tags": []
   },
   "outputs": [
    {
     "data": {
      "text/plain": [
       "[1, 2, 3, 4]"
      ]
     },
     "execution_count": 64,
     "metadata": {},
     "output_type": "execute_result"
    }
   ],
   "source": [
    "arr"
   ]
  },
  {
   "cell_type": "code",
   "execution_count": 29,
   "id": "f14a699f-bd24-414c-86a3-173405ec4884",
   "metadata": {
    "tags": []
   },
   "outputs": [],
   "source": [
    "import numpy as np"
   ]
  },
  {
   "cell_type": "code",
   "execution_count": 66,
   "id": "bded9264-a1d5-4748-9435-d5d3c9a0a645",
   "metadata": {
    "tags": []
   },
   "outputs": [
    {
     "data": {
      "text/plain": [
       "array([10, 20, 30, 40, 50])"
      ]
     },
     "execution_count": 66,
     "metadata": {},
     "output_type": "execute_result"
    }
   ],
   "source": [
    "arr = np.array([10, 20, 30, 40, 50])\n",
    "arr"
   ]
  },
  {
   "cell_type": "code",
   "execution_count": 68,
   "id": "2ae71e88-e7be-4965-9d18-cfc4eb251793",
   "metadata": {
    "tags": []
   },
   "outputs": [
    {
     "ename": "ValueError",
     "evalue": "cannot resize an array that references or is referenced\nby another array in this way.\nUse the np.resize function or refcheck=False",
     "output_type": "error",
     "traceback": [
      "\u001b[0;31m---------------------------------------------------------------------------\u001b[0m",
      "\u001b[0;31mValueError\u001b[0m                                Traceback (most recent call last)",
      "Cell \u001b[0;32mIn[68], line 1\u001b[0m\n\u001b[0;32m----> 1\u001b[0m \u001b[43marr\u001b[49m\u001b[38;5;241;43m.\u001b[39;49m\u001b[43mresize\u001b[49m\u001b[43m(\u001b[49m\u001b[38;5;241;43m3\u001b[39;49m\u001b[43m)\u001b[49m\n",
      "\u001b[0;31mValueError\u001b[0m: cannot resize an array that references or is referenced\nby another array in this way.\nUse the np.resize function or refcheck=False"
     ]
    }
   ],
   "source": [
    "arr.resize(3)"
   ]
  },
  {
   "cell_type": "markdown",
   "id": "b1ce2d2c-e603-44a1-80f1-6caf11e0d06c",
   "metadata": {},
   "source": [
    "<h1 style=\"text-align:center; color:#005bbd; font-size:20px; font-family:Sans-serif; font-style: oblique; text-shadow: 0 0 3px white, 0 0 1px Black;\">\n",
    " Homogeneous vs Non-Homogeneous\n",
    "</h1>"
   ]
  },
  {
   "cell_type": "markdown",
   "id": "eafba849-f3ee-4d70-96db-53ca86da3fd7",
   "metadata": {},
   "source": [
    "<body style=\"font-family: Sans-serif;\">\n",
    "    <div style=\"color: black; font-size: 15px; font-style: oblique; text-shadow: 0 0 3px white, 0 0 1px black; padding: 20px;\">\n",
    "\n",
    "#### 1️⃣ Homogeneous Data Structure        \n",
    "    \n",
    "-  Homogeneous ka matlab hai \"same type ka data\". \n",
    "- Iska matlab ye hai ke ek data structure sirf ek hi type ka data store karega, jaise sirf integers, sirf floats, ya sirf strings.\n",
    "        \n",
    "-  Ye data structures memory-efficient hote hain kyunki har element same type ka hota hai, is wajah se CPU fast processing karta hai.\n",
    "- Example: NumPy Arrays, C Arrays, Stack (of same type elements), Queue (of same type elements)\n",
    "\n",
    "-  ✅ Advantage: Fast execution, kam memory usage\n",
    "- ❌ Disadvantage: Flexibility kam hoti hai (Sirf ek hi type ka data store ho sakta hai)"
   ]
  },
  {
   "cell_type": "code",
   "execution_count": 69,
   "id": "6cb5385b-2dd6-4063-b571-78982af7b52c",
   "metadata": {
    "tags": []
   },
   "outputs": [
    {
     "name": "stdout",
     "output_type": "stream",
     "text": [
      "[10 20 30 40] <class 'numpy.ndarray'>\n"
     ]
    }
   ],
   "source": [
    "import numpy as np\n",
    "\n",
    "arr = np.array([10, 20, 30, 40])\n",
    "print(arr, type(arr))"
   ]
  },
  {
   "cell_type": "code",
   "execution_count": 72,
   "id": "15b716b2-eb5b-4f9c-b28a-006638944de3",
   "metadata": {
    "tags": []
   },
   "outputs": [
    {
     "data": {
      "text/plain": [
       "array([10. , 20. , 30. ,  1.1])"
      ]
     },
     "execution_count": 72,
     "metadata": {},
     "output_type": "execute_result"
    }
   ],
   "source": [
    "np.array([10, 20, 30, 1.1]) # yaha 1.1 add karny sy sab float ho gaye"
   ]
  },
  {
   "cell_type": "code",
   "execution_count": 74,
   "id": "7f56e66b-6ed2-45c3-b99c-5963bb85befe",
   "metadata": {
    "tags": []
   },
   "outputs": [
    {
     "data": {
      "text/plain": [
       "array(['10', '20', '30', 'A'], dtype='<U21')"
      ]
     },
     "execution_count": 74,
     "metadata": {},
     "output_type": "execute_result"
    }
   ],
   "source": [
    "np.array([10, 20, 30, \"A\"]) # yaha A add karny sy sab string mein ho gaye"
   ]
  },
  {
   "cell_type": "markdown",
   "id": "166f72d2-1fc0-4870-a904-bcda355db321",
   "metadata": {},
   "source": [
    "<body style=\"font-family: Sans-serif;\">\n",
    "    <div style=\"color: black; font-size: 15px; font-style: oblique; text-shadow: 0 0 3px white, 0 0 1px black; padding: 20px;\">\n",
    "        \n",
    "#### 2️⃣ Non-Homogeneous Data Structure\n",
    "        \n",
    "#### Non-homogeneous ka matlab hai \"multiple types ka data\". \n",
    "-  Iska matlab hai ke ek data structure alag-alag data types store kar sakta hai, jaise integers, strings, floats, booleans, etc.\n",
    "\n",
    "- Ye data structures zyada flexible hote hain kyunki kisi bhi type ka data rakh sakte hain, lekin slow hote hain kyunki har element ka type check karna padta hai.\n",
    "        \n",
    "- Example: Python Lists, Tuples, Dictionaries, JSON Data\n",
    "\n",
    "- ✅ Advantage: Zyada flexible, kisi bhi type ka data store kar sakta hai\n",
    "- ❌ Disadvantage: Slow execution, zyada memory consume karta hai"
   ]
  },
  {
   "cell_type": "code",
   "execution_count": 75,
   "id": "faa9e5a8-6de0-4759-a9a0-6f5b42afe349",
   "metadata": {
    "tags": []
   },
   "outputs": [
    {
     "data": {
      "text/plain": [
       "[10, 'Hello', 3.14, True]"
      ]
     },
     "execution_count": 75,
     "metadata": {},
     "output_type": "execute_result"
    }
   ],
   "source": [
    "mixed_list = [10, \"Hello\", 3.14, True]\n",
    "mixed_list"
   ]
  },
  {
   "cell_type": "markdown",
   "id": "a9985005-8a3f-4e86-a8da-5b079f56a3e7",
   "metadata": {},
   "source": [
    "<h1 style=\"text-align:center; color:#005bbd; font-size:20px; font-family:Sans-serif; font-style: oblique; text-shadow: 0 0 3px white, 0 0 1px Black;\">\n",
    " Static vs Dynamic\n",
    "</h1>"
   ]
  },
  {
   "cell_type": "markdown",
   "id": "b52020d0-9ada-45dc-94b7-dc4c3fb2bb30",
   "metadata": {},
   "source": [
    "<body style=\"font-family: Sans-serif;\">\n",
    "    <div style=\"color: black; font-size: 15px; font-style: oblique; text-shadow: 0 0 3px white, 0 0 1px black; padding: 20px;\">\n",
    "        \n",
    "#### 1️⃣ Static Data Structures \n",
    "**Static Data Structure** woh hota hai jisme **size fixed hota hai** aur **pehle se define kiya jata hai**.  \n",
    "Iska size program ke run hone se pehle allocate hota hai aur change nahi hota.  \n",
    "\n",
    "**Features:**    \n",
    "✅ Fixed size hota hai.  \n",
    "✅ Memory pre-allocated hoti hai.  \n",
    "✅ Fast execution kyunki data ek jagah stored hota hai.  \n",
    "❌ Flexible nahi hota (size badal nahi sakta).  \n",
    "❌ Agar extra memory allocate ho jaye jo use na ho, to wastage hoti hai.  \n",
    "\n",
    "🔹 **Examples:**  \n",
    "✔ **Arrays in C/C++**  \n",
    "✔ **NumPy Arrays in Python**  \n",
    "✔ **Static Stack & Static Queue**  \n",
    "\n",
    "🔹 **Example (C Language Static Array)**\n",
    "```c\n",
    "int arr[5] = {10, 20, 30, 40, 50}; // Fixed-size array\n",
    "arr[5] = 60;  // Error: Out of bounds\n",
    "``` \n",
    "<br>\n",
    "        \n",
    "**Yahan error aayegi kyunki array ka size fixed hai (5 elements se zyada nahi ho sakta).**\n",
    "        \n",
    "- Python default mein dynamic memory allocation use karta hai, yani lists ka size automatically grow/shrink hota hai.\n",
    "- Lekin NumPy arrays ka size fixed hota hai, yani ek dafa allocate hone ke baad change nahi hota."
   ]
  },
  {
   "cell_type": "code",
   "execution_count": 88,
   "id": "2db0bc9c-12f6-466c-8de4-2c7189b8b733",
   "metadata": {
    "tags": []
   },
   "outputs": [
    {
     "name": "stdout",
     "output_type": "stream",
     "text": [
      "[95437931203183              0             32]\n"
     ]
    }
   ],
   "source": [
    "arr = np.empty(3, dtype=int)\n",
    "print(arr) "
   ]
  },
  {
   "cell_type": "code",
   "execution_count": 89,
   "id": "6e8b8407-1347-4938-b0d6-fd5f34100606",
   "metadata": {
    "tags": []
   },
   "outputs": [],
   "source": [
    "arr[0] = 100\n",
    "arr[1] = 200\n",
    "arr[2] = 300"
   ]
  },
  {
   "cell_type": "code",
   "execution_count": 90,
   "id": "81ed2ff7-f6af-4ec8-90e4-75caecada3ff",
   "metadata": {
    "tags": []
   },
   "outputs": [
    {
     "data": {
      "text/plain": [
       "array([100, 200, 300])"
      ]
     },
     "execution_count": 90,
     "metadata": {},
     "output_type": "execute_result"
    }
   ],
   "source": [
    "arr"
   ]
  },
  {
   "cell_type": "code",
   "execution_count": 91,
   "id": "7f3e6b6b-cb5c-4adf-b10b-a2463828c381",
   "metadata": {
    "tags": []
   },
   "outputs": [
    {
     "ename": "IndexError",
     "evalue": "index 3 is out of bounds for axis 0 with size 3",
     "output_type": "error",
     "traceback": [
      "\u001b[0;31m---------------------------------------------------------------------------\u001b[0m",
      "\u001b[0;31mIndexError\u001b[0m                                Traceback (most recent call last)",
      "Cell \u001b[0;32mIn[91], line 1\u001b[0m\n\u001b[0;32m----> 1\u001b[0m \u001b[43marr\u001b[49m\u001b[43m[\u001b[49m\u001b[38;5;241;43m3\u001b[39;49m\u001b[43m]\u001b[49m \u001b[38;5;241m=\u001b[39m \u001b[38;5;241m400\u001b[39m \u001b[38;5;66;03m# try to add more data\u001b[39;00m\n",
      "\u001b[0;31mIndexError\u001b[0m: index 3 is out of bounds for axis 0 with size 3"
     ]
    }
   ],
   "source": [
    "arr[3] = 400 # try to add more data"
   ]
  },
  {
   "cell_type": "markdown",
   "id": "c649b11a-c99e-430d-9f07-e4b58b1d83ec",
   "metadata": {},
   "source": [
    "<body style=\"font-family: Sans-serif;\">\n",
    "    <div style=\"color: black; font-size: 15px; font-style: oblique; text-shadow: 0 0 3px white, 0 0 1px black; padding: 20px;\">\n",
    "        \n",
    "2️⃣ Dynamic Data Structures \n",
    "        \n",
    "**Dynamic Data Structure** woh hota hai jisme **size change ho sakta hai** aur **runtime par memory allocate hoti hai**.  \n",
    "Iska size program ke chalne ke dauraan increase/decrease ho sakta hai.  \n",
    "\n",
    "🔹 **Features:**  \n",
    "✅ Size runtime par badal sakta hai.  \n",
    "✅ Memory efficiently use hoti hai.  \n",
    "✅ Insertion aur Deletion easily ho sakti hai.  \n",
    "❌ Kabhi kabhi extra memory allocation ki wajah se fragmentation ho sakti hai.  \n",
    "❌ Speed slow ho sakti hai kyunki pointers ka use hota hai.  \n",
    "\n",
    "🔹 **Examples:**  \n",
    "✔ **Python Lists (Dynamic)**  \n",
    "✔ **Linked Lists**  \n",
    "✔ **Dynamic Stacks & Queues**  \n",
    "✔ **Heap Memory Allocation (`malloc` in C)**  "
   ]
  },
  {
   "cell_type": "code",
   "execution_count": 78,
   "id": "9e3fa6bb-c36a-4904-a443-7770f8c541fd",
   "metadata": {
    "tags": []
   },
   "outputs": [
    {
     "name": "stdout",
     "output_type": "stream",
     "text": [
      "[10, 20, 30, 40]\n"
     ]
    }
   ],
   "source": [
    "my_list = [10, 20, 30]  # Start with 3 elements\n",
    "my_list.append(40)  # List ka size automatically badh gaya\n",
    "print(my_list)  # [10, 20, 30, 40]"
   ]
  }
 ],
 "metadata": {
  "kernelspec": {
   "display_name": "Python 3 (ipykernel)",
   "language": "python",
   "name": "python3"
  },
  "language_info": {
   "codemirror_mode": {
    "name": "ipython",
    "version": 3
   },
   "file_extension": ".py",
   "mimetype": "text/x-python",
   "name": "python",
   "nbconvert_exporter": "python",
   "pygments_lexer": "ipython3",
   "version": "3.10.12"
  }
 },
 "nbformat": 4,
 "nbformat_minor": 5
}
