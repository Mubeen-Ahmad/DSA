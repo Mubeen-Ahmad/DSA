{
 "cells": [
  {
   "cell_type": "markdown",
   "id": "d23140b2-325c-4dd7-8d8d-873e091ccd03",
   "metadata": {},
   "source": [
    "<h1 style=\"text-align:center; color:#005bbd; font-size:20px; font-family:Sans-serif; font-style: oblique; text-shadow: 0 0 3px white, 0 0 1px Black;\">\n",
    "   Primitive Data Types\n",
    "</h1>"
   ]
  },
  {
   "cell_type": "markdown",
   "id": "e18d9f8b-90de-479c-96f3-98d720844030",
   "metadata": {},
   "source": [
    "<body style=\"font-family: Sans-serif;\">\n",
    "    <div style=\"color: black; font-size: 15px; font-style: oblique; text-shadow: 0 0 3px white, 0 0 1px black; padding: 20px;\">\n",
    "        \n",
    "Primitive Data Types woh basic aur fundamental data types hain jo kisi bhi programming language ke core building blocks hote hain.\n",
    "        \n",
    "Ye simple values store karte hain, complex structures nahi hote, aur directly memory allocate hoti hai.\n",
    "\n",
    "- Primitive data types ka use fast aur efficient hota hai.\n",
    "- Ye kisi bhi programming language mein pre-defined hote hain.\n",
    "        \n",
    "        \n",
    "| **Data Type**  | **C** | **Python** | **Example** |\n",
    "|--------------|-----|--------|----------|\n",
    "| **Integer** (`int`) | `int` | `int` | `10, -5, 1000` |\n",
    "| **Float** (`float`) | `float` | `float` | `3.14, -2.5, 0.99` |\n",
    "| **Boolean** (`bool`) | `int` (0 = False, 1 = True) | `bool` (True, False) | `1 (True), 0 (False)` |\n",
    "| **Character** (`char`) | `char` (single character) | `str` (single/multiple characters) | `'A', 'Z', '$'` |\n",
    "| **String** (`str`) | `char[]` (array of characters) | `str` | `\"Hello\", 'Python'` |\n",
    "| **Complex Numbers** | Not available | `complex` | `3 + 4j, -2 - 1j` |"
   ]
  },
  {
   "cell_type": "code",
   "execution_count": 1,
   "id": "687f64c1-cdb2-486b-87ee-ad99ea7f2087",
   "metadata": {
    "tags": []
   },
   "outputs": [
    {
     "data": {
      "text/markdown": [
       "Integer: 10\n",
       "\n",
       "Float: 3.140000\n",
       "\n",
       "Character: A\n",
       "\n",
       "Boolean: 1\n",
       "\n"
      ]
     },
     "metadata": {},
     "output_type": "display_data"
    }
   ],
   "source": [
    "#include <stdio.h>\n",
    "\n",
    "int main() {\n",
    "    int num = 10;         // Integer\n",
    "    float pi = 3.14;      // Float\n",
    "    char ch = 'A';        // Character\n",
    "    int isTrue = 1;       // Boolean (1 = true, 0 = false)\n",
    "\n",
    "    printf(\"Integer: %d\\n\", num);\n",
    "    printf(\"Float: %f\\n\", pi);\n",
    "    printf(\"Character: %c\\n\", ch);\n",
    "    printf(\"Boolean: %d\\n\", isTrue);\n",
    "\n",
    "    return 0;\n",
    "}"
   ]
  },
  {
   "cell_type": "markdown",
   "id": "59064a51-7215-4ffc-b0b9-c78ed5f6320d",
   "metadata": {},
   "source": [
    "<body style=\"font-family: Sans-serif;\">\n",
    "    <div style=\"color: black; font-size: 15px; font-style: oblique; text-shadow: 0 0 3px white, 0 0 1px black; padding: 20px;\">\n",
    "      In Python"
   ]
  },
  {
   "cell_type": "code",
   "execution_count": 1,
   "id": "6c7c2253-59db-43cb-bf37-1fa8b2dd39ef",
   "metadata": {
    "tags": []
   },
   "outputs": [
    {
     "name": "stdout",
     "output_type": "stream",
     "text": [
      "Integer: 10\n",
      "Float: 3.14\n",
      "Character: A\n",
      "Boolean: True\n",
      "Complex Number: (3+4j)\n"
     ]
    }
   ],
   "source": [
    "num = 10       # Integer\n",
    "pi = 3.14      # Float\n",
    "ch = 'A'       # Character\n",
    "isTrue = True  # Boolean\n",
    "complexNum = 3 + 4j  # Complex number\n",
    "\n",
    "print(\"Integer:\", num)\n",
    "print(\"Float:\", pi)\n",
    "print(\"Character:\", ch)\n",
    "print(\"Boolean:\", isTrue)\n",
    "print(\"Complex Number:\", complexNum)"
   ]
  },
  {
   "cell_type": "markdown",
   "id": "60f964ae-9a2a-4a20-a892-a594b45f0537",
   "metadata": {},
   "source": [
    "<h1 style=\"text-align:center; color:#005bbd; font-size:20px; font-family:Sans-serif; font-style: oblique; text-shadow: 0 0 3px white, 0 0 1px Black;\">\n",
    "   Non-Primitive Data Types\n",
    "</h1>"
   ]
  },
  {
   "cell_type": "markdown",
   "id": "3d92fb84-f99e-4783-85b5-c9f73f7a5299",
   "metadata": {},
   "source": [
    "<body style=\"font-family: Sans-serif;\">\n",
    "    <div style=\"color: black; font-size: 15px; font-style: oblique; text-shadow: 0 0 3px white, 0 0 1px black; padding: 20px;\">\n",
    "\n",
    "**Non-Primitive Data Types** woh hote hain jo **multiple values ko store** karne ki capability rakhte hain.  \n",
    "Ye **complex data structures** hote hain jo **primitive data types** ka combination bhi ho sakte hain.  \n",
    "        \n",
    "| **Data Type**  | **C** | **Python** | **Example** |\n",
    "|--------------|-----|--------|----------|\n",
    "| **Array** | `int arr[5] = {1, 2, 3, 4, 5};` | List | `[1, 2, 3, 4, 5]` |\n",
    "| **List** | Not available | `list` | `[\"apple\", \"banana\"]` |\n",
    "| **Tuple** | `struct` ka use karna parega | `tuple` | `(10, 20, 30)` |\n",
    "| **Set** | Not available | `set` | `{1, 2, 3}` |\n",
    "| **Dictionary (Key-Value Pair)** | `struct` ka use karna parega | `dict` | `{\"name\": \"Ali\", \"age\": 25}` |\n",
    "| **Struct (User-defined Object)** | `struct` | `class` | `Custom class objects` |"
   ]
  },
  {
   "cell_type": "markdown",
   "id": "21cf6799-3fb2-4e10-bf03-17082d2bd804",
   "metadata": {},
   "source": [
    "<body style=\"font-family: Sans-serif;\">\n",
    "    <div style=\"color: black; font-size: 15px; font-style: oblique; text-shadow: 0 0 3px white, 0 0 1px black; padding: 20px;\">\n",
    "      Arrays and Struct in C"
   ]
  },
  {
   "cell_type": "code",
   "execution_count": 1,
   "id": "e227dc0d-d6f3-4465-ad1c-2aecba8160fc",
   "metadata": {
    "tags": []
   },
   "outputs": [
    {
     "data": {
      "text/markdown": [
       "Array Element: 10\n",
       "\n",
       "Struct Name: Ali, Age: 25\n",
       "\n"
      ]
     },
     "metadata": {},
     "output_type": "display_data"
    }
   ],
   "source": [
    "#include <stdio.h>\n",
    "\n",
    "// Structure (Similar to Python Dictionary or Object)\n",
    "\n",
    "struct Person {\n",
    "    char name[50];\n",
    "    int age;\n",
    "};\n",
    "\n",
    "int main() {\n",
    "    // Array\n",
    "    int numbers[3] = {10, 20, 30};\n",
    "\n",
    "    // Struct\n",
    "    struct Person person1 = {\"Ali\", 25};\n",
    "\n",
    "    printf(\"Array Element: %d\\n\", numbers[0]);\n",
    "    printf(\"Struct Name: %s, Age: %d\\n\", person1.name, person1.age);\n",
    "\n",
    "    return 0;\n",
    "}"
   ]
  },
  {
   "cell_type": "markdown",
   "id": "74c5d6db-5fe3-4e09-99a6-43f428367b37",
   "metadata": {},
   "source": [
    "<body style=\"font-family: Sans-serif;\">\n",
    "    <div style=\"color: black; font-size: 15px; font-style: oblique; text-shadow: 0 0 3px white, 0 0 1px black; padding: 20px;\">\n",
    "      Lists, Tuples, Sets, Dicts in Python"
   ]
  },
  {
   "cell_type": "code",
   "execution_count": 2,
   "id": "bf44d987-a515-4368-bce6-44aea215ee49",
   "metadata": {
    "tags": []
   },
   "outputs": [
    {
     "name": "stdout",
     "output_type": "stream",
     "text": [
      "List: [10, 20, 30]\n",
      "Tuple: (10, 20, 30)\n",
      "Set: {1, 2, 3}\n",
      "Dictionary: {'name': 'Mubeen', 'marks': 90}\n"
     ]
    }
   ],
   "source": [
    "# List (Mutable, Like C Arrays)\n",
    "numbers = [10, 20, 30]\n",
    "\n",
    "# Tuple (Immutable)\n",
    "coordinates = (10, 20, 30)\n",
    "\n",
    "# Set (Unique Values)\n",
    "unique_numbers = {1, 2, 3}\n",
    "\n",
    "# Dictionary (Key-Value Pair, Like C Struct)\n",
    "person = {\"name\": \"Mubeen\", \"marks\": 90}\n",
    "\n",
    "print(\"List:\", numbers)\n",
    "print(\"Tuple:\", coordinates)\n",
    "print(\"Set:\", unique_numbers)\n",
    "print(\"Dictionary:\", person)"
   ]
  },
  {
   "cell_type": "markdown",
   "id": "7463fb67-158c-4ca3-a883-45f1d1e56e93",
   "metadata": {},
   "source": [
    "<h1 style=\"text-align:center; color:#005bbd; font-size:20px; font-family:Sans-serif; font-style: oblique; text-shadow: 0 0 3px white, 0 0 1px Black;\">\n",
    "   Types of Data Structures\n",
    "</h1>"
   ]
  },
  {
   "cell_type": "markdown",
   "id": "617506c1-7a57-4b3d-8ebd-ea2427cb32bf",
   "metadata": {},
   "source": [
    "<body style=\"font-family: Sans-serif;\">\n",
    "    <div style=\"color: black; font-size: 15px; font-style: oblique; text-shadow: 0 0 3px white, 0 0 1px black; padding: 20px;\">\n",
    "        \n",
    "### Data structures 2 types ke hote hain:\n",
    "- ### 1 Linear Data Structures\n",
    "- ### 2 Non-Linear Data Structures"
   ]
  },
  {
   "cell_type": "markdown",
   "id": "4288c7c9-0cb0-4402-abe5-957ebe6aec19",
   "metadata": {},
   "source": [
    "<body style=\"font-family: Sans-serif;\">\n",
    "    <div style=\"color: black; font-size: 15px; font-style: oblique; text-shadow: 0 0 3px white, 0 0 1px black; padding: 20px;\">\n",
    "        \n",
    "### 1 Linear Data Structures\n",
    "* Linear data structures woh hote hain jisme elements ek sequence (line) mein arranged hote hain   \n",
    "* Har element ka ek unique next aur previous element hota hai. \n",
    "* Memory sequentially allocate hoti hai.\n",
    "\n",
    "        \n",
    "| **Structure** | **Explanation** |\n",
    "|-------------|----------------|\n",
    "| **Array** | Fixed / Dynamic size, continuous memory allocation |\n",
    "| **Linked List** | Nodes linked via pointers, dynamic memory allocation |\n",
    "| **Stack** | LIFO (Last In, First Out) principle |\n",
    "| **Queue** | FIFO (First In, First Out) principle |"
   ]
  },
  {
   "cell_type": "markdown",
   "id": "f4cd6b0e-b35a-44ba-8fb0-0b97771e83c2",
   "metadata": {},
   "source": [
    "<body style=\"font-family: Sans-serif;\">\n",
    "    <div style=\"color: black; font-size: 15px; font-style: oblique; text-shadow: 0 0 3px white, 0 0 1px black; padding: 20px;\">\n",
    "        \n",
    "### 2. Non-Linear Data Structures  \n",
    "        \n",
    "* Non-linear data structures woh hote hain jisme elements kisi bhi order mein arranged ho sakte hain\n",
    "* Har element ka ek ya ek se zyada connections ho sakte hain\n",
    "* Memory allocation scattered hoti hai\n",
    "\n",
    "| **Structure** | **Explanation** |\n",
    "|-------------|----------------|\n",
    "| **Tree** | Hierarchical structure with parent-child relation |\n",
    "| **Graph** | Nodes interconnected via edges |\n",
    "| **Hash Table** | Key-value pairs with fast access |"
   ]
  }
 ],
 "metadata": {
  "kernelspec": {
   "display_name": "Python 3 (ipykernel)",
   "language": "python",
   "name": "python3"
  },
  "language_info": {
   "codemirror_mode": {
    "name": "ipython",
    "version": 3
   },
   "file_extension": ".py",
   "mimetype": "text/x-python",
   "name": "python",
   "nbconvert_exporter": "python",
   "pygments_lexer": "ipython3",
   "version": "3.10.12"
  }
 },
 "nbformat": 4,
 "nbformat_minor": 5
}
