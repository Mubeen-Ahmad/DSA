{
 "cells": [
  {
   "cell_type": "markdown",
   "id": "e389ed35-2049-4599-a6a4-1a0d0119b2a1",
   "metadata": {},
   "source": [
    "<h1 style=\"text-align:center; color:#005bbd; font-size:20px; font-family:Sans-serif; font-style: oblique; text-shadow: 0 0 3px white, 0 0 1px Black;\">\n",
    " CRUD Operations in Array\n",
    "</h1>"
   ]
  },
  {
   "cell_type": "markdown",
   "id": "6b42fce2-93c6-4b4b-b536-0676cb434555",
   "metadata": {},
   "source": [
    "<body style=\"font-family: Sans-serif;\">\n",
    "    <div style=\"color: black; font-size: 15px; font-style: oblique; text-shadow: 0 0 3px white, 0 0 1px black; padding: 20px;\">\n",
    "      \n",
    "##  Create (Insertion in Array)\n",
    "\n",
    "- #### Array mein naye elements ko insert karna ek common operation hai.\n",
    "- #### Agar static array hai toh size fix hoga, aur agar dynamic array hai toh resize ho sakta hai."
   ]
  },
  {
   "cell_type": "code",
   "execution_count": 10,
   "id": "b407bc12-f488-4342-b665-b1037765fa99",
   "metadata": {
    "tags": []
   },
   "outputs": [
    {
     "data": {
      "text/markdown": [
       "8 6 9"
      ]
     },
     "metadata": {},
     "output_type": "display_data"
    }
   ],
   "source": [
    "# include <stdio.h>\n",
    "\n",
    "int main(){\n",
    "    \n",
    "    int array[3]; // 3 fix Size Static Array\n",
    "    \n",
    "    // Insert Values\n",
    "    \n",
    "    array[0] = 8;\n",
    "    array[1] = 6;\n",
    "    array[2] = 9;\n",
    "    \n",
    "    printf(\"%d %d %d\",array[0],array[1],array[2]);\n",
    "}"
   ]
  },
  {
   "cell_type": "markdown",
   "id": "e1732533-a2eb-4dc5-9943-4215f3dc91bf",
   "metadata": {},
   "source": [
    "<body style=\"font-family: Sans-serif;\">\n",
    "    <div style=\"color: black; font-size: 15px; font-style: oblique; text-shadow: 0 0 3px white, 0 0 1px black; padding: 20px;\">\n",
    "      Dynamic Array"
   ]
  },
  {
   "cell_type": "code",
   "execution_count": 15,
   "id": "e38170a6-a2ee-4b12-a6e6-b6100731a29c",
   "metadata": {
    "tags": []
   },
   "outputs": [
    {
     "data": {
      "text/markdown": [
       "8 6 9 7 5 "
      ]
     },
     "metadata": {},
     "output_type": "display_data"
    }
   ],
   "source": [
    "#include <stdio.h>\n",
    "#include <stdlib.h>\n",
    "\n",
    "int main(){\n",
    "    \n",
    "    int *array;\n",
    "    int size = 3, newSize = 5;\n",
    "    \n",
    "    // Initial Allocation\n",
    "    array = (int *)malloc(size * sizeof(int));\n",
    "    \n",
    "    // Insert Values\n",
    "    array[0] = 8;\n",
    "    array[1] = 6;\n",
    "    array[2] = 9;\n",
    "    \n",
    "    \n",
    "     // Resize Array\n",
    "    array = (int *)realloc(array, newSize * sizeof(int));\n",
    "    \n",
    "    array[3] = 7;\n",
    "    array[4] = 5;\n",
    "    \n",
    "    for (int i = 0; i < newSize; i++) {\n",
    "        printf(\"%d \", array[i]);\n",
    "    }\n",
    "    \n",
    "    \n",
    "    // Free memory\n",
    "    free(array);\n",
    "    \n",
    "    return 0;\n",
    "    \n",
    "}"
   ]
  },
  {
   "cell_type": "markdown",
   "id": "8676d1fc-1b18-4b38-ba8b-ed89a16c3a84",
   "metadata": {},
   "source": [
    "<body style=\"font-family: Sans-serif;\">\n",
    "    <div style=\"color: black; font-size: 15px; font-style: oblique; text-shadow: 0 0 3px white, 0 0 1px black; padding: 20px;\">\n",
    "      In Python"
   ]
  },
  {
   "cell_type": "code",
   "execution_count": 7,
   "id": "9c565ec4-6e3a-439e-a0a8-c19f1cd2f058",
   "metadata": {
    "tags": []
   },
   "outputs": [],
   "source": [
    "import ctypes"
   ]
  },
  {
   "cell_type": "code",
   "execution_count": 9,
   "id": "d5a30090-aed5-4474-ae93-0e218c86a045",
   "metadata": {
    "tags": []
   },
   "outputs": [
    {
     "name": "stdout",
     "output_type": "stream",
     "text": [
      "8 6 9\n"
     ]
    }
   ],
   "source": [
    "int_array = ctypes.c_int * 3 # 3 fix static array\n",
    "\n",
    "array = int_array() # empty array\n",
    "\n",
    "# insertion\n",
    "\n",
    "array[0] = 8\n",
    "array[1] = 6\n",
    "array[2] = 9\n",
    "\n",
    "print(array[0],array[1],array[2])"
   ]
  },
  {
   "cell_type": "markdown",
   "id": "56902f98-ce22-4ab5-8f4f-32343cf1b2f0",
   "metadata": {
    "tags": []
   },
   "source": [
    "<body style=\"font-family: Sans-serif;\">\n",
    "    <div style=\"color: black; font-size: 15px; font-style: oblique; text-shadow: 0 0 3px white, 0 0 1px black; padding: 20px;\">\n",
    "      Dynamic Array Python"
   ]
  },
  {
   "cell_type": "code",
   "execution_count": 2,
   "id": "462ecc3a-ec44-4914-8e92-5dfe9167b382",
   "metadata": {
    "tags": []
   },
   "outputs": [],
   "source": [
    "import numpy as np"
   ]
  },
  {
   "cell_type": "code",
   "execution_count": 33,
   "id": "f90b466d-d503-4a35-8c4d-5df5e788a9d8",
   "metadata": {
    "tags": []
   },
   "outputs": [
    {
     "name": "stdout",
     "output_type": "stream",
     "text": [
      "[8, 6, 9]\n",
      "[8, 6, 9, 7, 5]\n"
     ]
    }
   ],
   "source": [
    "array = [] # empty Dynamic array \n",
    "\n",
    "array.append(8)\n",
    "array.append(6)\n",
    "array.append(9)\n",
    "\n",
    "print(array)\n",
    "\n",
    "# again insert\n",
    "array.append(7)\n",
    "array.append(5)\n",
    "\n",
    "print(array)"
   ]
  },
  {
   "cell_type": "markdown",
   "id": "dbdf6933-21a4-49c8-b158-084926d09b07",
   "metadata": {
    "tags": []
   },
   "source": [
    "<body style=\"font-family: Sans-serif;\">\n",
    "    <div style=\"color: black; font-size: 15px; font-style: oblique; text-shadow: 0 0 3px white, 0 0 1px black; padding: 20px;\">\n",
    "\n",
    "## Read (Traversal in Array)\n",
    "- #### Traversal ka matlab hai array ke har element ko access karna aur print karna."
   ]
  },
  {
   "cell_type": "code",
   "execution_count": 2,
   "id": "6d7de417-96a0-4eee-a63d-455cf402dd2b",
   "metadata": {
    "tags": []
   },
   "outputs": [
    {
     "data": {
      "text/markdown": [
       "10 20 30 40 50 "
      ]
     },
     "metadata": {},
     "output_type": "display_data"
    }
   ],
   "source": [
    "#include <stdio.h>\n",
    "\n",
    "int main() {\n",
    "    \n",
    "    int arr[] = {10, 20, 30, 40, 50};   \n",
    "    int size = sizeof(arr) / sizeof(arr[0]);\n",
    "    \n",
    "    for (int index = 0; index < size; index++){\n",
    "            printf(\"%d \",arr[index]);\n",
    "    }\n",
    "    \n",
    "    return 0;\n",
    "}"
   ]
  },
  {
   "cell_type": "markdown",
   "id": "f9833f3d-a786-44b6-88b1-425476e0fee0",
   "metadata": {},
   "source": [
    "<body style=\"font-family: Sans-serif;\">\n",
    "    <div style=\"color: black; font-size: 15px; font-style: oblique; text-shadow: 0 0 3px white, 0 0 1px black; padding: 20px;\">\n",
    "    In python"
   ]
  },
  {
   "cell_type": "code",
   "execution_count": 6,
   "id": "9d94a645-2cb9-4432-b7b8-fabea7436b39",
   "metadata": {
    "tags": []
   },
   "outputs": [
    {
     "name": "stdout",
     "output_type": "stream",
     "text": [
      "10 20 30 40 50 "
     ]
    }
   ],
   "source": [
    "arr = np.array([10, 20, 30, 40, 50])\n",
    "\n",
    "i = 0\n",
    "while i < len(arr):\n",
    "    \n",
    "    print(arr[i],end=\" \")\n",
    "    \n",
    "    i += 1"
   ]
  },
  {
   "cell_type": "markdown",
   "id": "cf8c4684-3e18-4dae-832c-533803449050",
   "metadata": {},
   "source": [
    "<body style=\"font-family: Sans-serif;\">\n",
    "    <div style=\"color: black; font-size: 15px; font-style: oblique; text-shadow: 0 0 3px white, 0 0 1px black; padding: 20px;\">\n",
    "\n",
    "## Update (Modification in Array)\n",
    "- #### Array mein kisi index ki value ko directly modify kar sakte hain."
   ]
  },
  {
   "cell_type": "code",
   "execution_count": 11,
   "id": "16da10e8-a2a1-4116-8ab2-639a7ebb1cde",
   "metadata": {
    "tags": []
   },
   "outputs": [
    {
     "data": {
      "text/markdown": [
       "1 10 3 4 5 \n",
       "\n",
       "Change 1 Index Value\n",
       "\n",
       "1 2 3 4 5 "
      ]
     },
     "metadata": {},
     "output_type": "display_data"
    }
   ],
   "source": [
    "#include <stdio.h>\n",
    "\n",
    "int main(){\n",
    "\n",
    "    int arr[] = {1,10,3,4,5};\n",
    "    \n",
    "    for(int i=0; i < (sizeof(arr)/sizeof(arr[0])); i++){\n",
    "            printf(\"%d \",arr[i]);\n",
    "    }\n",
    "    \n",
    "    printf(\"\\nChange 1 Index Value\\n\");\n",
    "    arr[1] = 2;\n",
    "    \n",
    "    for(int i=0; i < (sizeof(arr)/sizeof(arr[0])); i++){\n",
    "            printf(\"%d \",arr[i]);\n",
    "    }\n",
    "    \n",
    "    return 0;\n",
    "}"
   ]
  },
  {
   "cell_type": "markdown",
   "id": "1df37525-d74f-4b1d-89b1-3139fa379a43",
   "metadata": {},
   "source": [
    "<body style=\"font-family: Sans-serif;\">\n",
    "    <div style=\"color: black; font-size: 15px; font-style: oblique; text-shadow: 0 0 3px white, 0 0 1px black; padding: 20px;\">\n",
    "In Python"
   ]
  },
  {
   "cell_type": "code",
   "execution_count": 9,
   "id": "b2d59c6d-4013-42c0-87c3-9a5b924c1b0e",
   "metadata": {
    "tags": []
   },
   "outputs": [
    {
     "name": "stdout",
     "output_type": "stream",
     "text": [
      "1 10 3 4 5 \n",
      "\n",
      "Change 1 Index Value\n",
      "\n",
      "1 2 3 4 5 "
     ]
    }
   ],
   "source": [
    "arr = np.array([1,10,3,4,5])\n",
    "\n",
    "for i in arr:\n",
    "    print(i, end=\" \")\n",
    "    \n",
    "print(\"\\n\\nChange 1 Index Value\\n\")\n",
    "\n",
    "arr[1] = 2\n",
    "\n",
    "for i in arr:\n",
    "    print(i, end=\" \")"
   ]
  },
  {
   "cell_type": "markdown",
   "id": "2cef5bf5-0d38-4b13-91f4-1c0a4b2210ac",
   "metadata": {},
   "source": [
    "<body style=\"font-family: Sans-serif;\">\n",
    "    <div style=\"color: black; font-size: 15px; font-style: oblique; text-shadow: 0 0 3px white, 0 0 1px black; padding: 20px;\">\n",
    "\n",
    "## Delete (Remove an Element)\n",
    "\n",
    "- #### Static Arrays mein delete operation karne ke liye shifting karni parti hai, kyunki arrays ka size fixed hota hai."
   ]
  },
  {
   "cell_type": "code",
   "execution_count": 73,
   "id": "8a0c180d-1c9a-4948-84c2-fd6d070ec572",
   "metadata": {
    "tags": []
   },
   "outputs": [
    {
     "data": {
      "text/markdown": [
       "5 3 4 2 \n",
       "\n",
       "5 4 2 \n",
       "\n"
      ]
     },
     "metadata": {},
     "output_type": "display_data"
    }
   ],
   "source": [
    "#include <stdio.h>\n",
    "\n",
    "int iterate(int arr[],int size){\n",
    "\n",
    "    for(int i = 0; i < size; i++){\n",
    "        printf(\"%d \",arr[i]);\n",
    "    }\n",
    "    printf(\"\\n\");\n",
    "    return 0;\n",
    "}\n",
    "\n",
    "int shifting(int arr[],int *size,int index){\n",
    "    \n",
    "    for(int i = index; i < *size - 1;i++){\n",
    "        arr[i] = arr[i + 1];\n",
    "    }\n",
    "    \n",
    "    (*size) --; // remove last array size\n",
    "    return 0;\n",
    "}\n",
    "    \n",
    "int main(){\n",
    "    \n",
    "    int size = 4;\n",
    "    int arr[size];\n",
    "    \n",
    "    // fill array\n",
    "    arr[0] = 5;\n",
    "    arr[1] = 3;\n",
    "    arr[2] = 4;\n",
    "    arr[3] = 2;\n",
    "    \n",
    "    iterate(arr,size); // 5 3 4 2 \n",
    "    \n",
    "    // remove 3 so index is 1\n",
    "    shifting(arr,&size, 1);\n",
    "   \n",
    "    // after shifting\n",
    "    iterate(arr,size);\n",
    "    \n",
    "    return 0;\n",
    "}"
   ]
  },
  {
   "cell_type": "markdown",
   "id": "84d8e823-78ef-4be0-b4c6-7f042791f209",
   "metadata": {},
   "source": [
    "<img src=\"./images/2.jpg\" style=\"display: block;margin-left: auto; margin-right: auto;width: 40%\">"
   ]
  },
  {
   "cell_type": "markdown",
   "id": "ebc7afd6-7049-44f7-b983-184998a7d2fe",
   "metadata": {},
   "source": [
    "<body style=\"font-family: Sans-serif;\">\n",
    "    <div style=\"color: black; font-size: 15px; font-style: oblique; text-shadow: 0 0 3px white, 0 0 1px black; padding: 20px;\">\n",
    "In Python"
   ]
  },
  {
   "cell_type": "code",
   "execution_count": 38,
   "id": "c951274f-dfdc-4a93-a496-c1e26b446083",
   "metadata": {
    "tags": []
   },
   "outputs": [],
   "source": [
    "def iterate(arr,size):\n",
    "    i = 0\n",
    "    while i < size:\n",
    "        print(arr[i],end=\" \")\n",
    "        i+=1"
   ]
  },
  {
   "cell_type": "code",
   "execution_count": 51,
   "id": "48bf003c-049f-4c6b-b867-604d3f9da392",
   "metadata": {
    "tags": []
   },
   "outputs": [],
   "source": [
    "def shifting(arr,size,index):\n",
    "    i = 0\n",
    "    while i < size -1:\n",
    "        arr[i] = arr[i + 1]\n",
    "        i+=1\n",
    "    return size - 1;"
   ]
  },
  {
   "cell_type": "code",
   "execution_count": 52,
   "id": "bfa5d7ef-0e72-4347-94b1-25629a5b6aa8",
   "metadata": {
    "tags": []
   },
   "outputs": [],
   "source": [
    "size = 4\n",
    "arr = (ctypes.c_int * size)() \n",
    "\n",
    "arr[0] = 5;\n",
    "arr[1] = 3;\n",
    "arr[2] = 4;\n",
    "arr[3] = 2;"
   ]
  },
  {
   "cell_type": "code",
   "execution_count": 53,
   "id": "cc8ba23e-f919-48e3-90c1-23b77619ba96",
   "metadata": {
    "tags": []
   },
   "outputs": [
    {
     "name": "stdout",
     "output_type": "stream",
     "text": [
      "5 3 4 2 "
     ]
    }
   ],
   "source": [
    "iterate(arr,size)"
   ]
  },
  {
   "cell_type": "code",
   "execution_count": 54,
   "id": "4d09b57a-17aa-4dc8-9f76-df9d254a069a",
   "metadata": {
    "tags": []
   },
   "outputs": [],
   "source": [
    "size = shifting(arr,size,1)"
   ]
  },
  {
   "cell_type": "code",
   "execution_count": 55,
   "id": "4c937e68-fd14-4069-b8d4-715d4a3432be",
   "metadata": {
    "tags": []
   },
   "outputs": [
    {
     "name": "stdout",
     "output_type": "stream",
     "text": [
      "3 4 2 "
     ]
    }
   ],
   "source": [
    "iterate(arr,size)"
   ]
  }
 ],
 "metadata": {
  "kernelspec": {
   "display_name": "Python 3 (ipykernel)",
   "language": "python",
   "name": "python3"
  },
  "language_info": {
   "codemirror_mode": {
    "name": "ipython",
    "version": 3
   },
   "file_extension": ".py",
   "mimetype": "text/x-python",
   "name": "python",
   "nbconvert_exporter": "python",
   "pygments_lexer": "ipython3",
   "version": "3.10.12"
  }
 },
 "nbformat": 4,
 "nbformat_minor": 5
}
