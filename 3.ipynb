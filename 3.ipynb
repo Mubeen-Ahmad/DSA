{
 "cells": [
  {
   "cell_type": "markdown",
   "id": "e94a376e-839c-4398-a3b4-07456857fdd5",
   "metadata": {},
   "source": [
    "<h1 style=\"text-align:center; color:#005bbd; font-size:20px; font-family:Sans-serif; font-style: oblique; text-shadow: 0 0 3px white, 0 0 1px Black;\">\n",
    "   Arrays Data Structures\n",
    "</h1>"
   ]
  },
  {
   "cell_type": "markdown",
   "id": "08567d79-e9f7-4b5b-b37b-2fa69918455d",
   "metadata": {},
   "source": [
    "<body style=\"font-family: Sans-serif;\">\n",
    "    <div style=\"color: black; font-size: 15px; font-style: oblique; text-shadow: 0 0 3px white, 0 0 1px black; padding: 20px;\">\n",
    "\n",
    "Arrays ek **`linear`** data structure hai jo same type ke elements ka **`contiguous memory`** mein storage provide karta hai. \n",
    "\n",
    "Iska use data ko efficiently store aur access karne ke liye hota hai."
   ]
  },
  {
   "cell_type": "markdown",
   "id": "ebe9ed6c-7a49-42fb-82e8-bb2db70f0f44",
   "metadata": {},
   "source": [
    "<body style=\"font-family: Sans-serif;\">\n",
    "    <div style=\"color: black; font-size: 15px; font-style: oblique; text-shadow: 0 0 3px white, 0 0 1px black; padding: 20px;\">\n",
    "        \n",
    "#### ***Linear Data Structure Kya Hota Hai?***\n",
    "- Linear data structure ek aisa data organization method hai jisme elements sequence (line) mein store hote hain, aur unko order-wise access kiya jata hai."
   ]
  },
  {
   "cell_type": "markdown",
   "id": "9f6f2a62-c01c-4654-8220-688df7fc34f3",
   "metadata": {},
   "source": [
    "<body style=\"font-family: Sans-serif;\">\n",
    "    <div style=\"color: black; font-size: 15px; font-style: oblique; text-shadow: 0 0 3px white, 0 0 1px black; padding: 20px;\">\n",
    "        \n",
    "- ### Sequential Order: \n",
    "    -  ### Data ek line-by-line store hota hai."
   ]
  },
  {
   "cell_type": "code",
   "execution_count": 10,
   "id": "f10a09db-c437-4bff-bed9-d992482cf74c",
   "metadata": {
    "tags": []
   },
   "outputs": [
    {
     "data": {
      "text/markdown": [
       "10 20 30 "
      ]
     },
     "metadata": {},
     "output_type": "display_data"
    }
   ],
   "source": [
    "#include <stdio.h>\n",
    "int main(){\n",
    "\n",
    "    int array[3] = {10,20,30};\n",
    "    int length = sizeof(array) / sizeof(array[0]);\n",
    "    \n",
    "    \n",
    "    for(int i=0;i < length; i++){\n",
    "        printf(\"%d \",array[i]);\n",
    "    }\n",
    "    \n",
    "    return 0;\n",
    "}"
   ]
  },
  {
   "cell_type": "markdown",
   "id": "efd2ef91-3635-4177-aa44-e1548ce22d80",
   "metadata": {},
   "source": [
    "<img src=\"./images/3.jpg\" style=\"display: block;margin-left: auto; margin-right: auto;width:50%\">"
   ]
  },
  {
   "cell_type": "markdown",
   "id": "3f7b1b81-b606-49e9-9d1f-d592e9c2548b",
   "metadata": {},
   "source": [
    "<body style=\"font-family: Sans-serif;\">\n",
    "    <div style=\"color: black; font-size: 15px; font-style: oblique; text-shadow: 0 0 3px white, 0 0 1px black; padding: 20px;\">\n",
    "In Python"
   ]
  },
  {
   "cell_type": "code",
   "execution_count": 2,
   "id": "8da6ebd7-32b5-4714-aafb-aeaed75413da",
   "metadata": {
    "tags": []
   },
   "outputs": [],
   "source": [
    "import ctypes"
   ]
  },
  {
   "cell_type": "code",
   "execution_count": 17,
   "id": "257de3e9-3d55-485d-a626-080f209988c5",
   "metadata": {
    "tags": []
   },
   "outputs": [
    {
     "name": "stdout",
     "output_type": "stream",
     "text": [
      "10 20 30 "
     ]
    }
   ],
   "source": [
    "size = ctypes.c_int32 * 3\n",
    "array = size(10,20,30)\n",
    "\n",
    "for i in range(len(array)):\n",
    "    print(array[i],end=\" \")"
   ]
  },
  {
   "cell_type": "markdown",
   "id": "35d7e98d-9905-41ce-a6bd-9d5ce9228c73",
   "metadata": {},
   "source": [
    "<body style=\"font-family: Sans-serif;\">\n",
    "    <div style=\"color: black; font-size: 15px; font-style: oblique; text-shadow: 0 0 3px white, 0 0 1px black; padding: 20px;\">\n",
    "        \n",
    "#### Address: \n",
    "- Address ek unique number hota hai jo memory mein ek specific location ko represent karta hai.\n",
    "- Har variable, array element, ya object ka ek memory address hota hai jahan uska data store hota hai."
   ]
  },
  {
   "cell_type": "code",
   "execution_count": 2,
   "id": "6184120a-713e-4663-afd3-06f5aedc99c6",
   "metadata": {
    "tags": []
   },
   "outputs": [
    {
     "data": {
      "text/markdown": [
       "Lead Address 2426346060\n",
       "\n",
       "Address of 1st Block 2426346060 | Value 5\n",
       "\n",
       "Address of 2nd Block 2426346064 | Value 2\n",
       "\n",
       "Address of 3rd Block 2426346068 | Value 4"
      ]
     },
     "metadata": {},
     "output_type": "display_data"
    }
   ],
   "source": [
    "#include <stdio.h>\n",
    "int main(){\n",
    "\n",
    "    int marks[3] = {5,2,4};\n",
    "    \n",
    "    printf(\"Lead Address %u\",&marks);\n",
    "    printf(\"\\nAddress of 1st Block %u | Value %d\",&marks[0],marks[0]);\n",
    "    printf(\"\\nAddress of 2nd Block %u | Value %d\",&marks[1],marks[1]);\n",
    "    printf(\"\\nAddress of 3rd Block %u | Value %d\",&marks[2],marks[2]);\n",
    "    \n",
    "}"
   ]
  },
  {
   "cell_type": "markdown",
   "id": "47998511-c312-46b8-97eb-ae55eab94840",
   "metadata": {},
   "source": [
    "<body style=\"font-family: Sans-serif;\">\n",
    "    <div style=\"color: black; font-size: 15px; font-style: oblique; text-shadow: 0 0 3px white, 0 0 1px black; padding: 20px;\">\n",
    "In Python"
   ]
  },
  {
   "cell_type": "code",
   "execution_count": 4,
   "id": "2a7f3594-cb9c-4101-8c21-11f71853e5e2",
   "metadata": {
    "tags": []
   },
   "outputs": [
    {
     "name": "stdout",
     "output_type": "stream",
     "text": [
      "Lead Address: 136380447927696\n",
      "Address of 1st Block: 136380447927696 | Value 5\n",
      "Address of 2nd Block: 136380447927700 | Value 2\n",
      "Address of 3rd Block: 136380447927704 | Value 4\n"
     ]
    }
   ],
   "source": [
    "size = ctypes.c_int32 * 3\n",
    "marks = size(5,2,4)\n",
    "\n",
    "print(f\"Lead Address: {ctypes.addressof(marks)}\")\n",
    "print(f\"Address of 1st Block: {ctypes.addressof(marks) + ctypes.sizeof(marks._type_)*0} | Value {marks[0]}\")\n",
    "print(f\"Address of 2nd Block: {ctypes.addressof(marks) + ctypes.sizeof(marks._type_)*1} | Value {marks[1]}\")\n",
    "print(f\"Address of 3rd Block: {ctypes.addressof(marks) + ctypes.sizeof(marks._type_)*2} | Value {marks[2]}\")"
   ]
  },
  {
   "cell_type": "markdown",
   "id": "c2e11f51-957f-409b-ba0b-c167c884c141",
   "metadata": {},
   "source": [
    "<img src=\"./images/1.jpg\" style=\"display: block;margin-left: auto; margin-right: auto;width: 60%\">\n"
   ]
  },
  {
   "cell_type": "markdown",
   "id": "8f081be2-10d2-4c52-acc4-874daa3dc503",
   "metadata": {},
   "source": [
    "<body style=\"font-family: Sans-serif;\">\n",
    "    <div style=\"color: black; font-size: 15px; font-style: oblique; text-shadow: 0 0 3px white, 0 0 1px black; padding: 20px;\">\n",
    "        \n",
    "#### Contiguous Memory Address: \n",
    "Contiguous Memory Location ka matlab hai memory cells ek doosray ke saath continuously (bina gap ke) allocate hoti hain.\n",
    "\n",
    "\n",
    "- **Contiguous Memory** – Array ke elements ek line mein **continuous memory** mein store hote hain.\n",
    "- **Lead Address** – `&marks` ya `marks` array ka **pehla element ka address** hi hota hai (`&marks[0]`).  \n",
    "- **Element Addressing** – Har element ka address previous se **size of data type** ke barabar increment hota hai.  \n",
    "- **Integer Size Effect** – `int` ki size **4 bytes** hoti hai (most systems pe), isliye har element ka address **4 bytes** se badhta hai.  \n",
    "- **Pointer Notation** – `marks[i]` ko `*(marks + i)` se bhi access kar sakte hain.  \n",
    "\n"
   ]
  },
  {
   "cell_type": "code",
   "execution_count": 1,
   "id": "ebc750a9-08cb-47e2-becb-170d7ee9b2ff",
   "metadata": {
    "tags": []
   },
   "outputs": [
    {
     "data": {
      "text/markdown": [
       "Lead Address: 2833108540\n",
       "\n",
       "Address of marks[0]: 2833108540 | Value: 5\n",
       "\n",
       "Address of marks[1]: 2833108544 | Value: 2\n",
       "\n",
       "Address of marks[2]: 2833108548 | Value: 4\n",
       "\n"
      ]
     },
     "metadata": {},
     "output_type": "display_data"
    }
   ],
   "source": [
    "#include <stdio.h>\n",
    "int main() {\n",
    "    int marks[3] = {5, 2, 4};\n",
    "\n",
    "    printf(\"Lead Address: %u\\n\", marks);\n",
    "\n",
    "    for (int i = 0; i < 3; i++) {\n",
    "        printf(\"Address of marks[%d]: %u | Value: %d\\n\", i, (marks + i), *(marks + i));\n",
    "    }\n",
    "\n",
    "    return 0;\n",
    "}"
   ]
  },
  {
   "cell_type": "markdown",
   "id": "5d39f951-4343-42cc-8837-6144dbda5f0b",
   "metadata": {
    "tags": []
   },
   "source": [
    "<body style=\"font-family: Sans-serif;\">\n",
    "    <div style=\"color: black; font-size: 15px; font-style: oblique; text-shadow: 0 0 3px white, 0 0 1px black; padding: 20px;\">\n",
    "In Python"
   ]
  },
  {
   "cell_type": "code",
   "execution_count": 5,
   "id": "9fbb094c-f49f-4b42-a615-e15667c6f1af",
   "metadata": {
    "tags": []
   },
   "outputs": [
    {
     "name": "stdout",
     "output_type": "stream",
     "text": [
      "Lead Address: 139793616447376\n",
      "Address of marks[0]: 139793616447376 | Value: 5\n",
      "Address of marks[1]: 139793616447380 | Value: 2\n",
      "Address of marks[2]: 139793616447384 | Value: 4\n"
     ]
    }
   ],
   "source": [
    "size = (ctypes.c_int * 3)\n",
    "marks = size(5, 2, 4)\n",
    "\n",
    "print(f\"Lead Address: {ctypes.addressof(marks)}\")\n",
    "\n",
    "for i in range(3):\n",
    "    address = ctypes.addressof(marks) + i * ctypes.sizeof(ctypes.c_int)\n",
    "    print(f\"Address of marks[{i}]: {address} | Value: {marks[i]}\")"
   ]
  },
  {
   "cell_type": "markdown",
   "id": "cbaa131c-7b54-46c2-9520-9b6743c8621d",
   "metadata": {},
   "source": [
    "<body style=\"font-family: Sans-serif;\">\n",
    "    <div style=\"color: black; font-size: 15px; font-style: oblique; text-shadow: 0 0 3px white, 0 0 1px black; padding: 20px;\">\n",
    "\n",
    "**Arrays ka lead address pehle element ka address hota hai, aur har next element ka address previous se data type size ke barabar badhta hai.**"
   ]
  },
  {
   "cell_type": "markdown",
   "id": "7e522c56-343e-42ef-b1d8-a52f3b88fd4c",
   "metadata": {},
   "source": [
    "<h1 style=\"text-align:center; color:#005bbd; font-size:20px; font-family:Sans-serif; font-style: oblique; text-shadow: 0 0 3px white, 0 0 1px Black;\">\n",
    "   Fix (Static) And Dynamic Size Arrays\n",
    "</h1>"
   ]
  },
  {
   "cell_type": "markdown",
   "id": "1e9e77c4-394c-4327-be12-0df0a5aae481",
   "metadata": {},
   "source": [
    "<body style=\"font-family: Sans-serif;\">\n",
    "    <div style=\"color: black; font-size: 15px; font-style: oblique; text-shadow: 0 0 3px white, 0 0 1px black; padding: 20px;\">\n",
    "\n",
    "#### 1 Fixed Size Array:\n",
    "- Fixed size arrays wo hote hain jinka size compile-time pe fix hota hai. \n",
    "- In arrays ka size execution ke dauraan change nahi hota.\n",
    "- Jab fixed-size array declare hota hai, uske liye stack memory ya static memory reserve hoti hai.\n",
    "- Har element contiguous memory locations (ek ke baad ek) mein store hota hai.\n",
    "- Memory ek baar allocate hone ke baad change nahi hoti.  \n",
    "- Python mein built-in list dynamic hoti hai, magar agar array module ya Ctypes, Numpy array use karein, toh fixed-size behavior milta hai."
   ]
  },
  {
   "cell_type": "code",
   "execution_count": 3,
   "id": "25cd0262-6bbf-4923-babf-a0ae4fb1a77e",
   "metadata": {
    "tags": []
   },
   "outputs": [
    {
     "data": {
      "text/markdown": [
       "Lead Address: 2839011616\n",
       "\n",
       "arr[0] = 10 | Address: 2839011616\n",
       "\n",
       "arr[1] = 20 | Address: 2839011620\n",
       "\n",
       "arr[2] = 30 | Address: 2839011624\n",
       "\n",
       "arr[3] = 40 | Address: 2839011628\n",
       "\n",
       "arr[4] = 50 | Address: 2839011632\n",
       "\n"
      ]
     },
     "metadata": {},
     "output_type": "display_data"
    }
   ],
   "source": [
    "#include <stdio.h>\n",
    "\n",
    "int main() {\n",
    "    int arr[5] = {10, 20, 30, 40, 50};  // Fixed-size array\n",
    "\n",
    "    printf(\"Lead Address: %u\\n\", arr);  // Base address of array\n",
    "    for (int i = 0; i < 5; i++) {\n",
    "        printf(\"arr[%d] = %d | Address: %u\\n\", i, arr[i], &arr[i]);\n",
    "    }\n",
    "\n",
    "    return 0;\n",
    "}\n"
   ]
  },
  {
   "cell_type": "markdown",
   "id": "e406cbae-824d-43d7-93b3-bc8b4efb4aae",
   "metadata": {
    "tags": []
   },
   "source": [
    "<body style=\"font-family: Sans-serif;\">\n",
    "    <div style=\"color: black; font-size: 15px; font-style: oblique; text-shadow: 0 0 3px white, 0 0 1px black; padding: 20px;\">\n",
    "In Python"
   ]
  },
  {
   "cell_type": "code",
   "execution_count": 6,
   "id": "c5b9f73b-79cf-4381-9640-d6eecd2e021d",
   "metadata": {
    "tags": []
   },
   "outputs": [
    {
     "name": "stdout",
     "output_type": "stream",
     "text": [
      "Lead Address: 127513220708592\n",
      "arr[0] = 10 | Address: 127513220708592\n",
      "arr[1] = 20 | Address: 127513220708596\n",
      "arr[2] = 30 | Address: 127513220708600\n",
      "arr[3] = 40 | Address: 127513220708604\n",
      "arr[4] = 50 | Address: 127513220708608\n"
     ]
    }
   ],
   "source": [
    "size = (ctypes.c_int * 5)\n",
    "arr = size(10, 20, 30, 40, 50)  # Fixed-size array\n",
    "\n",
    "print(f\"Lead Address: {ctypes.addressof(arr)}\")\n",
    "\n",
    "for i in range(5):\n",
    "    print(f\"arr[{i}] = {arr[i]} | Address: {ctypes.addressof(arr) + i * ctypes.sizeof(ctypes.c_int)}\")"
   ]
  },
  {
   "cell_type": "markdown",
   "id": "3a722052-22bc-4e88-ae43-fc97650cdd9b",
   "metadata": {},
   "source": [
    "<body style=\"font-family: Sans-serif;\">\n",
    "    <div style=\"color: black; font-size: 15px; font-style: oblique; text-shadow: 0 0 3px white, 0 0 1px black; padding: 20px;\">\n",
    "\n",
    "#### 2 Dynamic Size Array:\n",
    "-  Dynamic size arrays wo hote hain jin ka size runtime pe allocate hota hai. \n",
    "-  Matlab, aap execution ke dauraan array ka size badha ya ghata sakte hain.\n",
    "-  Dynamic arrays heap memory use karte hain.\n",
    "- Aap malloc(), calloc(), realloc() (C mein) ya list (Python mein) ka use karke array ka size runtime pe decide kar sakte hain."
   ]
  },
  {
   "cell_type": "code",
   "execution_count": 5,
   "id": "17e88161-a225-4757-acfa-9d057045f2eb",
   "metadata": {
    "tags": []
   },
   "outputs": [
    {
     "data": {
      "text/markdown": [
       "Enter size of array: "
      ]
     },
     "metadata": {},
     "output_type": "display_data"
    },
    {
     "name": "stdin",
     "output_type": "stream",
     "text": [
      " 3\n"
     ]
    },
    {
     "data": {
      "text/markdown": [
       "arr[0] = 1 | Address: 3724998048\n",
       "\n",
       "arr[1] = 2 | Address: 3724998052\n",
       "\n",
       "arr[2] = 3 | Address: 3724998056\n",
       "\n"
      ]
     },
     "metadata": {},
     "output_type": "display_data"
    }
   ],
   "source": [
    "#include <stdio.h>\n",
    "#include <stdlib.h>  // Required for malloc() and free()\n",
    "\n",
    "int main() {\n",
    "    int n;\n",
    "    printf(\"Enter size of array: \");\n",
    "    scanf(\"%d\", &n);\n",
    "\n",
    "    int *arr = (int*)malloc(n * sizeof(int));  // Dynamic array allocation\n",
    "    \n",
    "    // insert Value\n",
    "    for (int i = 0; i < n; i++) {\n",
    "        arr[i] = i + 1;\n",
    "    }\n",
    "    \n",
    "    // print value\n",
    "    for (int i = 0; i < n; i++) {\n",
    "        printf(\"arr[%d] = %d | Address: %u\\n\", i, arr[i], &arr[i]);\n",
    "    }\n",
    "\n",
    "    free(arr);  // Free allocated memory\n",
    "    return 0;\n",
    "}"
   ]
  },
  {
   "cell_type": "markdown",
   "id": "8c68c6da-656f-48ae-9951-aed5303cf88d",
   "metadata": {},
   "source": [
    "<body style=\"font-family: Sans-serif;\">\n",
    "    <div style=\"color: black; font-size: 15px; font-style: oblique; text-shadow: 0 0 3px white, 0 0 1px black; padding: 20px;\">\n",
    "In Python (i use list)"
   ]
  },
  {
   "cell_type": "code",
   "execution_count": 2,
   "id": "c38a88d9-de18-4bbf-b38f-c41dc979a35c",
   "metadata": {
    "tags": []
   },
   "outputs": [
    {
     "name": "stdin",
     "output_type": "stream",
     "text": [
      "Enter size of array:  3\n"
     ]
    },
    {
     "name": "stdout",
     "output_type": "stream",
     "text": [
      "arr[0] = 1 | Address: 137632209174768\n",
      "arr[1] = 2 | Address: 137632209174800\n",
      "arr[2] = 3 | Address: 137632209174832\n"
     ]
    }
   ],
   "source": [
    "arr = []  # Empty list\n",
    "\n",
    "n = int(input(\"Enter size of array: \"))  # Runtime pe size decide ho ga\n",
    "for i in range(n):\n",
    "    arr.append(i + 1)  # Dynamically add elements\n",
    "\n",
    "for i in range(n):\n",
    "    print(f\"arr[{i}] = {arr[i]} | Address: {id(arr[i])}\")\n"
   ]
  },
  {
   "cell_type": "markdown",
   "id": "b1ce2d2c-e603-44a1-80f1-6caf11e0d06c",
   "metadata": {},
   "source": [
    "<h1 style=\"text-align:center; color:#005bbd; font-size:20px; font-family:Sans-serif; font-style: oblique; text-shadow: 0 0 3px white, 0 0 1px Black;\">\n",
    " Homogeneous vs Non-Homogeneous\n",
    "</h1>"
   ]
  },
  {
   "cell_type": "markdown",
   "id": "eafba849-f3ee-4d70-96db-53ca86da3fd7",
   "metadata": {},
   "source": [
    "<body style=\"font-family: Sans-serif;\">\n",
    "    <div style=\"color: black; font-size: 15px; font-style: oblique; text-shadow: 0 0 3px white, 0 0 1px black; padding: 20px;\">\n",
    "\n",
    "#### 1 Homogeneous Data Structure        \n",
    "    \n",
    "-  Homogeneous ka matlab hai \"same type ka data\". \n",
    "- Iska matlab ye hai ke ek data structure sirf ek hi type ka data store karega, jaise sirf integers, sirf floats, ya sirf strings.\n",
    "        \n",
    "-  Ye data structures memory-efficient hote hain kyunki har element same type ka hota hai, is wajah se CPU fast processing karta hai.\n",
    "\n",
    "-  ✅ Advantage: Fast execution, kam memory usage\n",
    "- ❌ Disadvantage: Flexibility kam hoti hai (Sirf ek hi type ka data store ho sakta hai)"
   ]
  },
  {
   "cell_type": "code",
   "execution_count": 1,
   "id": "db81b67f-92fa-418a-a770-8d2bd0973c9e",
   "metadata": {
    "tags": []
   },
   "outputs": [
    {
     "data": {
      "text/markdown": [
       "Marks Array:\n",
       "\n",
       "marks[0] = 85\n",
       "\n",
       "marks[1] = 90\n",
       "\n",
       "marks[2] = 78\n",
       "\n",
       "marks[3] = 88\n",
       "\n",
       "marks[4] = 76\n",
       "\n"
      ]
     },
     "metadata": {},
     "output_type": "display_data"
    }
   ],
   "source": [
    "#include <stdio.h>\n",
    "int main() {\n",
    "    int marks[5] = {85, 90, 78, 88, 76};  // Homogeneous (all integers)\n",
    "\n",
    "    printf(\"Marks Array:\\n\");\n",
    "    for (int i = 0; i < 5; i++) {\n",
    "        printf(\"marks[%d] = %d\\n\", i, marks[i]);\n",
    "    }\n",
    "    return 0;\n",
    "}"
   ]
  },
  {
   "cell_type": "markdown",
   "id": "641e92ac-8b53-40cb-b9e5-eb6faa71bcce",
   "metadata": {
    "tags": []
   },
   "source": [
    "<body style=\"font-family: Sans-serif;\">\n",
    "    <div style=\"color: black; font-size: 15px; font-style: oblique; text-shadow: 0 0 3px white, 0 0 1px black; padding: 20px;\">\n",
    "In Python"
   ]
  },
  {
   "cell_type": "code",
   "execution_count": 1,
   "id": "7cf7748a-ff0a-4a5d-a3e4-33b86a332d9c",
   "metadata": {
    "tags": []
   },
   "outputs": [
    {
     "name": "stdout",
     "output_type": "stream",
     "text": [
      "Marks Array:\n",
      "marks[0] = 85\n",
      "marks[1] = 90\n",
      "marks[2] = 78\n",
      "marks[3] = 88\n",
      "marks[4] = 76\n"
     ]
    }
   ],
   "source": [
    "import numpy as np\n",
    "marks = np.array([85, 90, 78, 88, 76])  # Homogeneous (all integers)\n",
    "\n",
    "print(\"Marks Array:\")\n",
    "for i in range(len(marks)):\n",
    "    print(f\"marks[{i}] = {marks[i]}\")"
   ]
  },
  {
   "cell_type": "markdown",
   "id": "166f72d2-1fc0-4870-a904-bcda355db321",
   "metadata": {},
   "source": [
    "<body style=\"font-family: Sans-serif;\">\n",
    "    <div style=\"color: black; font-size: 15px; font-style: oblique; text-shadow: 0 0 3px white, 0 0 1px black; padding: 20px;\">\n",
    "        \n",
    "#### 2 Non-Homogeneous Data Structure\n",
    "        \n",
    "#### Non-homogeneous ka matlab hai \"multiple types ka data\". \n",
    "-  Iska matlab hai ke ek data structure alag-alag data types store kar sakta hai, jaise integers, strings, floats, booleans, etc.\n",
    "\n",
    "- Ye data structures zyada flexible hote hain kyunki kisi bhi type ka data rakh sakte hain, lekin slow hote hain kyunki har element ka type check karna padta hai.\n",
    "        \n",
    "- Example: Python Lists, Tuples, Dictionaries, JSON Data\n",
    "\n",
    "- ✅ Advantage: Zyada flexible, kisi bhi type ka data store kar sakta hai\n",
    "- ❌ Disadvantage: Slow execution, zyada memory consume karta hai"
   ]
  },
  {
   "cell_type": "code",
   "execution_count": 3,
   "id": "faa9e5a8-6de0-4759-a9a0-6f5b42afe349",
   "metadata": {
    "tags": []
   },
   "outputs": [
    {
     "data": {
      "text/markdown": [
       "Student Details:\n",
       "\n",
       "Name: Ali\n",
       "\n",
       "Marks: 80\n",
       "\n",
       "Percentage: 89.50\n",
       "\n"
      ]
     },
     "metadata": {},
     "output_type": "display_data"
    }
   ],
   "source": [
    "#include <stdio.h>\n",
    "\n",
    "// Non-Homogeneous Structure\n",
    "struct Student {\n",
    "    char name[50];\n",
    "    int marks;\n",
    "    float per;\n",
    "};\n",
    "\n",
    "int main() {\n",
    "    struct Student s1 = {\"Ali\", 80, 89.5}; // Direct Initialization\n",
    "\n",
    "    printf(\"Student Details:\\n\");\n",
    "    printf(\"Name: %s\\n\", s1.name);\n",
    "    printf(\"Marks: %d\\n\", s1.marks);\n",
    "    printf(\"Percentage: %.2f\\n\", s1.per);\n",
    "    return 0;\n",
    "}\n"
   ]
  },
  {
   "cell_type": "markdown",
   "id": "4e978e2c-8a3c-482c-9dc4-b53687568f4c",
   "metadata": {},
   "source": [
    "<body style=\"font-family: Sans-serif;\">\n",
    "    <div style=\"color: black; font-size: 15px; font-style: oblique; text-shadow: 0 0 3px white, 0 0 1px black; padding: 20px;\">\n",
    "In Python"
   ]
  },
  {
   "cell_type": "code",
   "execution_count": 1,
   "id": "3fb8dffe-fdb2-4c3a-b506-bffcb6590e1c",
   "metadata": {
    "tags": []
   },
   "outputs": [
    {
     "name": "stdout",
     "output_type": "stream",
     "text": [
      "Student Details:\n",
      "Name: Ali\n",
      "Marks: 20\n",
      "Percentage: 89.5\n"
     ]
    }
   ],
   "source": [
    "student = [\"Ali\", 20, 89.5]  # Non-Homogeneous (String, Integer, Float)\n",
    "\n",
    "print(\"Student Details:\")\n",
    "print(\"Name:\", student[0])\n",
    "print(\"Marks:\", student[1])\n",
    "print(\"Percentage:\", student[2])"
   ]
  }
 ],
 "metadata": {
  "kernelspec": {
   "display_name": "Python 3 (ipykernel)",
   "language": "python",
   "name": "python3"
  },
  "language_info": {
   "codemirror_mode": {
    "name": "ipython",
    "version": 3
   },
   "file_extension": ".py",
   "mimetype": "text/x-python",
   "name": "python",
   "nbconvert_exporter": "python",
   "pygments_lexer": "ipython3",
   "version": "3.10.12"
  }
 },
 "nbformat": 4,
 "nbformat_minor": 5
}
