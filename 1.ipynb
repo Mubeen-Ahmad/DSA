{
 "cells": [
  {
   "cell_type": "markdown",
   "id": "fec043c0-c627-4f80-a308-52957f34ce63",
   "metadata": {
    "tags": []
   },
   "source": [
    "<h1 style=\"text-align:center; color:#005bbd; font-size:20px; font-family:Sans-serif; font-style: oblique; text-shadow: 0 0 3px white, 0 0 1px Black;\">\n",
    "   Scalar\n",
    "</h1>"
   ]
  },
  {
   "cell_type": "markdown",
   "id": "c8795c38-f39b-4b98-bda8-4e33ef12d6e4",
   "metadata": {},
   "source": [
    "<body style=\"font-family: Sans-serif;\">\n",
    "    <div style=\"color: black; font-size: 18px; font-style: oblique; text-shadow: 0 0 3px white, 0 0 1px black; padding: 20px;\">\n",
    "\n",
    "🔹 1. Scaler aik single numerical value hota hai, jo kisi bhi single quantity ko represent karta hai. \n"
   ]
  },
  {
   "cell_type": "code",
   "execution_count": 1,
   "id": "0f19be31-8073-4bef-b6e3-db485c8a8ac0",
   "metadata": {},
   "outputs": [
    {
     "data": {
      "text/plain": [
       "37.5"
      ]
     },
     "execution_count": 1,
     "metadata": {},
     "output_type": "execute_result"
    }
   ],
   "source": [
    "x = 37.5\n",
    "x"
   ]
  },
  {
   "cell_type": "code",
   "execution_count": 2,
   "id": "784010bc-2b9f-4a3d-9639-b0e7ddb1ab71",
   "metadata": {
    "tags": []
   },
   "outputs": [
    {
     "data": {
      "text/plain": [
       "58"
      ]
     },
     "execution_count": 2,
     "metadata": {},
     "output_type": "execute_result"
    }
   ],
   "source": [
    "y = 58\n",
    "y"
   ]
  },
  {
   "cell_type": "markdown",
   "id": "6cc40d3a-10e3-4e95-890c-61d48aea49ee",
   "metadata": {},
   "source": [
    "<body style=\"font-family: Sans-serif;\">\n",
    "    <div style=\"color: black; font-size: 18px; font-style: oblique; text-shadow: 0 0 3px white, 0 0 1px black; padding: 20px;\">\n",
    "      <ul>🔹 2.  Vector (1D Array)<br><br>\n",
    "          <ul>\n",
    "              1-dimensional array jo multiple numbers ko ek saath represent karta hai.\n",
    "          </ul></ul>\n",
    "        <ul>Mathematical Form:\\[\n",
    "v = \\begin{bmatrix} 3 \\\\ 7 \\\\ 2 \\end{bmatrix}\n",
    "\\]\n",
    "</body>"
   ]
  },
  {
   "cell_type": "code",
   "execution_count": 4,
   "id": "84ebae8d-35ca-45ac-ad02-2f55d3e8dbd9",
   "metadata": {
    "tags": []
   },
   "outputs": [
    {
     "data": {
      "text/plain": [
       "[3, 7, 2]"
      ]
     },
     "execution_count": 4,
     "metadata": {},
     "output_type": "execute_result"
    }
   ],
   "source": [
    "v = [3,7,2]\n",
    "v"
   ]
  },
  {
   "cell_type": "markdown",
   "id": "31b2228a-45f8-41ca-8fca-15c4564c941e",
   "metadata": {},
   "source": [
    "<h1 style=\"text-align:center; color:#005bbd; font-size:20px; font-family:Sans-serif; font-style: oblique; text-shadow: 0 0 3px white, 0 0 1px Black;\">\n",
    "    Array\n",
    "</h1>"
   ]
  },
  {
   "cell_type": "markdown",
   "id": "c93dee00-5935-4aea-b21a-b3b171bba20d",
   "metadata": {},
   "source": [
    "<body style=\"font-family: Sans-serif;\">\n",
    "    <div style=\"color: black; font-size: 18px; font-style: oblique; text-shadow: 0 0 3px white, 0 0 1px black; padding: 20px;\">\n",
    "      <ul>🔹 3.  Array (nD Array)<br><br>\n",
    "          <ul>\n",
    "              Rows aur columns ka collection, jisme multiple values hoti hain.\n",
    "          </ul></ul>\n",
    "        <ul>Mathematical Form:\\[\n",
    "M = \\begin{bmatrix} 1 & 2 & 3 \\\\ 4 & 5 & 6 \\\\ 7 & 8 & 9 \\end{bmatrix}\n",
    "\\]\n",
    "</body>"
   ]
  },
  {
   "cell_type": "code",
   "execution_count": 8,
   "id": "b39c49e6-c541-42f8-b649-19dae85d9e04",
   "metadata": {
    "tags": []
   },
   "outputs": [
    {
     "data": {
      "text/plain": [
       "[[1, 2, 3], [4, 5, 6], [7, 8, 9]]"
      ]
     },
     "execution_count": 8,
     "metadata": {},
     "output_type": "execute_result"
    }
   ],
   "source": [
    "matrix = [[1, 2, 3], \n",
    "          [4, 5, 6], \n",
    "          [7, 8, 9]]\n",
    "\n",
    "matrix"
   ]
  },
  {
   "cell_type": "markdown",
   "id": "b9ef143c-c105-4a15-bd02-cb6354393fa5",
   "metadata": {
    "tags": []
   },
   "source": [
    "<h1 style=\"text-align:center; color:#005bbd; font-size:20px; font-family:Sans-serif; font-style: oblique; text-shadow: 0 0 3px white, 0 0 1px Black;\">\n",
    "    Tensor\n",
    "</h1>"
   ]
  },
  {
   "cell_type": "markdown",
   "id": "374282c0-830f-4a1f-be89-903523a9402f",
   "metadata": {
    "tags": []
   },
   "source": [
    "<body style=\"font-family: Sans-serif;\">\n",
    "    <div style=\"color: black; font-size: 18px; font-style: oblique; text-shadow: 0 0 3px white, 0 0 1px black; padding: 20px;\">\n",
    "      <ul>🔹 4.  Tensor (nD Array)<br><br>\n",
    "          <ul>\n",
    "              Multi-dimensional numerical data representation, jo high-dimensional data ko store karta hai.\n",
    "          </ul></ul>\n",
    "        <ul>Mathematical Form:\\[\n",
    "X \\in \\mathbb{R}^{3 \\times 3 \\times 3}\n",
    "\\]\\[\n",
    "X =\n",
    "\\begin{bmatrix} \n",
    "    \\begin{bmatrix} x_{111} & x_{112} & x_{113} \\\\ x_{121} & x_{122} & x_{123} \\\\ x_{131} & x_{132} & x_{133} \\end{bmatrix},  \n",
    "    \\begin{bmatrix} x_{211} & x_{212} & x_{213} \\\\ x_{221} & x_{222} & x_{223} \\\\ x_{231} & x_{232} & x_{233} \\end{bmatrix},  \n",
    "    \\begin{bmatrix} x_{311} & x_{312} & x_{313} \\\\ x_{321} & x_{322} & x_{323} \\\\ x_{331} & x_{332} & x_{333} \\end{bmatrix} \n",
    "\\end{bmatrix}\n",
    "\\]\n",
    "\n",
    "</body>"
   ]
  },
  {
   "cell_type": "code",
   "execution_count": 9,
   "id": "664a6883-875f-455e-804e-028128d81243",
   "metadata": {
    "tags": []
   },
   "outputs": [
    {
     "data": {
      "text/plain": [
       "array([[[0.24546699, 0.18334452, 0.90867676],\n",
       "        [0.44079729, 0.33229618, 0.51928196],\n",
       "        [0.2481018 , 0.28683176, 0.65426387]],\n",
       "\n",
       "       [[0.40930544, 0.32506317, 0.95188303],\n",
       "        [0.7533051 , 0.27934405, 0.6663079 ],\n",
       "        [0.36425784, 0.32107909, 0.98834815]],\n",
       "\n",
       "       [[0.72787665, 0.933588  , 0.18384031],\n",
       "        [0.38244434, 0.25719872, 0.26526888],\n",
       "        [0.64838591, 0.7220731 , 0.04701444]]])"
      ]
     },
     "execution_count": 9,
     "metadata": {},
     "output_type": "execute_result"
    }
   ],
   "source": [
    "import numpy as np\n",
    "tensor = np.random.rand(3, 3, 3)  #\n",
    "tensor"
   ]
  },
  {
   "cell_type": "markdown",
   "id": "18606ebb-7dc8-47bd-aaff-1143104b7228",
   "metadata": {},
   "source": [
    "<body style=\"font-family: Sans-serif;\">\n",
    "    <div style=\"color: black; font-size: 18px; font-style: oblique; text-shadow: 0 0 3px white, 0 0 1px black; padding: 20px;\">\n",
    "      Array Vs Tensor\n",
    "        <ul>Array:\n",
    "            <ul>Ek simple data structure jo 1D, 2D ya 3D data ko store kia jata hy.\n",
    "</body>"
   ]
  },
  {
   "cell_type": "markdown",
   "id": "f95ccd35-13f7-4111-92d7-0fdfbc1f76fc",
   "metadata": {},
   "source": [
    "| **Feature**                    | **Array**                            | **Tensor**                             |\n",
    "|---------------------------------|--------------------------------------|----------------------------------------|\n",
    "| **Definition**                  | Ye ek simple data structure hai jo elements ko ek grid ya list mein store karta hai. | Ye bhi ek multi-dimensional array hota hai lekin zyada powerful aur optimized hota hai complex computations ke liye. |\n",
    "| **Dimensions**                  | Array 1D, 2D, 3D, etc. ho sakta hai. | Tensor bhi multi-dimensional ho sakta hai, lekin zyada high-dimensional data ko handle karne ke liye design kiya gaya hai. |\n",
    "| **Computation**                 | Ye CPU pe kaam karta hai, GPU ya TPU ka support nahi hota. | Tensor GPU/TPU pe bhi run ho sakta hai, jo zyada fast computation ke liye use hota hai. |\n",
    "| **Usage**                       | Ye mostly data manipulation aur general-purpose tasks ke liye use hota hai. | Ye Deep Learning aur Machine Learning tasks ke liye specifically design kiya gaya hai. |\n",
    "| **Memory Handling**             | Medium-size datasets handle kar sakta hai. | Large datasets aur memory-intensive tasks ko efficiently handle karta hai, khas taur pe Deep Learning mein. |\n",
    "| **Operations**                  | Simple mathematical operations jaise addition, subtraction, etc. | Zyada complex operations, automatic differentiation (backpropagation) aur optimized functions ko support karta hai. |\n",
    "| **Libraries**                   | NumPy mein use hota hai. | PyTorch aur TensorFlow jaise libraries mein use hota hai. |\n"
   ]
  },
  {
   "cell_type": "markdown",
   "id": "a96b7a46-fe46-4b56-b30a-5a5e954f5f7f",
   "metadata": {},
   "source": [
    "---\n",
    "| **Feature**                         | **NumPy Array** (`np.array`)        | **Tensor** (`torch.Tensor` / `tf.Tensor`) |\n",
    "|-------------------------------------|-------------------------------------|------------------------------------------|\n",
    "| **GPU Support?**                    | ❌ Nahi                            | ✅ Haan (GPU aur TPU pe chal sakta hai)    |\n",
    "| **Auto-differentiation (Backpropagation)?** | ❌ Nahi                            | ✅ Haan (Deep Learning ke liye zaroori)   |\n",
    "| **Performance**                     | ⚠️ Large data ke liye slower       | 🚀 Optimized for ML/DL (Fast aur Efficient) |\n",
    "| **Usage**                           | Traditional ML, Data Processing    | Deep Learning, Neural Networks           |\n",
    "\n",
    "✅ **Agar aap ML kar rahe hain → NumPy**  \n",
    "✅ **Agar aap Deep Learning kar rahe hain → Tensor**"
   ]
  },
  {
   "cell_type": "markdown",
   "id": "7190963f-430f-4329-8694-12be1ab414c5",
   "metadata": {},
   "source": [
    "--- \n",
    "<body style=\"font-family: Sans-serif;\">\n",
    "    <div style=\"color: black; font-size: 18px; font-style: oblique; text-shadow: 0 0 3px white, 0 0 1px black; padding: 20px;\">\n",
    "        \n",
    "Mathematics mein **array** aik **fixed-dimensional structure** hota hai jo mostly **vectors (1D) aur matrices (2D)** ki form mein use hota hai. \n",
    "\n",
    "- Ye **linear algebra** ke liye important hota hai aur simple operations jaise **addition, multiplication, transpose** par based hota hai.  \n",
    "        \n",
    "Dusri taraf, **tensor** ek **generalized mathematical object** hai jo **higher dimensions (nD)** tak extend karta hai. \n",
    "\n",
    "- Ye **multi-dimensional relationships** ko define karne ke liye use hota hai, jaisay **deep learning, physics (relativity), aur mechanics** mein complex transformations ke liye. Mathematically, **har array tensor ho sakta hai, lekin har tensor sirf array nahi hota** kyunki tensors higher-order relationships bhi represent kar sakte hain.\n",
    "     \n",
    "Agar **array** ko **tensor** ki generalization samjha jaye, to **har array ko tensor kaha ja sakta hai**, magar har tensor ko sirf array nahi kaha ja sakta kyunki tensors **higher-dimensional relationships** ko bhi represent karte hain.  \n",
    "\n",
    " **Example 1: Array as a Tensor**  \n",
    "        \n",
    "Ek **1D array (vector)** ya **2D array (matrix)** ko **tensor** bhi kaha ja sakta hai kyunki ye **0D (scalar), 1D (vector), aur 2D (matrix)** ka representation hota hai.  \n",
    "        \n",
    "<ul>\\[ v = \\begin{bmatrix} 1 & 2 \\\\ 3 & 4 \\end{bmatrix}\\]</ul>  \n",
    "        \n",
    "        \n",
    "Ye ek **2D array bhi hai aur ek 2nd order tensor bhi.**  \n",
    "\n",
    "---\n",
    "        \n",
    "**Example 2: Tensor That is Not Just an Array**\n",
    "        \n",
    "Ek **4D tensor** jo AI aur physics mein use hota hai: \n",
    "        \n",
    "<ul>\\[\n",
    "T_{ijkl}\n",
    "\\]\n",
    "        </ul>        \n",
    "        \n",
    "Ye **higher-dimensional object** hai jo **simple array se zyada complex relationships** ko define karta hai"
   ]
  }
 ],
 "metadata": {
  "kernelspec": {
   "display_name": "Python 3 (ipykernel)",
   "language": "python",
   "name": "python3"
  },
  "language_info": {
   "codemirror_mode": {
    "name": "ipython",
    "version": 3
   },
   "file_extension": ".py",
   "mimetype": "text/x-python",
   "name": "python",
   "nbconvert_exporter": "python",
   "pygments_lexer": "ipython3",
   "version": "3.10.12"
  }
 },
 "nbformat": 4,
 "nbformat_minor": 5
}
